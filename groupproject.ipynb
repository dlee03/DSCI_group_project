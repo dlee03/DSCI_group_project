{
 "cells": [
  {
   "cell_type": "markdown",
   "id": "18ec4afc",
   "metadata": {},
   "source": [
    "DSCI100/002 Group 5\n",
    "\n",
    "Decoding Legendary Pokemon "
   ]
  },
  {
   "cell_type": "markdown",
   "id": "94c1905c",
   "metadata": {},
   "source": [
    "Introduction:\n",
    "\n",
    "   Pokemon is an entertainment franchise created by Nintendo that surrounds a make-believe world where people catch, train and battle creatures known as Pokemon (Pokemon, 2015). The Nintendo company continues to expand the world of Pokemon, creating new regions and Pokemon for eager fans to discover, train and battle.\n",
    "    The Pokemon are created with various statistics, appearances and personalities. In the games, which our data set and analysis are focused on, we as the player create teams of Pokemon and travel across various regions to battle other trainers and wild Pokemon (Padilla, 2003). All Pokemon have set statistics determining how powerful they are, with the highly desirable and exclusive  “Legendary Pokemon” that tend to have much higher statistics than most of the non-legendaries. \n",
    "    \n",
    "   Our predictive question is to determine whether a hypothetical Pokemon we create with random statistics is considered legendary. We will analyse different statistics of all the Pokemon up to the sixth generation, the Pokemon X and Y games, to determine what constitutes a legendary. Using our findings we will be able to create a model where we can create a new Pokemon and determine whether it would be considered a legendary or not.\n"
   ]
  },
  {
   "cell_type": "code",
   "execution_count": 4,
   "id": "b3f704b8-a341-4448-89d2-212efb5afc1d",
   "metadata": {},
   "outputs": [
    {
     "name": "stderr",
     "output_type": "stream",
     "text": [
      "also installing the dependencies ‘recipes’, ‘purrr’\n",
      "\n",
      "\n",
      "Warning message in install.packages(\"themis\"):\n",
      "“installation of package ‘purrr’ had non-zero exit status”\n",
      "Warning message in install.packages(\"themis\"):\n",
      "“installation of package ‘recipes’ had non-zero exit status”\n",
      "Warning message in install.packages(\"themis\"):\n",
      "“installation of package ‘themis’ had non-zero exit status”\n",
      "Updating HTML index of packages in '.Library'\n",
      "\n",
      "Making 'packages.html' ...\n",
      " done\n",
      "\n"
     ]
    }
   ],
   "source": [
    "install.packages(\"themis\")"
   ]
  },
  {
   "cell_type": "markdown",
   "id": "7cc808ea-ccdb-4e6a-9821-a86ea9d09a4e",
   "metadata": {},
   "source": [
    "The 'themis' package was used to further organize unbalanced data as our dataset mainly contained 'unlengendary pokemon', the clustering would have a lower accuracy. This is due to most of the pokemon being automatically classified as unlegendary even if it's supposed to be legendary.\n",
    "\n",
    "Please remove the hashtag when running this line, then add the hashtag back before restarting and running the kernel. "
   ]
  },
  {
   "cell_type": "code",
   "execution_count": 6,
   "id": "c2827bcc",
   "metadata": {},
   "outputs": [
    {
     "ename": "ERROR",
     "evalue": "Error: package or namespace load failed for ‘tidymodels’ in loadNamespace(j <- i[[1L]], c(lib.loc, .libPaths()), versionCheck = vI[[j]]):\n there is no package called ‘purrr’\n",
     "output_type": "error",
     "traceback": [
      "Error: package or namespace load failed for ‘tidymodels’ in loadNamespace(j <- i[[1L]], c(lib.loc, .libPaths()), versionCheck = vI[[j]]):\n there is no package called ‘purrr’\nTraceback:\n",
      "1. library(tidymodels)",
      "2. tryCatch({\n .     attr(package, \"LibPath\") <- which.lib.loc\n .     ns <- loadNamespace(package, lib.loc)\n .     env <- attachNamespace(ns, pos = pos, deps, exclude, include.only)\n . }, error = function(e) {\n .     P <- if (!is.null(cc <- conditionCall(e))) \n .         paste(\" in\", deparse(cc)[1L])\n .     else \"\"\n .     msg <- gettextf(\"package or namespace load failed for %s%s:\\n %s\", \n .         sQuote(package), P, conditionMessage(e))\n .     if (logical.return && !quietly) \n .         message(paste(\"Error:\", msg), domain = NA)\n .     else stop(msg, call. = FALSE, domain = NA)\n . })",
      "3. tryCatchList(expr, classes, parentenv, handlers)",
      "4. tryCatchOne(expr, names, parentenv, handlers[[1L]])",
      "5. value[[3L]](cond)",
      "6. stop(msg, call. = FALSE, domain = NA)"
     ]
    }
   ],
   "source": [
    "#loading required libraries for the analysis. Install the packages if they are not previously installed.\n",
    "library(rvest)\n",
    "library(tidymodels)\n",
    "library(themis)\n",
    "library(tidyverse)\n",
    "set.seed(100)"
   ]
  },
  {
   "cell_type": "code",
   "execution_count": null,
   "id": "37d295b8",
   "metadata": {},
   "outputs": [],
   "source": [
    "#Reading web data using GitHub generated URL link\n",
    "\n",
    "url <- \"https://raw.githubusercontent.com/dlee03/DSCI_group_project/main/Pokemon.csv\" \n",
    "\n",
    "pokemon2 <- read_csv(url)\n",
    "colnames(pokemon2) <- make.names(colnames(pokemon2)) \n",
    "head(pokemon2)"
   ]
  },
  {
   "cell_type": "markdown",
   "id": "2b75bf88-bee1-4555-966e-02a1c27ab2b5",
   "metadata": {},
   "source": [
    "Table 1. Pokemon Dataset\n",
    "\n",
    "This data set is called 'Pokemon with Stats' from Kaggle, by using GitHub, we are able to generate a unique URl which can be read directly into R. This data was created by the user Alberto Barradas, containing the names of pokemon and all of their associated statistics, and a classification of either legendary or not legendary as variables (Pokemon, 2015). As this dataset contains all the Pokemon up to the sixth generation and their associated statistics, we will be able to create our desired model. \n"
   ]
  },
  {
   "cell_type": "code",
   "execution_count": null,
   "id": "c36f5627",
   "metadata": {},
   "outputs": [],
   "source": [
    "#summarize data that reports number of entries per column \n",
    "\n",
    "pokemon_selected <- pokemon2 |>\n",
    "    select(Name, HP, Attack, Defense, Sp..Atk, Sp..Def, Speed, Legendary)\n",
    "head(pokemon_selected)"
   ]
  },
  {
   "cell_type": "markdown",
   "id": "b4665965-58a3-4bd1-a82d-f8dd132ddb6a",
   "metadata": {},
   "source": [
    "Table 2. Selected Name, Attack, Defense, Attack Speed, Defense Speed, Speed, and Legendary columns.\n",
    "\n",
    "We will analyse different statistics of all the Pokemon up to the sixth generation, the Pokemon X and Y games, to determine what constitutes a legendary. Using our findings we will be able to create a model where we can create a new Pokemon and determine whether it would be considered a legendary or not. The statistics we will be analysing are as follows: Attack (atk) and Special (sp.atk), the amount of damage a Pokemon does with physical and special attack respectively. Defence (def) and special defence (sp. def) which are the amount of damage that the Pokemon can negate from physical and special attacks. Speed (spd), which determines which Pokemon attacks first during battle. Lastly, we are also looking at health points (hp), the amount of damage a Pokemon can take before fainting in battle (Serebii.net, 2023)."
   ]
  },
  {
   "cell_type": "code",
   "execution_count": null,
   "id": "a440f4d1",
   "metadata": {},
   "outputs": [],
   "source": [
    "#find counts in each\n",
    "pokemon_counts <- pokemon_selected |> \n",
    "    group_by() |>\n",
    "    summarize(counts = n())\n",
    "head(pokemon_counts)\n",
    "\n",
    "sum(is.na(pokemon_counts)) #check if there is any missing data in the dataframe"
   ]
  },
  {
   "cell_type": "markdown",
   "id": "c7ca8ec5-d09f-4e59-81a4-20a3e5abd77e",
   "metadata": {},
   "source": [
    "By using summarize counts, we use pokemon_counts to represent the number of rows/observations present in the data frame. We also checked for missing data as the final indicator to whether or not we need to continue cleaning the data before training the model. "
   ]
  },
  {
   "cell_type": "code",
   "execution_count": null,
   "id": "2029ce63",
   "metadata": {},
   "outputs": [],
   "source": [
    "#convert the character variable to the factor datatype\n",
    "pokemon_data <- pokemon_selected |>\n",
    "    mutate(Legendary = as_factor(Legendary)) "
   ]
  },
  {
   "cell_type": "markdown",
   "id": "7584628c-73b1-4223-b35f-145dea876f35",
   "metadata": {},
   "source": [
    "The final step we used to clean and wrangle the data was to convert the Legendary column into a factor, which allows statistical functions to be made on these values. "
   ]
  },
  {
   "cell_type": "code",
   "execution_count": null,
   "id": "fcc49875-5e3b-4c4b-81a9-71c1ad8b1287",
   "metadata": {},
   "outputs": [],
   "source": [
    "#visualization of the dataset that is relevant for exploratory data analysis related to the planned analysis \n",
    "\n",
    "p_stat_avg <- pokemon_data |> \n",
    "    select(HP:Speed) |> \n",
    "    summarize(across(HP:Speed, mean) |>\n",
    "    pivot_longer(cols = HP:Speed, \n",
    "                 names_to = \"pokemon_category\", \n",
    "                 values_to = \"mean_value\") \n",
    "\n",
    "pokemon_bar <- ggplot(p_stats_avg, aes(x = pokemon_category, y = mean_value, fill = Legendary)) +  \n",
    "    geom_bar(stat = \"identity\", position = \"Legendary\") + \n",
    "   xlab(\"Pokemon Statistic\") +\n",
    "   ylab(\"Points\") +\n",
    "   labs(fill = \"Average Pokemon Stat\") \n",
    "pokemon_bar"
   ]
  },
  {
   "cell_type": "markdown",
   "id": "f631778e-19a6-40e6-9e22-6ae17df8aca6",
   "metadata": {},
   "source": [
    "Figure 1. Mean Pokemon Averages per Statistic Category. \n",
    "\n",
    "This is the initial visualization of the average stats between legendary and nonlegendary pokemon. From this bar graph, we can clearly see legendary pokemon tend to have higher values for Attack, Defense, HP and faster speeds.  \n",
    "CHECK THIS!!"
   ]
  },
  {
   "cell_type": "code",
   "execution_count": null,
   "id": "23fa7d4c-5ee5-4729-9f02-0aff46daa106",
   "metadata": {},
   "outputs": [],
   "source": [
    "stats <- pokemon_data |>\n",
    "    select(HP:Speed)\n",
    "pokemon_data <- pokemon_data |>\n",
    "    mutate(total_stats = rowSums(stats))"
   ]
  },
  {
   "cell_type": "code",
   "execution_count": null,
   "id": "47c9c7b3",
   "metadata": {},
   "outputs": [],
   "source": [
    "#make training data set\n",
    "pokemon_split <- initial_split(pokemon_data, prop = 0.75, strata = Legendary)\n",
    "pokemon_train <- training(pokemon_split)\n",
    "pokemon_test <- testing(pokemon_split)"
   ]
  },
  {
   "cell_type": "markdown",
   "id": "746d8c00-f459-4f2b-8c81-8185acd93e42",
   "metadata": {},
   "source": [
    "A training and testing dataset is made, we will be using the training data set to build the model and the testing set to check it's accuracy. "
   ]
  },
  {
   "cell_type": "code",
   "execution_count": null,
   "id": "2e8d3251",
   "metadata": {},
   "outputs": [],
   "source": [
    "#table of the mean stats of the training set pokemon, and the number of pokemon used in the training set.\n",
    "nrow(pokemon_train)\n",
    "mean_stats_table <- pokemon_train |> \n",
    "    summarize(across(HP:total_stats, mean)) |>\n",
    "    add_column(n_training_pokemon = 600)\n",
    "mean_stats_table"
   ]
  },
  {
   "cell_type": "markdown",
   "id": "4677c2e1-451e-47e1-9823-ed409e8dc90f",
   "metadata": {},
   "source": [
    "Table 3. Summary of statistics of training set Pokemon.\n",
    "\n",
    "Using these statistics we can train the model to predict legendary status based on previously clustered values. "
   ]
  },
  {
   "cell_type": "code",
   "execution_count": null,
   "id": "586afaba-c1df-42d1-bde6-c05e65078269",
   "metadata": {},
   "outputs": [],
   "source": [
    "#create a recipe and model for the analysis\n",
    "\n",
    "pokemon_recipe <- recipe(Legendary ~ total_stats, data = pokemon_train) |>\n",
    "                    step_upsample(Legendary, over_ratio = 1, skip = TRUE)\n",
    "                \n",
    "\n",
    "pokemon_spec <- nearest_neighbor(weight_func = \"rectangular\", neighbors = tune()) |>\n",
    "                set_engine(\"kknn\") |>\n",
    "                set_mode(\"classification\")"
   ]
  },
  {
   "cell_type": "markdown",
   "id": "651f50f6-8789-45a4-9ee4-a1ea6dba2ac6",
   "metadata": {},
   "source": [
    "Recipe, workflow and fit will be used to train the classifier."
   ]
  },
  {
   "cell_type": "code",
   "execution_count": null,
   "id": "13447fec-32f5-4465-8130-5ede410f0bbe",
   "metadata": {},
   "outputs": [],
   "source": [
    "#cross-validate and tune the model using a 10-fold cross-validation\n",
    "pokemon_vfold <- vfold_cv(pokemon_train, v = 10, strata = Legendary)\n",
    "\n",
    "kvals <- tibble(neighbors = seq(from = 1, to = 50, by = 1))\n",
    "\n",
    "pokemon_k_test <- workflow() |>\n",
    "    add_recipe(pokemon_recipe) |>\n",
    "    add_model(pokemon_spec) |>\n",
    "    tune_grid(resamples = pokemon_vfold, grid = kvals) |>\n",
    "    collect_metrics()\n",
    "\n",
    "accuracies <- pokemon_k_test |>\n",
    "    filter(.metric == \"accuracy\")\n",
    "head(accuracies, 25)\n",
    "\n",
    "k_val_plot <-  ggplot(accuracies, aes(x = neighbors, y = mean))+\n",
    "       geom_point() +\n",
    "       geom_line() +\n",
    "       labs(x = \"Neighbors\", y = \"Accuracy Estimate\") +\n",
    "       ggtitle (\"Accuracies vs. K\")+\n",
    "       theme(text = element_text(size =20))+ \n",
    "       scale_x_continuous(breaks = seq(0, 14, by = 1)) +  \n",
    "       scale_y_continuous(limits = c(0.4, 1.0)) \n",
    "k_val_plot"
   ]
  },
  {
   "cell_type": "markdown",
   "id": "3e6cc90c-bf7e-4b41-9266-8f2425f1c214",
   "metadata": {},
   "source": [
    "Table 4. Accuracies of training set data.\n",
    "\n",
    "Figure 2. Accuracy Estimate vs. K-Nearest Neighbours. \n",
    "\n",
    "Here we are using K=9 because we can see an increase in accuracy between 8 and 9, and later stabilizes as you increase the number of clusters. Therefore 9 clusters offers the least number of neighbors for the highest accuracy. "
   ]
  },
  {
   "cell_type": "code",
   "execution_count": null,
   "id": "6dd52d00-7fe2-49e0-874c-27cf9810ac9a",
   "metadata": {},
   "outputs": [],
   "source": [
    "#create a new model with k = 3\n",
    "pokemon_best_spec <- nearest_neighbor(weight_func = \"rectangular\", neighbors = 9) |>\n",
    "                set_engine(\"kknn\") |>\n",
    "                set_mode(\"classification\")\n",
    "\n",
    "pokemon_fit <- workflow() |>\n",
    "    add_recipe(pokemon_recipe) |>\n",
    "    add_model(pokemon_best_spec) |>\n",
    "    fit(data = pokemon_train)\n",
    "pokemon_fit"
   ]
  },
  {
   "cell_type": "markdown",
   "id": "92e03c11-fb7b-45f9-a4c5-1f38be62edd4",
   "metadata": {},
   "source": [
    "Recipe, workflow and fit will be used again to train the classifier using the training dataset."
   ]
  },
  {
   "cell_type": "code",
   "execution_count": 10,
   "id": "8f1deecd-cccf-4ce4-838d-d0b498dbe006",
   "metadata": {},
   "outputs": [
    {
     "ename": "ERROR",
     "evalue": "Error in bind_cols(predict(pokemon_fit, pokemon_test), pokemon_test): could not find function \"bind_cols\"\n",
     "output_type": "error",
     "traceback": [
      "Error in bind_cols(predict(pokemon_fit, pokemon_test), pokemon_test): could not find function \"bind_cols\"\nTraceback:\n"
     ]
    }
   ],
   "source": [
    "pokemon_predictions <- predict(pokemon_fit, pokemon_test) |>\n",
    "                     bind_cols(pokemon_test) \n",
    "head(pokemon_predictions, 20)    \n",
    "\n",
    "pokemon_metrics <- pokemon_predictions |>\n",
    "                 metrics(truth = Legendary, estimate = .pred_class) |>\n",
    "                 filter(.metric == \"accuracy\")\n",
    "pokemon_metrics\n",
    "\n",
    "pokemon_conf_mat <- pokemon_predictions |>\n",
    "                  conf_mat(truth = Legendary, estimate = .pred_class)\n",
    "pokemon_conf_mat"
   ]
  },
  {
   "cell_type": "markdown",
   "id": "b7172187-ef5d-4c7d-bfa1-a4a60fec45dc",
   "metadata": {},
   "source": [
    "Table 5. Prediction of pokemon class (legendary vs. non legendary). \n",
    "\n",
    "Table 6. Matrix for predictions using testing data. \n",
    "\n",
    "Accuracy is tested using the testing dataset by comparing it to the model made by the training dataset. Here 193 (183+10) pokemon were predicted correctly and 7 (2+5) predicted incorrectly. This gives us an accuracy of 96.5% for our model. "
   ]
  },
  {
   "cell_type": "code",
   "execution_count": 9,
   "id": "9ea2e2f9-4313-478b-b1e7-7838a8f77739",
   "metadata": {},
   "outputs": [
    {
     "ename": "ERROR",
     "evalue": "Error in ggplot(pokemon_predictions, aes(x = Legendary, y = total_stats, : could not find function \"ggplot\"\n",
     "output_type": "error",
     "traceback": [
      "Error in ggplot(pokemon_predictions, aes(x = Legendary, y = total_stats, : could not find function \"ggplot\"\nTraceback:\n"
     ]
    }
   ],
   "source": [
    "pokemon_true_box_plot <- pokemon_predictions |>\n",
    "    ggplot(aes(x = Legendary, y = total_stats, fill = Legendary)) +\n",
    "    geom_boxplot() +\n",
    "    ggtitle(\"True Legendary Classification\") +\n",
    "    theme(text = element_text(size =20))\n",
    "pokemon_true_box_plot\n",
    "\n",
    "pokemon_pred_box_plot <- pokemon_predictions |>\n",
    "    ggplot(aes(x = .pred_class, y = total_stats, fill = .pred_class)) +\n",
    "    geom_boxplot() +\n",
    "    ggtitle(\"Predictive Legendary Classification\") +\n",
    "    theme(text = element_text(size =20))\n",
    "pokemon_pred_box_plot"
   ]
  },
  {
   "cell_type": "markdown",
   "id": "e6c8ea5f-e423-4fe2-a534-155ceb2c8ec4",
   "metadata": {},
   "source": [
    "Figure 3A. True Pokemon Stats Plot (first plot) \n",
    "\n",
    "Figure 3B. Predicted Pokemon Stats Plot (second plot) \n",
    "\n",
    "By using both of these plots, the classification of legendary with their statistics can be compared. We can see that the model (Fig 3B) generally performed well, with higher 'total stats' values being classified as legendary (similiar shape and distribution as Fig 3A) with minimal error. For example, the mean is represented by the horizontal line in the box, and we can see the predictive class often put higher values as legendary, therefore having a higher avg stat. This observation can also be seen in the whiskers of the plot with the predictive class having shorter/lower maximum value due to the classifyer clustering them as legendary. "
   ]
  },
  {
   "cell_type": "code",
   "execution_count": null,
   "id": "d6eec3a4-4324-4956-a61b-1941cd568047",
   "metadata": {},
   "outputs": [],
   "source": [
    "new_pokemon <- tibble(total_stats = 523, Name = \"Dsci Beast\") \n",
    "\n",
    "predict(pokemon_fit, new_pokemon)"
   ]
  },
  {
   "cell_type": "markdown",
   "id": "57f3b765-614b-45b4-8d53-9325aadaef5e",
   "metadata": {},
   "source": [
    "Here we tested our model by inputting a hypothetical pokemon with total_stats of 523 and produced FALSE. This is expected as on our 'pokemon prediction box plot' (Figure 3) this Pokemon would lie within the range of the non-legendary Pokemon, classifying it as non-legendary. This indicates our analysis agreed with what we expected to see, and our predictive model was able to successively predict our Pokemon. "
   ]
  },
  {
   "cell_type": "markdown",
   "id": "0cd10474-c356-45cd-91ec-28134968b2e8",
   "metadata": {},
   "source": [
    "Discussion: \n",
    "\n",
    "This analysis was expected to demonstrate that our Pokemon is classified as legendary if its attack, defense, special defense, hp, and speed variables lie within the range of other legendary Pokemon, and a non-legendary Pokemon if they lie below it. After analyzing our data, we determined that our predictive model works as we expected. First, we made a 75% training model using all the chosen variables of the Pokemon and then used a 25% testing data set to determine our models accuracy. Using this, we noticed that the a k-nearest neighbor value of 9 provided the best accuracy of 97%. This accuracy demonstrated the data was sufficient to use in predicting our Pokemon. We converted “Legendary” into a factor in order to use statistical functions of the column. We visualized our findings in a box plot, noticing that significant differences in variable values between legendary (blue) and non-legendary (red) Pokemon exist, with values significantly larger for legendary Pokemon compared to non-legendary Pokemon. By creating this plot, in theory, we could plot any Pokemon to determine whether it is legendary or not. \n",
    "\n",
    "Though our predictive model was able to predict the legendary status of our Pokemon in theory, these results may demonstrate no impact as legendary Pokemon can only be deemed legendary by the game developers themselves and there is no perfect way to determine them otherwise. However, our findings can be used by these game developers in using the general statistics found to create legendary and non-legendary Pokemon, as well as used by game players to analyze the strength and value of their own Pokemon based on its own statistics. In the development of new Pokemon, this analysis leads to the future question of what the threshold of the different attack, special attack, defense, special defense, HP, and speed variables game developers can set for a legendary Pokemon in order to ensure fairness of play between others in the future.\n",
    "\n"
   ]
  },
  {
   "cell_type": "markdown",
   "id": "2ade0932-256f-41eb-b312-1ba97aff75c5",
   "metadata": {},
   "source": [
    "Citations:\n",
    "\n",
    "    Barradas, A. (2016, August 29). Pokemon with stats. Kaggle. https://www.kaggle.com/datasets/abcsds/pokemon \n",
    "\n",
    "    Pokemon. (2015). In Encyclopædia Britannica. Retrieved from http://www.britannica.com/EBchecked/topic/1474435/Pokemon\n",
    "\n",
    "    Padilla, R. (2003, March 17). Pok¿Mon Ruby/Sapphire. GameSpy. https://web.archive.org/web/20131002205143/http://uk.gba.gamespy.com/gameboy-advance/pokemon-ruby-version/498107p1.html\n",
    "\n",
    "    Serebii.net. (2023). Serebii.net games - statistics. Serebii.net Header. https://www.serebii.net/games/stats.shtml \n"
   ]
  },
  {
   "cell_type": "code",
   "execution_count": null,
   "id": "0306b322-8eb1-4c9b-b561-cc9a2a5652b7",
   "metadata": {},
   "outputs": [],
   "source": []
  }
 ],
 "metadata": {
  "kernelspec": {
   "display_name": "R",
   "language": "R",
   "name": "ir"
  },
  "language_info": {
   "codemirror_mode": "r",
   "file_extension": ".r",
   "mimetype": "text/x-r-source",
   "name": "R",
   "pygments_lexer": "r",
   "version": "4.1.3"
  }
 },
 "nbformat": 4,
 "nbformat_minor": 5
}
