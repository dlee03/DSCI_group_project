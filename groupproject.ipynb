{
 "cells": [
  {
   "cell_type": "markdown",
   "id": "18ec4afc",
   "metadata": {},
   "source": [
    "DSCI100/002 Group 5\n",
    "\n",
    "Decoding Legendary Pokemon "
   ]
  },
  {
   "cell_type": "markdown",
   "id": "94c1905c",
   "metadata": {},
   "source": [
    "Introduction:\n",
    "Pokemon is an entertainment franchise that surrounds a make-believe world where people catch, train and battle animals known as Pokemon. They are created with various statistics, appearances and personalities. In these games we as the player create teams and travel across various regions to battle other trainers and wild Pokemon. All Pokemon have set statistics determining how powerful they are, with the highly desirable “Legendary Pokemon” having much higher statistics than most of the non-legendaries. \n",
    "Our predictive question is to determine whether a hypothetical Pokemon we create with random statistics should be considered legendary. We will analyze different selected variables of all the Pokemon up to the sixth generation to determine what constitutes a legendary and put our findings against our new Pokemon to determine if it is legendary or not. For our data, we are using the ‘Pokemon with Stats' dataset from Kaggle, containing the names of pokemon and all of their statistics, and a classification of either legendary or not legendary as variables. (source: https://www.kaggle.com/datasets/abcsds/pokemon)"
   ]
  },
  {
   "cell_type": "markdown",
   "id": "0693b7be",
   "metadata": {},
   "source": [
    "Methods:\n",
    "A classification model will be built, using the variables of attack, special attack, defense, special defense, and speed. These variables were chosen because they are the 5 traits that determine the overall strength/quality of a pokemon and there is typically a large difference in these values between legendary-tier pokemon and normal pokemon, so the predictor can be accurate using a nearest k-neighbors classifier. \n",
    "One way the results will be visualized is on a box plot, where the y axis is a total sum of all 5 predictor variables together, representing the overall strength of the pokemon. There will be four boxes, one box represents legendary pokemon, one represents non-legendary pokemon. Unknown classes will have 2 different boxes, one for legendary and one for non-legendary based on the prediction of the model. This will allow the reader to see the average stats of the different classes of pokemon, and whether the averages of the predictions match the averages of the known classifications."
   ]
  },
  {
   "cell_type": "code",
   "execution_count": 2,
   "id": "b3f704b8-a341-4448-89d2-212efb5afc1d",
   "metadata": {},
   "outputs": [],
   "source": [
    "#install.packages(\"themis\")"
   ]
  },
  {
   "cell_type": "code",
   "execution_count": 3,
   "id": "c2827bcc",
   "metadata": {},
   "outputs": [
    {
     "name": "stderr",
     "output_type": "stream",
     "text": [
      "── \u001b[1mAttaching packages\u001b[22m ────────────────────────────────────── tidymodels 1.0.0 ──\n",
      "\n",
      "\u001b[32m✔\u001b[39m \u001b[34mbroom       \u001b[39m 1.0.0     \u001b[32m✔\u001b[39m \u001b[34mrecipes     \u001b[39m 1.0.6\n",
      "\u001b[32m✔\u001b[39m \u001b[34mdials       \u001b[39m 1.0.0     \u001b[32m✔\u001b[39m \u001b[34mrsample     \u001b[39m 1.0.0\n",
      "\u001b[32m✔\u001b[39m \u001b[34mdplyr       \u001b[39m 1.1.2     \u001b[32m✔\u001b[39m \u001b[34mtibble      \u001b[39m 3.2.1\n",
      "\u001b[32m✔\u001b[39m \u001b[34mggplot2     \u001b[39m 3.3.6     \u001b[32m✔\u001b[39m \u001b[34mtidyr       \u001b[39m 1.2.0\n",
      "\u001b[32m✔\u001b[39m \u001b[34minfer       \u001b[39m 1.0.2     \u001b[32m✔\u001b[39m \u001b[34mtune        \u001b[39m 1.0.0\n",
      "\u001b[32m✔\u001b[39m \u001b[34mmodeldata   \u001b[39m 1.0.0     \u001b[32m✔\u001b[39m \u001b[34mworkflows   \u001b[39m 1.0.0\n",
      "\u001b[32m✔\u001b[39m \u001b[34mparsnip     \u001b[39m 1.0.0     \u001b[32m✔\u001b[39m \u001b[34mworkflowsets\u001b[39m 1.0.0\n",
      "\u001b[32m✔\u001b[39m \u001b[34mpurrr       \u001b[39m 1.0.1     \u001b[32m✔\u001b[39m \u001b[34myardstick   \u001b[39m 1.0.0\n",
      "\n",
      "── \u001b[1mConflicts\u001b[22m ───────────────────────────────────────── tidymodels_conflicts() ──\n",
      "\u001b[31m✖\u001b[39m \u001b[34mpurrr\u001b[39m::\u001b[32mdiscard()\u001b[39m masks \u001b[34mscales\u001b[39m::discard()\n",
      "\u001b[31m✖\u001b[39m \u001b[34mdplyr\u001b[39m::\u001b[32mfilter()\u001b[39m  masks \u001b[34mstats\u001b[39m::filter()\n",
      "\u001b[31m✖\u001b[39m \u001b[34mdplyr\u001b[39m::\u001b[32mlag()\u001b[39m     masks \u001b[34mstats\u001b[39m::lag()\n",
      "\u001b[31m✖\u001b[39m \u001b[34mrecipes\u001b[39m::\u001b[32mstep()\u001b[39m  masks \u001b[34mstats\u001b[39m::step()\n",
      "\u001b[34m•\u001b[39m Use \u001b[32mtidymodels_prefer()\u001b[39m to resolve common conflicts.\n",
      "\n",
      "── \u001b[1mAttaching packages\u001b[22m ─────────────────────────────────────── tidyverse 1.3.1 ──\n",
      "\n",
      "\u001b[32m✔\u001b[39m \u001b[34mreadr  \u001b[39m 2.1.2     \u001b[32m✔\u001b[39m \u001b[34mforcats\u001b[39m 0.5.1\n",
      "\u001b[32m✔\u001b[39m \u001b[34mstringr\u001b[39m 1.4.0     \n",
      "\n",
      "── \u001b[1mConflicts\u001b[22m ────────────────────────────────────────── tidyverse_conflicts() ──\n",
      "\u001b[31m✖\u001b[39m \u001b[34mreadr\u001b[39m::\u001b[32mcol_factor()\u001b[39m     masks \u001b[34mscales\u001b[39m::col_factor()\n",
      "\u001b[31m✖\u001b[39m \u001b[34mpurrr\u001b[39m::\u001b[32mdiscard()\u001b[39m        masks \u001b[34mscales\u001b[39m::discard()\n",
      "\u001b[31m✖\u001b[39m \u001b[34mdplyr\u001b[39m::\u001b[32mfilter()\u001b[39m         masks \u001b[34mstats\u001b[39m::filter()\n",
      "\u001b[31m✖\u001b[39m \u001b[34mstringr\u001b[39m::\u001b[32mfixed()\u001b[39m        masks \u001b[34mrecipes\u001b[39m::fixed()\n",
      "\u001b[31m✖\u001b[39m \u001b[34mreadr\u001b[39m::\u001b[32mguess_encoding()\u001b[39m masks \u001b[34mrvest\u001b[39m::guess_encoding()\n",
      "\u001b[31m✖\u001b[39m \u001b[34mdplyr\u001b[39m::\u001b[32mlag()\u001b[39m            masks \u001b[34mstats\u001b[39m::lag()\n",
      "\u001b[31m✖\u001b[39m \u001b[34mreadr\u001b[39m::\u001b[32mspec()\u001b[39m           masks \u001b[34myardstick\u001b[39m::spec()\n",
      "\n"
     ]
    }
   ],
   "source": [
    "#loading required libraries for the analysis. Install the packages if they are not previously installed.\n",
    "library(rvest)\n",
    "library(tidymodels)\n",
    "library(themis)\n",
    "library(tidyverse)\n",
    "set.seed(100)"
   ]
  },
  {
   "cell_type": "code",
   "execution_count": 4,
   "id": "37d295b8",
   "metadata": {},
   "outputs": [
    {
     "name": "stderr",
     "output_type": "stream",
     "text": [
      "\u001b[1mRows: \u001b[22m\u001b[34m800\u001b[39m \u001b[1mColumns: \u001b[22m\u001b[34m13\u001b[39m\n",
      "\u001b[36m──\u001b[39m \u001b[1mColumn specification\u001b[22m \u001b[36m────────────────────────────────────────────────────────\u001b[39m\n",
      "\u001b[1mDelimiter:\u001b[22m \",\"\n",
      "\u001b[31mchr\u001b[39m (3): Name, Type 1, Type 2\n",
      "\u001b[32mdbl\u001b[39m (9): #, Total, HP, Attack, Defense, Sp. Atk, Sp. Def, Speed, Generation\n",
      "\u001b[33mlgl\u001b[39m (1): Legendary\n",
      "\n",
      "\u001b[36mℹ\u001b[39m Use `spec()` to retrieve the full column specification for this data.\n",
      "\u001b[36mℹ\u001b[39m Specify the column types or set `show_col_types = FALSE` to quiet this message.\n"
     ]
    },
    {
     "data": {
      "text/html": [
       "<table class=\"dataframe\">\n",
       "<caption>A tibble: 6 × 13</caption>\n",
       "<thead>\n",
       "\t<tr><th scope=col>X.</th><th scope=col>Name</th><th scope=col>Type.1</th><th scope=col>Type.2</th><th scope=col>Total</th><th scope=col>HP</th><th scope=col>Attack</th><th scope=col>Defense</th><th scope=col>Sp..Atk</th><th scope=col>Sp..Def</th><th scope=col>Speed</th><th scope=col>Generation</th><th scope=col>Legendary</th></tr>\n",
       "\t<tr><th scope=col>&lt;dbl&gt;</th><th scope=col>&lt;chr&gt;</th><th scope=col>&lt;chr&gt;</th><th scope=col>&lt;chr&gt;</th><th scope=col>&lt;dbl&gt;</th><th scope=col>&lt;dbl&gt;</th><th scope=col>&lt;dbl&gt;</th><th scope=col>&lt;dbl&gt;</th><th scope=col>&lt;dbl&gt;</th><th scope=col>&lt;dbl&gt;</th><th scope=col>&lt;dbl&gt;</th><th scope=col>&lt;dbl&gt;</th><th scope=col>&lt;lgl&gt;</th></tr>\n",
       "</thead>\n",
       "<tbody>\n",
       "\t<tr><td>1</td><td>Bulbasaur            </td><td>Grass</td><td>Poison</td><td>318</td><td>45</td><td> 49</td><td> 49</td><td> 65</td><td> 65</td><td>45</td><td>1</td><td>FALSE</td></tr>\n",
       "\t<tr><td>2</td><td>Ivysaur              </td><td>Grass</td><td>Poison</td><td>405</td><td>60</td><td> 62</td><td> 63</td><td> 80</td><td> 80</td><td>60</td><td>1</td><td>FALSE</td></tr>\n",
       "\t<tr><td>3</td><td>Venusaur             </td><td>Grass</td><td>Poison</td><td>525</td><td>80</td><td> 82</td><td> 83</td><td>100</td><td>100</td><td>80</td><td>1</td><td>FALSE</td></tr>\n",
       "\t<tr><td>3</td><td>VenusaurMega Venusaur</td><td>Grass</td><td>Poison</td><td>625</td><td>80</td><td>100</td><td>123</td><td>122</td><td>120</td><td>80</td><td>1</td><td>FALSE</td></tr>\n",
       "\t<tr><td>4</td><td>Charmander           </td><td>Fire </td><td>NA    </td><td>309</td><td>39</td><td> 52</td><td> 43</td><td> 60</td><td> 50</td><td>65</td><td>1</td><td>FALSE</td></tr>\n",
       "\t<tr><td>5</td><td>Charmeleon           </td><td>Fire </td><td>NA    </td><td>405</td><td>58</td><td> 64</td><td> 58</td><td> 80</td><td> 65</td><td>80</td><td>1</td><td>FALSE</td></tr>\n",
       "</tbody>\n",
       "</table>\n"
      ],
      "text/latex": [
       "A tibble: 6 × 13\n",
       "\\begin{tabular}{lllllllllllll}\n",
       " X. & Name & Type.1 & Type.2 & Total & HP & Attack & Defense & Sp..Atk & Sp..Def & Speed & Generation & Legendary\\\\\n",
       " <dbl> & <chr> & <chr> & <chr> & <dbl> & <dbl> & <dbl> & <dbl> & <dbl> & <dbl> & <dbl> & <dbl> & <lgl>\\\\\n",
       "\\hline\n",
       "\t 1 & Bulbasaur             & Grass & Poison & 318 & 45 &  49 &  49 &  65 &  65 & 45 & 1 & FALSE\\\\\n",
       "\t 2 & Ivysaur               & Grass & Poison & 405 & 60 &  62 &  63 &  80 &  80 & 60 & 1 & FALSE\\\\\n",
       "\t 3 & Venusaur              & Grass & Poison & 525 & 80 &  82 &  83 & 100 & 100 & 80 & 1 & FALSE\\\\\n",
       "\t 3 & VenusaurMega Venusaur & Grass & Poison & 625 & 80 & 100 & 123 & 122 & 120 & 80 & 1 & FALSE\\\\\n",
       "\t 4 & Charmander            & Fire  & NA     & 309 & 39 &  52 &  43 &  60 &  50 & 65 & 1 & FALSE\\\\\n",
       "\t 5 & Charmeleon            & Fire  & NA     & 405 & 58 &  64 &  58 &  80 &  65 & 80 & 1 & FALSE\\\\\n",
       "\\end{tabular}\n"
      ],
      "text/markdown": [
       "\n",
       "A tibble: 6 × 13\n",
       "\n",
       "| X. &lt;dbl&gt; | Name &lt;chr&gt; | Type.1 &lt;chr&gt; | Type.2 &lt;chr&gt; | Total &lt;dbl&gt; | HP &lt;dbl&gt; | Attack &lt;dbl&gt; | Defense &lt;dbl&gt; | Sp..Atk &lt;dbl&gt; | Sp..Def &lt;dbl&gt; | Speed &lt;dbl&gt; | Generation &lt;dbl&gt; | Legendary &lt;lgl&gt; |\n",
       "|---|---|---|---|---|---|---|---|---|---|---|---|---|\n",
       "| 1 | Bulbasaur             | Grass | Poison | 318 | 45 |  49 |  49 |  65 |  65 | 45 | 1 | FALSE |\n",
       "| 2 | Ivysaur               | Grass | Poison | 405 | 60 |  62 |  63 |  80 |  80 | 60 | 1 | FALSE |\n",
       "| 3 | Venusaur              | Grass | Poison | 525 | 80 |  82 |  83 | 100 | 100 | 80 | 1 | FALSE |\n",
       "| 3 | VenusaurMega Venusaur | Grass | Poison | 625 | 80 | 100 | 123 | 122 | 120 | 80 | 1 | FALSE |\n",
       "| 4 | Charmander            | Fire  | NA     | 309 | 39 |  52 |  43 |  60 |  50 | 65 | 1 | FALSE |\n",
       "| 5 | Charmeleon            | Fire  | NA     | 405 | 58 |  64 |  58 |  80 |  65 | 80 | 1 | FALSE |\n",
       "\n"
      ],
      "text/plain": [
       "  X. Name                  Type.1 Type.2 Total HP Attack Defense Sp..Atk\n",
       "1 1  Bulbasaur             Grass  Poison 318   45  49     49      65    \n",
       "2 2  Ivysaur               Grass  Poison 405   60  62     63      80    \n",
       "3 3  Venusaur              Grass  Poison 525   80  82     83     100    \n",
       "4 3  VenusaurMega Venusaur Grass  Poison 625   80 100    123     122    \n",
       "5 4  Charmander            Fire   NA     309   39  52     43      60    \n",
       "6 5  Charmeleon            Fire   NA     405   58  64     58      80    \n",
       "  Sp..Def Speed Generation Legendary\n",
       "1  65     45    1          FALSE    \n",
       "2  80     60    1          FALSE    \n",
       "3 100     80    1          FALSE    \n",
       "4 120     80    1          FALSE    \n",
       "5  50     65    1          FALSE    \n",
       "6  65     80    1          FALSE    "
      ]
     },
     "metadata": {},
     "output_type": "display_data"
    }
   ],
   "source": [
    "#Reading web data using GitHub generated URL link\n",
    "\n",
    "url <- \"https://raw.githubusercontent.com/dlee03/DSCI_group_project/main/Pokemon.csv\" \n",
    "\n",
    "pokemon2 <- read_csv(url)\n",
    "colnames(pokemon2) <- make.names(colnames(pokemon2)) \n",
    "head(pokemon2)"
   ]
  },
  {
   "cell_type": "markdown",
   "id": "2b75bf88-bee1-4555-966e-02a1c27ab2b5",
   "metadata": {},
   "source": [
    "Table 1. Pokemon dataset that is read from directly from URL. "
   ]
  },
  {
   "cell_type": "code",
   "execution_count": 5,
   "id": "c36f5627",
   "metadata": {},
   "outputs": [
    {
     "data": {
      "text/html": [
       "<table class=\"dataframe\">\n",
       "<caption>A tibble: 6 × 8</caption>\n",
       "<thead>\n",
       "\t<tr><th scope=col>Name</th><th scope=col>HP</th><th scope=col>Attack</th><th scope=col>Defense</th><th scope=col>Sp..Atk</th><th scope=col>Sp..Def</th><th scope=col>Speed</th><th scope=col>Legendary</th></tr>\n",
       "\t<tr><th scope=col>&lt;chr&gt;</th><th scope=col>&lt;dbl&gt;</th><th scope=col>&lt;dbl&gt;</th><th scope=col>&lt;dbl&gt;</th><th scope=col>&lt;dbl&gt;</th><th scope=col>&lt;dbl&gt;</th><th scope=col>&lt;dbl&gt;</th><th scope=col>&lt;lgl&gt;</th></tr>\n",
       "</thead>\n",
       "<tbody>\n",
       "\t<tr><td>Bulbasaur            </td><td>45</td><td> 49</td><td> 49</td><td> 65</td><td> 65</td><td>45</td><td>FALSE</td></tr>\n",
       "\t<tr><td>Ivysaur              </td><td>60</td><td> 62</td><td> 63</td><td> 80</td><td> 80</td><td>60</td><td>FALSE</td></tr>\n",
       "\t<tr><td>Venusaur             </td><td>80</td><td> 82</td><td> 83</td><td>100</td><td>100</td><td>80</td><td>FALSE</td></tr>\n",
       "\t<tr><td>VenusaurMega Venusaur</td><td>80</td><td>100</td><td>123</td><td>122</td><td>120</td><td>80</td><td>FALSE</td></tr>\n",
       "\t<tr><td>Charmander           </td><td>39</td><td> 52</td><td> 43</td><td> 60</td><td> 50</td><td>65</td><td>FALSE</td></tr>\n",
       "\t<tr><td>Charmeleon           </td><td>58</td><td> 64</td><td> 58</td><td> 80</td><td> 65</td><td>80</td><td>FALSE</td></tr>\n",
       "</tbody>\n",
       "</table>\n"
      ],
      "text/latex": [
       "A tibble: 6 × 8\n",
       "\\begin{tabular}{llllllll}\n",
       " Name & HP & Attack & Defense & Sp..Atk & Sp..Def & Speed & Legendary\\\\\n",
       " <chr> & <dbl> & <dbl> & <dbl> & <dbl> & <dbl> & <dbl> & <lgl>\\\\\n",
       "\\hline\n",
       "\t Bulbasaur             & 45 &  49 &  49 &  65 &  65 & 45 & FALSE\\\\\n",
       "\t Ivysaur               & 60 &  62 &  63 &  80 &  80 & 60 & FALSE\\\\\n",
       "\t Venusaur              & 80 &  82 &  83 & 100 & 100 & 80 & FALSE\\\\\n",
       "\t VenusaurMega Venusaur & 80 & 100 & 123 & 122 & 120 & 80 & FALSE\\\\\n",
       "\t Charmander            & 39 &  52 &  43 &  60 &  50 & 65 & FALSE\\\\\n",
       "\t Charmeleon            & 58 &  64 &  58 &  80 &  65 & 80 & FALSE\\\\\n",
       "\\end{tabular}\n"
      ],
      "text/markdown": [
       "\n",
       "A tibble: 6 × 8\n",
       "\n",
       "| Name &lt;chr&gt; | HP &lt;dbl&gt; | Attack &lt;dbl&gt; | Defense &lt;dbl&gt; | Sp..Atk &lt;dbl&gt; | Sp..Def &lt;dbl&gt; | Speed &lt;dbl&gt; | Legendary &lt;lgl&gt; |\n",
       "|---|---|---|---|---|---|---|---|\n",
       "| Bulbasaur             | 45 |  49 |  49 |  65 |  65 | 45 | FALSE |\n",
       "| Ivysaur               | 60 |  62 |  63 |  80 |  80 | 60 | FALSE |\n",
       "| Venusaur              | 80 |  82 |  83 | 100 | 100 | 80 | FALSE |\n",
       "| VenusaurMega Venusaur | 80 | 100 | 123 | 122 | 120 | 80 | FALSE |\n",
       "| Charmander            | 39 |  52 |  43 |  60 |  50 | 65 | FALSE |\n",
       "| Charmeleon            | 58 |  64 |  58 |  80 |  65 | 80 | FALSE |\n",
       "\n"
      ],
      "text/plain": [
       "  Name                  HP Attack Defense Sp..Atk Sp..Def Speed Legendary\n",
       "1 Bulbasaur             45  49     49      65      65     45    FALSE    \n",
       "2 Ivysaur               60  62     63      80      80     60    FALSE    \n",
       "3 Venusaur              80  82     83     100     100     80    FALSE    \n",
       "4 VenusaurMega Venusaur 80 100    123     122     120     80    FALSE    \n",
       "5 Charmander            39  52     43      60      50     65    FALSE    \n",
       "6 Charmeleon            58  64     58      80      65     80    FALSE    "
      ]
     },
     "metadata": {},
     "output_type": "display_data"
    }
   ],
   "source": [
    "#summarize data that reports number of entries per column \n",
    "\n",
    "pokemon_selected <- pokemon2 |>\n",
    "    select(Name, HP, Attack, Defense, Sp..Atk, Sp..Def, Speed, Legendary)\n",
    "head(pokemon_selected)"
   ]
  },
  {
   "cell_type": "markdown",
   "id": "b4665965-58a3-4bd1-a82d-f8dd132ddb6a",
   "metadata": {},
   "source": [
    "Table 2. Selected Name, Attack, Defense, Attack Speed, Defense Speed, Speed, and Legendary columns."
   ]
  },
  {
   "cell_type": "code",
   "execution_count": 6,
   "id": "a440f4d1",
   "metadata": {},
   "outputs": [
    {
     "data": {
      "text/html": [
       "<table class=\"dataframe\">\n",
       "<caption>A tibble: 1 × 1</caption>\n",
       "<thead>\n",
       "\t<tr><th scope=col>counts</th></tr>\n",
       "\t<tr><th scope=col>&lt;int&gt;</th></tr>\n",
       "</thead>\n",
       "<tbody>\n",
       "\t<tr><td>800</td></tr>\n",
       "</tbody>\n",
       "</table>\n"
      ],
      "text/latex": [
       "A tibble: 1 × 1\n",
       "\\begin{tabular}{l}\n",
       " counts\\\\\n",
       " <int>\\\\\n",
       "\\hline\n",
       "\t 800\\\\\n",
       "\\end{tabular}\n"
      ],
      "text/markdown": [
       "\n",
       "A tibble: 1 × 1\n",
       "\n",
       "| counts &lt;int&gt; |\n",
       "|---|\n",
       "| 800 |\n",
       "\n"
      ],
      "text/plain": [
       "  counts\n",
       "1 800   "
      ]
     },
     "metadata": {},
     "output_type": "display_data"
    }
   ],
   "source": [
    "#find counts in each\n",
    "pokemon_counts <- pokemon_selected |> \n",
    "    group_by() |>\n",
    "    summarize(counts = n())\n",
    "head(pokemon_counts)"
   ]
  },
  {
   "cell_type": "markdown",
   "id": "c7ca8ec5-d09f-4e59-81a4-20a3e5abd77e",
   "metadata": {},
   "source": [
    "pokemon_counts is used to count the number of rows/observations present in the data frame. "
   ]
  },
  {
   "cell_type": "code",
   "execution_count": 7,
   "id": "e4c27eea",
   "metadata": {},
   "outputs": [
    {
     "data": {
      "text/html": [
       "0"
      ],
      "text/latex": [
       "0"
      ],
      "text/markdown": [
       "0"
      ],
      "text/plain": [
       "[1] 0"
      ]
     },
     "metadata": {},
     "output_type": "display_data"
    }
   ],
   "source": [
    "sum(is.na(pokemon_counts)) #check if there is any missing data in the dataframe"
   ]
  },
  {
   "cell_type": "code",
   "execution_count": 8,
   "id": "2029ce63",
   "metadata": {},
   "outputs": [],
   "source": [
    "#convert the character variable to the factor datatype\n",
    "pokemon_data <- pokemon_selected |>\n",
    "    mutate(Legendary = as_factor(Legendary)) "
   ]
  },
  {
   "cell_type": "code",
   "execution_count": 9,
   "id": "23fa7d4c-5ee5-4729-9f02-0aff46daa106",
   "metadata": {},
   "outputs": [],
   "source": [
    "stats <- pokemon_data |>\n",
    "    select(HP:Speed)\n",
    "pokemon_data <- pokemon_data |>\n",
    "    mutate(total_stats = rowSums(stats))"
   ]
  },
  {
   "cell_type": "code",
   "execution_count": 10,
   "id": "47c9c7b3",
   "metadata": {},
   "outputs": [],
   "source": [
    "#make training data set\n",
    "pokemon_split <- initial_split(pokemon_data, prop = 0.75, strata = Legendary)\n",
    "pokemon_train <- training(pokemon_split)\n",
    "pokemon_test <- testing(pokemon_split)"
   ]
  },
  {
   "cell_type": "markdown",
   "id": "746d8c00-f459-4f2b-8c81-8185acd93e42",
   "metadata": {},
   "source": [
    "A training and testing dataset is made, we will be using the training data set to build the model and the testing set to check it's accuracy. We also converted \"Legendary\" into a factor so we can use statistical functions on this column.  "
   ]
  },
  {
   "cell_type": "code",
   "execution_count": 11,
   "id": "2e8d3251",
   "metadata": {},
   "outputs": [
    {
     "data": {
      "text/html": [
       "600"
      ],
      "text/latex": [
       "600"
      ],
      "text/markdown": [
       "600"
      ],
      "text/plain": [
       "[1] 600"
      ]
     },
     "metadata": {},
     "output_type": "display_data"
    },
    {
     "name": "stderr",
     "output_type": "stream",
     "text": [
      "Warning message:\n",
      "“\u001b[1m\u001b[22mThere was 1 warning in `summarize()`.\n",
      "\u001b[1m\u001b[22m\u001b[36mℹ\u001b[39m In argument: `across(HP:total_stats, mean)`.\n",
      "Caused by warning in `mean.default()`:\n",
      "\u001b[33m!\u001b[39m argument is not numeric or logical: returning NA”\n"
     ]
    },
    {
     "data": {
      "text/html": [
       "<table class=\"dataframe\">\n",
       "<caption>A tibble: 1 × 9</caption>\n",
       "<thead>\n",
       "\t<tr><th scope=col>HP</th><th scope=col>Attack</th><th scope=col>Defense</th><th scope=col>Sp..Atk</th><th scope=col>Sp..Def</th><th scope=col>Speed</th><th scope=col>Legendary</th><th scope=col>total_stats</th><th scope=col>n_training_pokemon</th></tr>\n",
       "\t<tr><th scope=col>&lt;dbl&gt;</th><th scope=col>&lt;dbl&gt;</th><th scope=col>&lt;dbl&gt;</th><th scope=col>&lt;dbl&gt;</th><th scope=col>&lt;dbl&gt;</th><th scope=col>&lt;dbl&gt;</th><th scope=col>&lt;dbl&gt;</th><th scope=col>&lt;dbl&gt;</th><th scope=col>&lt;dbl&gt;</th></tr>\n",
       "</thead>\n",
       "<tbody>\n",
       "\t<tr><td>70.03333</td><td>79.845</td><td>74.08167</td><td>72.98833</td><td>70.38167</td><td>68.60833</td><td>NA</td><td>435.9383</td><td>600</td></tr>\n",
       "</tbody>\n",
       "</table>\n"
      ],
      "text/latex": [
       "A tibble: 1 × 9\n",
       "\\begin{tabular}{lllllllll}\n",
       " HP & Attack & Defense & Sp..Atk & Sp..Def & Speed & Legendary & total\\_stats & n\\_training\\_pokemon\\\\\n",
       " <dbl> & <dbl> & <dbl> & <dbl> & <dbl> & <dbl> & <dbl> & <dbl> & <dbl>\\\\\n",
       "\\hline\n",
       "\t 70.03333 & 79.845 & 74.08167 & 72.98833 & 70.38167 & 68.60833 & NA & 435.9383 & 600\\\\\n",
       "\\end{tabular}\n"
      ],
      "text/markdown": [
       "\n",
       "A tibble: 1 × 9\n",
       "\n",
       "| HP &lt;dbl&gt; | Attack &lt;dbl&gt; | Defense &lt;dbl&gt; | Sp..Atk &lt;dbl&gt; | Sp..Def &lt;dbl&gt; | Speed &lt;dbl&gt; | Legendary &lt;dbl&gt; | total_stats &lt;dbl&gt; | n_training_pokemon &lt;dbl&gt; |\n",
       "|---|---|---|---|---|---|---|---|---|\n",
       "| 70.03333 | 79.845 | 74.08167 | 72.98833 | 70.38167 | 68.60833 | NA | 435.9383 | 600 |\n",
       "\n"
      ],
      "text/plain": [
       "  HP       Attack Defense  Sp..Atk  Sp..Def  Speed    Legendary total_stats\n",
       "1 70.03333 79.845 74.08167 72.98833 70.38167 68.60833 NA        435.9383   \n",
       "  n_training_pokemon\n",
       "1 600               "
      ]
     },
     "metadata": {},
     "output_type": "display_data"
    }
   ],
   "source": [
    "#table of the mean stats of the training set pokemon, and the number of pokemon used in the training set.\n",
    "nrow(pokemon_train)\n",
    "mean_stats_table <- pokemon_train |> \n",
    "    summarize(across(HP:total_stats, mean)) |>\n",
    "    add_column(n_training_pokemon = 600)\n",
    "mean_stats_table"
   ]
  },
  {
   "cell_type": "markdown",
   "id": "4677c2e1-451e-47e1-9823-ed409e8dc90f",
   "metadata": {},
   "source": [
    "Table 3. Summary of statistics of training set Pokemon. Using these statistics we can use the model to predict legendary status. "
   ]
  },
  {
   "cell_type": "code",
   "execution_count": 23,
   "id": "586afaba-c1df-42d1-bde6-c05e65078269",
   "metadata": {},
   "outputs": [],
   "source": [
    "#create a recipe and model for the analysis\n",
    "\n",
    "pokemon_recipe <- recipe(Legendary ~ total_stats, data = pokemon_train) |>\n",
    "                    step_upsample(Legendary, over_ratio = 1, skip = TRUE)\n",
    "                \n",
    "\n",
    "pokemon_spec <- nearest_neighbor(weight_func = \"rectangular\", neighbors = tune()) |>\n",
    "                set_engine(\"kknn\") |>\n",
    "                set_mode(\"classification\")"
   ]
  },
  {
   "cell_type": "markdown",
   "id": "651f50f6-8789-45a4-9ee4-a1ea6dba2ac6",
   "metadata": {},
   "source": [
    "Recipe, workflow and fit will be used to train the classifier."
   ]
  },
  {
   "cell_type": "code",
   "execution_count": 34,
   "id": "13447fec-32f5-4465-8130-5ede410f0bbe",
   "metadata": {},
   "outputs": [
    {
     "data": {
      "text/html": [
       "<table class=\"dataframe\">\n",
       "<caption>A tibble: 25 × 7</caption>\n",
       "<thead>\n",
       "\t<tr><th scope=col>neighbors</th><th scope=col>.metric</th><th scope=col>.estimator</th><th scope=col>mean</th><th scope=col>n</th><th scope=col>std_err</th><th scope=col>.config</th></tr>\n",
       "\t<tr><th scope=col>&lt;dbl&gt;</th><th scope=col>&lt;chr&gt;</th><th scope=col>&lt;chr&gt;</th><th scope=col>&lt;dbl&gt;</th><th scope=col>&lt;int&gt;</th><th scope=col>&lt;dbl&gt;</th><th scope=col>&lt;chr&gt;</th></tr>\n",
       "</thead>\n",
       "<tbody>\n",
       "\t<tr><td> 1</td><td>accuracy</td><td>binary</td><td>0.9400000</td><td>10</td><td>0.006666667</td><td>Preprocessor1_Model01</td></tr>\n",
       "\t<tr><td> 2</td><td>accuracy</td><td>binary</td><td>0.9416667</td><td>10</td><td>0.006689775</td><td>Preprocessor1_Model02</td></tr>\n",
       "\t<tr><td> 3</td><td>accuracy</td><td>binary</td><td>0.9450000</td><td>10</td><td>0.006596857</td><td>Preprocessor1_Model03</td></tr>\n",
       "\t<tr><td> 4</td><td>accuracy</td><td>binary</td><td>0.9416667</td><td>10</td><td>0.006211300</td><td>Preprocessor1_Model04</td></tr>\n",
       "\t<tr><td> 5</td><td>accuracy</td><td>binary</td><td>0.9500000</td><td>10</td><td>0.005555556</td><td>Preprocessor1_Model05</td></tr>\n",
       "\t<tr><td> 6</td><td>accuracy</td><td>binary</td><td>0.9500000</td><td>10</td><td>0.005555556</td><td>Preprocessor1_Model06</td></tr>\n",
       "\t<tr><td> 7</td><td>accuracy</td><td>binary</td><td>0.9500000</td><td>10</td><td>0.005555556</td><td>Preprocessor1_Model07</td></tr>\n",
       "\t<tr><td> 8</td><td>accuracy</td><td>binary</td><td>0.9500000</td><td>10</td><td>0.005555556</td><td>Preprocessor1_Model08</td></tr>\n",
       "\t<tr><td> 9</td><td>accuracy</td><td>binary</td><td>0.9633333</td><td>10</td><td>0.006478835</td><td>Preprocessor1_Model09</td></tr>\n",
       "\t<tr><td>10</td><td>accuracy</td><td>binary</td><td>0.9633333</td><td>10</td><td>0.006478835</td><td>Preprocessor1_Model10</td></tr>\n",
       "\t<tr><td>11</td><td>accuracy</td><td>binary</td><td>0.9633333</td><td>10</td><td>0.006478835</td><td>Preprocessor1_Model11</td></tr>\n",
       "\t<tr><td>12</td><td>accuracy</td><td>binary</td><td>0.9633333</td><td>10</td><td>0.006478835</td><td>Preprocessor1_Model12</td></tr>\n",
       "\t<tr><td>13</td><td>accuracy</td><td>binary</td><td>0.9633333</td><td>10</td><td>0.006478835</td><td>Preprocessor1_Model13</td></tr>\n",
       "\t<tr><td>14</td><td>accuracy</td><td>binary</td><td>0.9633333</td><td>10</td><td>0.006478835</td><td>Preprocessor1_Model14</td></tr>\n",
       "\t<tr><td>15</td><td>accuracy</td><td>binary</td><td>0.9633333</td><td>10</td><td>0.006478835</td><td>Preprocessor1_Model15</td></tr>\n",
       "\t<tr><td>16</td><td>accuracy</td><td>binary</td><td>0.9633333</td><td>10</td><td>0.006478835</td><td>Preprocessor1_Model16</td></tr>\n",
       "\t<tr><td>17</td><td>accuracy</td><td>binary</td><td>0.9633333</td><td>10</td><td>0.006478835</td><td>Preprocessor1_Model17</td></tr>\n",
       "\t<tr><td>18</td><td>accuracy</td><td>binary</td><td>0.9633333</td><td>10</td><td>0.006478835</td><td>Preprocessor1_Model18</td></tr>\n",
       "\t<tr><td>19</td><td>accuracy</td><td>binary</td><td>0.9616667</td><td>10</td><td>0.006596857</td><td>Preprocessor1_Model19</td></tr>\n",
       "\t<tr><td>20</td><td>accuracy</td><td>binary</td><td>0.9616667</td><td>10</td><td>0.006596857</td><td>Preprocessor1_Model20</td></tr>\n",
       "\t<tr><td>21</td><td>accuracy</td><td>binary</td><td>0.9616667</td><td>10</td><td>0.006596857</td><td>Preprocessor1_Model21</td></tr>\n",
       "\t<tr><td>22</td><td>accuracy</td><td>binary</td><td>0.9616667</td><td>10</td><td>0.006596857</td><td>Preprocessor1_Model22</td></tr>\n",
       "\t<tr><td>23</td><td>accuracy</td><td>binary</td><td>0.9533333</td><td>10</td><td>0.005443311</td><td>Preprocessor1_Model23</td></tr>\n",
       "\t<tr><td>24</td><td>accuracy</td><td>binary</td><td>0.9533333</td><td>10</td><td>0.005443311</td><td>Preprocessor1_Model24</td></tr>\n",
       "\t<tr><td>25</td><td>accuracy</td><td>binary</td><td>0.9550000</td><td>10</td><td>0.005000000</td><td>Preprocessor1_Model25</td></tr>\n",
       "</tbody>\n",
       "</table>\n"
      ],
      "text/latex": [
       "A tibble: 25 × 7\n",
       "\\begin{tabular}{lllllll}\n",
       " neighbors & .metric & .estimator & mean & n & std\\_err & .config\\\\\n",
       " <dbl> & <chr> & <chr> & <dbl> & <int> & <dbl> & <chr>\\\\\n",
       "\\hline\n",
       "\t  1 & accuracy & binary & 0.9400000 & 10 & 0.006666667 & Preprocessor1\\_Model01\\\\\n",
       "\t  2 & accuracy & binary & 0.9416667 & 10 & 0.006689775 & Preprocessor1\\_Model02\\\\\n",
       "\t  3 & accuracy & binary & 0.9450000 & 10 & 0.006596857 & Preprocessor1\\_Model03\\\\\n",
       "\t  4 & accuracy & binary & 0.9416667 & 10 & 0.006211300 & Preprocessor1\\_Model04\\\\\n",
       "\t  5 & accuracy & binary & 0.9500000 & 10 & 0.005555556 & Preprocessor1\\_Model05\\\\\n",
       "\t  6 & accuracy & binary & 0.9500000 & 10 & 0.005555556 & Preprocessor1\\_Model06\\\\\n",
       "\t  7 & accuracy & binary & 0.9500000 & 10 & 0.005555556 & Preprocessor1\\_Model07\\\\\n",
       "\t  8 & accuracy & binary & 0.9500000 & 10 & 0.005555556 & Preprocessor1\\_Model08\\\\\n",
       "\t  9 & accuracy & binary & 0.9633333 & 10 & 0.006478835 & Preprocessor1\\_Model09\\\\\n",
       "\t 10 & accuracy & binary & 0.9633333 & 10 & 0.006478835 & Preprocessor1\\_Model10\\\\\n",
       "\t 11 & accuracy & binary & 0.9633333 & 10 & 0.006478835 & Preprocessor1\\_Model11\\\\\n",
       "\t 12 & accuracy & binary & 0.9633333 & 10 & 0.006478835 & Preprocessor1\\_Model12\\\\\n",
       "\t 13 & accuracy & binary & 0.9633333 & 10 & 0.006478835 & Preprocessor1\\_Model13\\\\\n",
       "\t 14 & accuracy & binary & 0.9633333 & 10 & 0.006478835 & Preprocessor1\\_Model14\\\\\n",
       "\t 15 & accuracy & binary & 0.9633333 & 10 & 0.006478835 & Preprocessor1\\_Model15\\\\\n",
       "\t 16 & accuracy & binary & 0.9633333 & 10 & 0.006478835 & Preprocessor1\\_Model16\\\\\n",
       "\t 17 & accuracy & binary & 0.9633333 & 10 & 0.006478835 & Preprocessor1\\_Model17\\\\\n",
       "\t 18 & accuracy & binary & 0.9633333 & 10 & 0.006478835 & Preprocessor1\\_Model18\\\\\n",
       "\t 19 & accuracy & binary & 0.9616667 & 10 & 0.006596857 & Preprocessor1\\_Model19\\\\\n",
       "\t 20 & accuracy & binary & 0.9616667 & 10 & 0.006596857 & Preprocessor1\\_Model20\\\\\n",
       "\t 21 & accuracy & binary & 0.9616667 & 10 & 0.006596857 & Preprocessor1\\_Model21\\\\\n",
       "\t 22 & accuracy & binary & 0.9616667 & 10 & 0.006596857 & Preprocessor1\\_Model22\\\\\n",
       "\t 23 & accuracy & binary & 0.9533333 & 10 & 0.005443311 & Preprocessor1\\_Model23\\\\\n",
       "\t 24 & accuracy & binary & 0.9533333 & 10 & 0.005443311 & Preprocessor1\\_Model24\\\\\n",
       "\t 25 & accuracy & binary & 0.9550000 & 10 & 0.005000000 & Preprocessor1\\_Model25\\\\\n",
       "\\end{tabular}\n"
      ],
      "text/markdown": [
       "\n",
       "A tibble: 25 × 7\n",
       "\n",
       "| neighbors &lt;dbl&gt; | .metric &lt;chr&gt; | .estimator &lt;chr&gt; | mean &lt;dbl&gt; | n &lt;int&gt; | std_err &lt;dbl&gt; | .config &lt;chr&gt; |\n",
       "|---|---|---|---|---|---|---|\n",
       "|  1 | accuracy | binary | 0.9400000 | 10 | 0.006666667 | Preprocessor1_Model01 |\n",
       "|  2 | accuracy | binary | 0.9416667 | 10 | 0.006689775 | Preprocessor1_Model02 |\n",
       "|  3 | accuracy | binary | 0.9450000 | 10 | 0.006596857 | Preprocessor1_Model03 |\n",
       "|  4 | accuracy | binary | 0.9416667 | 10 | 0.006211300 | Preprocessor1_Model04 |\n",
       "|  5 | accuracy | binary | 0.9500000 | 10 | 0.005555556 | Preprocessor1_Model05 |\n",
       "|  6 | accuracy | binary | 0.9500000 | 10 | 0.005555556 | Preprocessor1_Model06 |\n",
       "|  7 | accuracy | binary | 0.9500000 | 10 | 0.005555556 | Preprocessor1_Model07 |\n",
       "|  8 | accuracy | binary | 0.9500000 | 10 | 0.005555556 | Preprocessor1_Model08 |\n",
       "|  9 | accuracy | binary | 0.9633333 | 10 | 0.006478835 | Preprocessor1_Model09 |\n",
       "| 10 | accuracy | binary | 0.9633333 | 10 | 0.006478835 | Preprocessor1_Model10 |\n",
       "| 11 | accuracy | binary | 0.9633333 | 10 | 0.006478835 | Preprocessor1_Model11 |\n",
       "| 12 | accuracy | binary | 0.9633333 | 10 | 0.006478835 | Preprocessor1_Model12 |\n",
       "| 13 | accuracy | binary | 0.9633333 | 10 | 0.006478835 | Preprocessor1_Model13 |\n",
       "| 14 | accuracy | binary | 0.9633333 | 10 | 0.006478835 | Preprocessor1_Model14 |\n",
       "| 15 | accuracy | binary | 0.9633333 | 10 | 0.006478835 | Preprocessor1_Model15 |\n",
       "| 16 | accuracy | binary | 0.9633333 | 10 | 0.006478835 | Preprocessor1_Model16 |\n",
       "| 17 | accuracy | binary | 0.9633333 | 10 | 0.006478835 | Preprocessor1_Model17 |\n",
       "| 18 | accuracy | binary | 0.9633333 | 10 | 0.006478835 | Preprocessor1_Model18 |\n",
       "| 19 | accuracy | binary | 0.9616667 | 10 | 0.006596857 | Preprocessor1_Model19 |\n",
       "| 20 | accuracy | binary | 0.9616667 | 10 | 0.006596857 | Preprocessor1_Model20 |\n",
       "| 21 | accuracy | binary | 0.9616667 | 10 | 0.006596857 | Preprocessor1_Model21 |\n",
       "| 22 | accuracy | binary | 0.9616667 | 10 | 0.006596857 | Preprocessor1_Model22 |\n",
       "| 23 | accuracy | binary | 0.9533333 | 10 | 0.005443311 | Preprocessor1_Model23 |\n",
       "| 24 | accuracy | binary | 0.9533333 | 10 | 0.005443311 | Preprocessor1_Model24 |\n",
       "| 25 | accuracy | binary | 0.9550000 | 10 | 0.005000000 | Preprocessor1_Model25 |\n",
       "\n"
      ],
      "text/plain": [
       "   neighbors .metric  .estimator mean      n  std_err     .config              \n",
       "1   1        accuracy binary     0.9400000 10 0.006666667 Preprocessor1_Model01\n",
       "2   2        accuracy binary     0.9416667 10 0.006689775 Preprocessor1_Model02\n",
       "3   3        accuracy binary     0.9450000 10 0.006596857 Preprocessor1_Model03\n",
       "4   4        accuracy binary     0.9416667 10 0.006211300 Preprocessor1_Model04\n",
       "5   5        accuracy binary     0.9500000 10 0.005555556 Preprocessor1_Model05\n",
       "6   6        accuracy binary     0.9500000 10 0.005555556 Preprocessor1_Model06\n",
       "7   7        accuracy binary     0.9500000 10 0.005555556 Preprocessor1_Model07\n",
       "8   8        accuracy binary     0.9500000 10 0.005555556 Preprocessor1_Model08\n",
       "9   9        accuracy binary     0.9633333 10 0.006478835 Preprocessor1_Model09\n",
       "10 10        accuracy binary     0.9633333 10 0.006478835 Preprocessor1_Model10\n",
       "11 11        accuracy binary     0.9633333 10 0.006478835 Preprocessor1_Model11\n",
       "12 12        accuracy binary     0.9633333 10 0.006478835 Preprocessor1_Model12\n",
       "13 13        accuracy binary     0.9633333 10 0.006478835 Preprocessor1_Model13\n",
       "14 14        accuracy binary     0.9633333 10 0.006478835 Preprocessor1_Model14\n",
       "15 15        accuracy binary     0.9633333 10 0.006478835 Preprocessor1_Model15\n",
       "16 16        accuracy binary     0.9633333 10 0.006478835 Preprocessor1_Model16\n",
       "17 17        accuracy binary     0.9633333 10 0.006478835 Preprocessor1_Model17\n",
       "18 18        accuracy binary     0.9633333 10 0.006478835 Preprocessor1_Model18\n",
       "19 19        accuracy binary     0.9616667 10 0.006596857 Preprocessor1_Model19\n",
       "20 20        accuracy binary     0.9616667 10 0.006596857 Preprocessor1_Model20\n",
       "21 21        accuracy binary     0.9616667 10 0.006596857 Preprocessor1_Model21\n",
       "22 22        accuracy binary     0.9616667 10 0.006596857 Preprocessor1_Model22\n",
       "23 23        accuracy binary     0.9533333 10 0.005443311 Preprocessor1_Model23\n",
       "24 24        accuracy binary     0.9533333 10 0.005443311 Preprocessor1_Model24\n",
       "25 25        accuracy binary     0.9550000 10 0.005000000 Preprocessor1_Model25"
      ]
     },
     "metadata": {},
     "output_type": "display_data"
    },
    {
     "data": {
      "image/png": "[encoded data removed]",
      "text/plain": [
       "plot without title"
      ]
     },
     "metadata": {
      "image/png": {
       "height": 420,
       "width": 420
      }
     },
     "output_type": "display_data"
    }
   ],
   "source": [
    "#cross-validate and tune the model using a 10-fold cross-validation\n",
    "pokemon_vfold <- vfold_cv(pokemon_train, v = 10, strata = Legendary)\n",
    "\n",
    "kvals <- tibble(neighbors = seq(from = 1, to = 50, by = 1))\n",
    "\n",
    "pokemon_k_test <- workflow() |>\n",
    "    add_recipe(pokemon_recipe) |>\n",
    "    add_model(pokemon_spec) |>\n",
    "    tune_grid(resamples = pokemon_vfold, grid = kvals) |>\n",
    "    collect_metrics()\n",
    "\n",
    "accuracies <- pokemon_k_test |>\n",
    "    filter(.metric == \"accuracy\")\n",
    "head(accuracies, 25)\n",
    "\n",
    "k_val_plot <-  ggplot(accuracies, aes(x = neighbors, y = mean))+\n",
    "       geom_point() +\n",
    "       geom_line() +\n",
    "       labs(x = \"Neighbors\", y = \"Accuracy Estimate\") +\n",
    "       ggtitle (\"Accuracies vs. K\")+\n",
    "       theme(text = element_text(size =20))+ \n",
    "       scale_x_continuous(breaks = seq(0, 14, by = 1)) +  \n",
    "       scale_y_continuous(limits = c(0.4, 1.0)) \n",
    "k_val_plot"
   ]
  },
  {
   "cell_type": "markdown",
   "id": "3e6cc90c-bf7e-4b41-9266-8f2425f1c214",
   "metadata": {},
   "source": [
    "Table 4. Accuracies of training set data.\n",
    "\n",
    "Figure 1. Accuracy Estimate vs. K-Nearest Neighbours. Here we are using K=3 because it there is a smaller slope (decrease of accuracy) between points 2 and 3 than 3 and 4. This indicates that using K =3 will offer the least clusters for the highest accuracy. "
   ]
  },
  {
   "cell_type": "code",
   "execution_count": 35,
   "id": "6dd52d00-7fe2-49e0-874c-27cf9810ac9a",
   "metadata": {},
   "outputs": [
    {
     "data": {
      "text/plain": [
       "══ Workflow [trained] ══════════════════════════════════════════════════════════\n",
       "\u001b[3mPreprocessor:\u001b[23m Recipe\n",
       "\u001b[3mModel:\u001b[23m nearest_neighbor()\n",
       "\n",
       "── Preprocessor ────────────────────────────────────────────────────────────────\n",
       "1 Recipe Step\n",
       "\n",
       "• step_upsample()\n",
       "\n",
       "── Model ───────────────────────────────────────────────────────────────────────\n",
       "\n",
       "Call:\n",
       "kknn::train.kknn(formula = ..y ~ ., data = data, ks = min_rows(9,     data, 5), kernel = ~\"rectangular\")\n",
       "\n",
       "Type of response variable: nominal\n",
       "Minimal misclassification: 0.1390909\n",
       "Best kernel: rectangular\n",
       "Best k: 9"
      ]
     },
     "metadata": {},
     "output_type": "display_data"
    }
   ],
   "source": [
    "#create a new model with k = 3\n",
    "pokemon_best_spec <- nearest_neighbor(weight_func = \"rectangular\", neighbors = 9) |>\n",
    "                set_engine(\"kknn\") |>\n",
    "                set_mode(\"classification\")\n",
    "\n",
    "pokemon_fit <- workflow() |>\n",
    "    add_recipe(pokemon_recipe) |>\n",
    "    add_model(pokemon_best_spec) |>\n",
    "    fit(data = pokemon_train)\n",
    "pokemon_fit"
   ]
  },
  {
   "cell_type": "markdown",
   "id": "92e03c11-fb7b-45f9-a4c5-1f38be62edd4",
   "metadata": {},
   "source": [
    "Recipe, workflow and fit will be used again to train the classifier using the training dataset."
   ]
  },
  {
   "cell_type": "code",
   "execution_count": 39,
   "id": "8f1deecd-cccf-4ce4-838d-d0b498dbe006",
   "metadata": {},
   "outputs": [
    {
     "data": {
      "text/html": [
       "<table class=\"dataframe\">\n",
       "<caption>A tibble: 20 × 10</caption>\n",
       "<thead>\n",
       "\t<tr><th scope=col>.pred_class</th><th scope=col>Name</th><th scope=col>HP</th><th scope=col>Attack</th><th scope=col>Defense</th><th scope=col>Sp..Atk</th><th scope=col>Sp..Def</th><th scope=col>Speed</th><th scope=col>Legendary</th><th scope=col>total_stats</th></tr>\n",
       "\t<tr><th scope=col>&lt;fct&gt;</th><th scope=col>&lt;chr&gt;</th><th scope=col>&lt;dbl&gt;</th><th scope=col>&lt;dbl&gt;</th><th scope=col>&lt;dbl&gt;</th><th scope=col>&lt;dbl&gt;</th><th scope=col>&lt;dbl&gt;</th><th scope=col>&lt;dbl&gt;</th><th scope=col>&lt;fct&gt;</th><th scope=col>&lt;dbl&gt;</th></tr>\n",
       "</thead>\n",
       "<tbody>\n",
       "\t<tr><td>FALSE</td><td>Venusaur                 </td><td>80</td><td> 82</td><td> 83</td><td>100</td><td>100</td><td> 80</td><td>FALSE</td><td>525</td></tr>\n",
       "\t<tr><td>FALSE</td><td>Charmander               </td><td>39</td><td> 52</td><td> 43</td><td> 60</td><td> 50</td><td> 65</td><td>FALSE</td><td>309</td></tr>\n",
       "\t<tr><td>FALSE</td><td>CharizardMega Charizard X</td><td>78</td><td>130</td><td>111</td><td>130</td><td> 85</td><td>100</td><td>FALSE</td><td>634</td></tr>\n",
       "\t<tr><td>FALSE</td><td>Weedle                   </td><td>40</td><td> 35</td><td> 30</td><td> 20</td><td> 20</td><td> 50</td><td>FALSE</td><td>195</td></tr>\n",
       "\t<tr><td>FALSE</td><td>BeedrillMega Beedrill    </td><td>65</td><td>150</td><td> 40</td><td> 15</td><td> 80</td><td>145</td><td>FALSE</td><td>495</td></tr>\n",
       "\t<tr><td>FALSE</td><td>Pidgeotto                </td><td>63</td><td> 60</td><td> 55</td><td> 50</td><td> 50</td><td> 71</td><td>FALSE</td><td>349</td></tr>\n",
       "\t<tr><td>FALSE</td><td>Ekans                    </td><td>35</td><td> 60</td><td> 44</td><td> 40</td><td> 54</td><td> 55</td><td>FALSE</td><td>288</td></tr>\n",
       "\t<tr><td>FALSE</td><td>Sandshrew                </td><td>50</td><td> 75</td><td> 85</td><td> 20</td><td> 30</td><td> 40</td><td>FALSE</td><td>300</td></tr>\n",
       "\t<tr><td>FALSE</td><td>Clefairy                 </td><td>70</td><td> 45</td><td> 48</td><td> 60</td><td> 65</td><td> 35</td><td>FALSE</td><td>323</td></tr>\n",
       "\t<tr><td>FALSE</td><td>Vulpix                   </td><td>38</td><td> 41</td><td> 40</td><td> 50</td><td> 65</td><td> 65</td><td>FALSE</td><td>299</td></tr>\n",
       "\t<tr><td>FALSE</td><td>Ninetales                </td><td>73</td><td> 76</td><td> 75</td><td> 81</td><td>100</td><td>100</td><td>FALSE</td><td>505</td></tr>\n",
       "\t<tr><td>FALSE</td><td>Oddish                   </td><td>45</td><td> 50</td><td> 55</td><td> 75</td><td> 65</td><td> 30</td><td>FALSE</td><td>320</td></tr>\n",
       "\t<tr><td>FALSE</td><td>Paras                    </td><td>35</td><td> 70</td><td> 55</td><td> 45</td><td> 55</td><td> 25</td><td>FALSE</td><td>285</td></tr>\n",
       "\t<tr><td>FALSE</td><td>Dugtrio                  </td><td>35</td><td> 80</td><td> 50</td><td> 50</td><td> 70</td><td>120</td><td>FALSE</td><td>405</td></tr>\n",
       "\t<tr><td>FALSE</td><td>Meowth                   </td><td>40</td><td> 45</td><td> 35</td><td> 40</td><td> 40</td><td> 90</td><td>FALSE</td><td>290</td></tr>\n",
       "\t<tr><td>FALSE</td><td>Primeape                 </td><td>65</td><td>105</td><td> 60</td><td> 60</td><td> 70</td><td> 95</td><td>FALSE</td><td>455</td></tr>\n",
       "\t<tr><td>FALSE</td><td>Abra                     </td><td>25</td><td> 20</td><td> 15</td><td>105</td><td> 55</td><td> 90</td><td>FALSE</td><td>310</td></tr>\n",
       "\t<tr><td>FALSE</td><td>Machop                   </td><td>70</td><td> 80</td><td> 50</td><td> 35</td><td> 35</td><td> 35</td><td>FALSE</td><td>305</td></tr>\n",
       "\t<tr><td>FALSE</td><td>Machamp                  </td><td>90</td><td>130</td><td> 80</td><td> 65</td><td> 85</td><td> 55</td><td>FALSE</td><td>505</td></tr>\n",
       "\t<tr><td>FALSE</td><td>Tentacruel               </td><td>80</td><td> 70</td><td> 65</td><td> 80</td><td>120</td><td>100</td><td>FALSE</td><td>515</td></tr>\n",
       "</tbody>\n",
       "</table>\n"
      ],
      "text/latex": [
       "A tibble: 20 × 10\n",
       "\\begin{tabular}{llllllllll}\n",
       " .pred\\_class & Name & HP & Attack & Defense & Sp..Atk & Sp..Def & Speed & Legendary & total\\_stats\\\\\n",
       " <fct> & <chr> & <dbl> & <dbl> & <dbl> & <dbl> & <dbl> & <dbl> & <fct> & <dbl>\\\\\n",
       "\\hline\n",
       "\t FALSE & Venusaur                  & 80 &  82 &  83 & 100 & 100 &  80 & FALSE & 525\\\\\n",
       "\t FALSE & Charmander                & 39 &  52 &  43 &  60 &  50 &  65 & FALSE & 309\\\\\n",
       "\t FALSE & CharizardMega Charizard X & 78 & 130 & 111 & 130 &  85 & 100 & FALSE & 634\\\\\n",
       "\t FALSE & Weedle                    & 40 &  35 &  30 &  20 &  20 &  50 & FALSE & 195\\\\\n",
       "\t FALSE & BeedrillMega Beedrill     & 65 & 150 &  40 &  15 &  80 & 145 & FALSE & 495\\\\\n",
       "\t FALSE & Pidgeotto                 & 63 &  60 &  55 &  50 &  50 &  71 & FALSE & 349\\\\\n",
       "\t FALSE & Ekans                     & 35 &  60 &  44 &  40 &  54 &  55 & FALSE & 288\\\\\n",
       "\t FALSE & Sandshrew                 & 50 &  75 &  85 &  20 &  30 &  40 & FALSE & 300\\\\\n",
       "\t FALSE & Clefairy                  & 70 &  45 &  48 &  60 &  65 &  35 & FALSE & 323\\\\\n",
       "\t FALSE & Vulpix                    & 38 &  41 &  40 &  50 &  65 &  65 & FALSE & 299\\\\\n",
       "\t FALSE & Ninetales                 & 73 &  76 &  75 &  81 & 100 & 100 & FALSE & 505\\\\\n",
       "\t FALSE & Oddish                    & 45 &  50 &  55 &  75 &  65 &  30 & FALSE & 320\\\\\n",
       "\t FALSE & Paras                     & 35 &  70 &  55 &  45 &  55 &  25 & FALSE & 285\\\\\n",
       "\t FALSE & Dugtrio                   & 35 &  80 &  50 &  50 &  70 & 120 & FALSE & 405\\\\\n",
       "\t FALSE & Meowth                    & 40 &  45 &  35 &  40 &  40 &  90 & FALSE & 290\\\\\n",
       "\t FALSE & Primeape                  & 65 & 105 &  60 &  60 &  70 &  95 & FALSE & 455\\\\\n",
       "\t FALSE & Abra                      & 25 &  20 &  15 & 105 &  55 &  90 & FALSE & 310\\\\\n",
       "\t FALSE & Machop                    & 70 &  80 &  50 &  35 &  35 &  35 & FALSE & 305\\\\\n",
       "\t FALSE & Machamp                   & 90 & 130 &  80 &  65 &  85 &  55 & FALSE & 505\\\\\n",
       "\t FALSE & Tentacruel                & 80 &  70 &  65 &  80 & 120 & 100 & FALSE & 515\\\\\n",
       "\\end{tabular}\n"
      ],
      "text/markdown": [
       "\n",
       "A tibble: 20 × 10\n",
       "\n",
       "| .pred_class &lt;fct&gt; | Name &lt;chr&gt; | HP &lt;dbl&gt; | Attack &lt;dbl&gt; | Defense &lt;dbl&gt; | Sp..Atk &lt;dbl&gt; | Sp..Def &lt;dbl&gt; | Speed &lt;dbl&gt; | Legendary &lt;fct&gt; | total_stats &lt;dbl&gt; |\n",
       "|---|---|---|---|---|---|---|---|---|---|\n",
       "| FALSE | Venusaur                  | 80 |  82 |  83 | 100 | 100 |  80 | FALSE | 525 |\n",
       "| FALSE | Charmander                | 39 |  52 |  43 |  60 |  50 |  65 | FALSE | 309 |\n",
       "| FALSE | CharizardMega Charizard X | 78 | 130 | 111 | 130 |  85 | 100 | FALSE | 634 |\n",
       "| FALSE | Weedle                    | 40 |  35 |  30 |  20 |  20 |  50 | FALSE | 195 |\n",
       "| FALSE | BeedrillMega Beedrill     | 65 | 150 |  40 |  15 |  80 | 145 | FALSE | 495 |\n",
       "| FALSE | Pidgeotto                 | 63 |  60 |  55 |  50 |  50 |  71 | FALSE | 349 |\n",
       "| FALSE | Ekans                     | 35 |  60 |  44 |  40 |  54 |  55 | FALSE | 288 |\n",
       "| FALSE | Sandshrew                 | 50 |  75 |  85 |  20 |  30 |  40 | FALSE | 300 |\n",
       "| FALSE | Clefairy                  | 70 |  45 |  48 |  60 |  65 |  35 | FALSE | 323 |\n",
       "| FALSE | Vulpix                    | 38 |  41 |  40 |  50 |  65 |  65 | FALSE | 299 |\n",
       "| FALSE | Ninetales                 | 73 |  76 |  75 |  81 | 100 | 100 | FALSE | 505 |\n",
       "| FALSE | Oddish                    | 45 |  50 |  55 |  75 |  65 |  30 | FALSE | 320 |\n",
       "| FALSE | Paras                     | 35 |  70 |  55 |  45 |  55 |  25 | FALSE | 285 |\n",
       "| FALSE | Dugtrio                   | 35 |  80 |  50 |  50 |  70 | 120 | FALSE | 405 |\n",
       "| FALSE | Meowth                    | 40 |  45 |  35 |  40 |  40 |  90 | FALSE | 290 |\n",
       "| FALSE | Primeape                  | 65 | 105 |  60 |  60 |  70 |  95 | FALSE | 455 |\n",
       "| FALSE | Abra                      | 25 |  20 |  15 | 105 |  55 |  90 | FALSE | 310 |\n",
       "| FALSE | Machop                    | 70 |  80 |  50 |  35 |  35 |  35 | FALSE | 305 |\n",
       "| FALSE | Machamp                   | 90 | 130 |  80 |  65 |  85 |  55 | FALSE | 505 |\n",
       "| FALSE | Tentacruel                | 80 |  70 |  65 |  80 | 120 | 100 | FALSE | 515 |\n",
       "\n"
      ],
      "text/plain": [
       "   .pred_class Name                      HP Attack Defense Sp..Atk Sp..Def\n",
       "1  FALSE       Venusaur                  80  82     83     100     100    \n",
       "2  FALSE       Charmander                39  52     43      60      50    \n",
       "3  FALSE       CharizardMega Charizard X 78 130    111     130      85    \n",
       "4  FALSE       Weedle                    40  35     30      20      20    \n",
       "5  FALSE       BeedrillMega Beedrill     65 150     40      15      80    \n",
       "6  FALSE       Pidgeotto                 63  60     55      50      50    \n",
       "7  FALSE       Ekans                     35  60     44      40      54    \n",
       "8  FALSE       Sandshrew                 50  75     85      20      30    \n",
       "9  FALSE       Clefairy                  70  45     48      60      65    \n",
       "10 FALSE       Vulpix                    38  41     40      50      65    \n",
       "11 FALSE       Ninetales                 73  76     75      81     100    \n",
       "12 FALSE       Oddish                    45  50     55      75      65    \n",
       "13 FALSE       Paras                     35  70     55      45      55    \n",
       "14 FALSE       Dugtrio                   35  80     50      50      70    \n",
       "15 FALSE       Meowth                    40  45     35      40      40    \n",
       "16 FALSE       Primeape                  65 105     60      60      70    \n",
       "17 FALSE       Abra                      25  20     15     105      55    \n",
       "18 FALSE       Machop                    70  80     50      35      35    \n",
       "19 FALSE       Machamp                   90 130     80      65      85    \n",
       "20 FALSE       Tentacruel                80  70     65      80     120    \n",
       "   Speed Legendary total_stats\n",
       "1   80   FALSE     525        \n",
       "2   65   FALSE     309        \n",
       "3  100   FALSE     634        \n",
       "4   50   FALSE     195        \n",
       "5  145   FALSE     495        \n",
       "6   71   FALSE     349        \n",
       "7   55   FALSE     288        \n",
       "8   40   FALSE     300        \n",
       "9   35   FALSE     323        \n",
       "10  65   FALSE     299        \n",
       "11 100   FALSE     505        \n",
       "12  30   FALSE     320        \n",
       "13  25   FALSE     285        \n",
       "14 120   FALSE     405        \n",
       "15  90   FALSE     290        \n",
       "16  95   FALSE     455        \n",
       "17  90   FALSE     310        \n",
       "18  35   FALSE     305        \n",
       "19  55   FALSE     505        \n",
       "20 100   FALSE     515        "
      ]
     },
     "metadata": {},
     "output_type": "display_data"
    },
    {
     "data": {
      "text/html": [
       "<table class=\"dataframe\">\n",
       "<caption>A tibble: 1 × 3</caption>\n",
       "<thead>\n",
       "\t<tr><th scope=col>.metric</th><th scope=col>.estimator</th><th scope=col>.estimate</th></tr>\n",
       "\t<tr><th scope=col>&lt;chr&gt;</th><th scope=col>&lt;chr&gt;</th><th scope=col>&lt;dbl&gt;</th></tr>\n",
       "</thead>\n",
       "<tbody>\n",
       "\t<tr><td>accuracy</td><td>binary</td><td>0.965</td></tr>\n",
       "</tbody>\n",
       "</table>\n"
      ],
      "text/latex": [
       "A tibble: 1 × 3\n",
       "\\begin{tabular}{lll}\n",
       " .metric & .estimator & .estimate\\\\\n",
       " <chr> & <chr> & <dbl>\\\\\n",
       "\\hline\n",
       "\t accuracy & binary & 0.965\\\\\n",
       "\\end{tabular}\n"
      ],
      "text/markdown": [
       "\n",
       "A tibble: 1 × 3\n",
       "\n",
       "| .metric &lt;chr&gt; | .estimator &lt;chr&gt; | .estimate &lt;dbl&gt; |\n",
       "|---|---|---|\n",
       "| accuracy | binary | 0.965 |\n",
       "\n"
      ],
      "text/plain": [
       "  .metric  .estimator .estimate\n",
       "1 accuracy binary     0.965    "
      ]
     },
     "metadata": {},
     "output_type": "display_data"
    },
    {
     "data": {
      "text/plain": [
       "          Truth\n",
       "Prediction FALSE TRUE\n",
       "     FALSE   183    5\n",
       "     TRUE      2   10"
      ]
     },
     "metadata": {},
     "output_type": "display_data"
    }
   ],
   "source": [
    "pokemon_predictions <- predict(pokemon_fit, pokemon_test) |>\n",
    "                     bind_cols(pokemon_test) \n",
    "head(pokemon_predictions, 20)    \n",
    "\n",
    "pokemon_metrics <- pokemon_predictions |>\n",
    "                 metrics(truth = Legendary, estimate = .pred_class) |>\n",
    "                 filter(.metric == \"accuracy\")\n",
    "pokemon_metrics\n",
    "\n",
    "pokemon_conf_mat <- pokemon_predictions |>\n",
    "                  conf_mat(truth = Legendary, estimate = .pred_class)\n",
    "\n",
    "pokemon_conf_mat"
   ]
  },
  {
   "cell_type": "code",
   "execution_count": 42,
   "id": "d6eec3a4-4324-4956-a61b-1941cd568047",
   "metadata": {},
   "outputs": [
    {
     "data": {
      "text/html": [
       "<table class=\"dataframe\">\n",
       "<caption>A tibble: 1 × 1</caption>\n",
       "<thead>\n",
       "\t<tr><th scope=col>.pred_class</th></tr>\n",
       "\t<tr><th scope=col>&lt;fct&gt;</th></tr>\n",
       "</thead>\n",
       "<tbody>\n",
       "\t<tr><td>FALSE</td></tr>\n",
       "</tbody>\n",
       "</table>\n"
      ],
      "text/latex": [
       "A tibble: 1 × 1\n",
       "\\begin{tabular}{l}\n",
       " .pred\\_class\\\\\n",
       " <fct>\\\\\n",
       "\\hline\n",
       "\t FALSE\\\\\n",
       "\\end{tabular}\n"
      ],
      "text/markdown": [
       "\n",
       "A tibble: 1 × 1\n",
       "\n",
       "| .pred_class &lt;fct&gt; |\n",
       "|---|\n",
       "| FALSE |\n",
       "\n"
      ],
      "text/plain": [
       "  .pred_class\n",
       "1 FALSE      "
      ]
     },
     "metadata": {},
     "output_type": "display_data"
    }
   ],
   "source": [
    "new_pokemon <- tibble(total_stats = 523, Name = \"apsldfk\") \n",
    "\n",
    "predict(pokemon_fit, new_pokemon)\n"
   ]
  },
  {
   "cell_type": "markdown",
   "id": "b7172187-ef5d-4c7d-bfa1-a4a60fec45dc",
   "metadata": {},
   "source": [
    "Table 5. Prediction of pokemon class (legendary vs. non legendary). \n",
    "\n",
    "Table 6. Accuracy is tested using the testing dataset and a matrix is created. Here __ ( ) predicted correctly and ___ ( ) predicted incorrectly. This gives us an accuracy of 86.66% for our model. "
   ]
  },
  {
   "cell_type": "code",
   "execution_count": 40,
   "id": "9ea2e2f9-4313-478b-b1e7-7838a8f77739",
   "metadata": {},
   "outputs": [
    {
     "data": {
      "image/png": "[encoded data removed]",
      "text/plain": [
       "plot without title"
      ]
     },
     "metadata": {
      "image/png": {
       "height": 420,
       "width": 420
      }
     },
     "output_type": "display_data"
    },
    {
     "data": {
      "image/png": "[encoded data removed]",
      "text/plain": [
       "plot without title"
      ]
     },
     "metadata": {
      "image/png": {
       "height": 420,
       "width": 420
      }
     },
     "output_type": "display_data"
    }
   ],
   "source": [
    "pokemon_true_box_plot <- pokemon_predictions |>\n",
    "    ggplot(aes(x = Legendary, y = total_stats, fill = Legendary)) +\n",
    "        geom_boxplot()\n",
    "pokemon_true_box_plot\n",
    "\n",
    "pokemon_pred_box_plot <- pokemon_predictions |>\n",
    "    ggplot(aes(x = .pred_class, y = total_stats, fill = .pred_class)) +\n",
    "        geom_boxplot()\n",
    "pokemon_pred_box_plot\n",
    "           "
   ]
  },
  {
   "cell_type": "markdown",
   "id": "0cd10474-c356-45cd-91ec-28134968b2e8",
   "metadata": {},
   "source": [
    "Discussion: \n"
   ]
  },
  {
   "cell_type": "code",
   "execution_count": null,
   "id": "eddf4623-4554-4a73-9c08-8d076c2f0e5e",
   "metadata": {},
   "outputs": [],
   "source": [
    "Citations:\n"
   ]
  }
 ],
 "metadata": {
  "kernelspec": {
   "display_name": "R",
   "language": "R",
   "name": "ir"
  },
  "language_info": {
   "codemirror_mode": "r",
   "file_extension": ".r",
   "mimetype": "text/x-r-source",
   "name": "R",
   "pygments_lexer": "r",
   "version": "4.1.3"
  }
 },
 "nbformat": 4,
 "nbformat_minor": 5
}
