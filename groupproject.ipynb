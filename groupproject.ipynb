{
 "cells": [
  {
   "cell_type": "markdown",
   "id": "18ec4afc",
   "metadata": {},
   "source": [
    "DSCI100/002 Group 5\n",
    "\n",
    "Decoding Legendary Pokemon "
   ]
  },
  {
   "cell_type": "markdown",
   "id": "94c1905c",
   "metadata": {},
   "source": [
    "Introduction:\n",
    "\n",
    "   Pokemon is an entertainment franchise created by Nintendo that surrounds a make-believe world where people catch, train and battle creatures known as Pokemon (Pokemon, 2015). The Nintendo company continues to expand the world of Pokemon, creating new regions and Pokemon for eager fans to discover, train and battle.\n",
    "    The Pokemon are created with various statistics, appearances and personalities. In the games, which our data set and analysis are focused on, we as the player create teams of Pokemon and travel across various regions to battle other trainers and wild Pokemon (Padilla, 2003). All Pokemon have set statistics determining how powerful they are, with the highly desirable and exclusive  “Legendary Pokemon” that tend to have much higher statistics than most of the non-legendaries. \n",
    "    \n",
    "   Our predictive question is to determine whether a hypothetical Pokemon we create with random statistics is considered legendary. We will analyse different statistics of all the Pokemon up to the sixth generation, the Pokemon X and Y games, to determine what constitutes a legendary. Using our findings we will be able to create a model where we can create a new Pokemon and determine whether it would be considered a legendary or not.\n"
   ]
  },
  {
   "cell_type": "code",
   "execution_count": 3,
   "id": "b3f704b8-a341-4448-89d2-212efb5afc1d",
   "metadata": {},
   "outputs": [
    {
     "name": "stderr",
     "output_type": "stream",
     "text": [
      "also installing the dependencies ‘pillar’, ‘tibble’, ‘tzdb’, ‘cpp11’, ‘dplyr’, ‘clock’, ‘hardhat’, ‘purrr’, ‘tidyselect’, ‘vctrs’, ‘cli’, ‘rlang’, ‘recipes’, ‘lifecycle’, ‘RANN’, ‘ROSE’\n",
      "\n",
      "\n",
      "Updating HTML index of packages in '.Library'\n",
      "\n",
      "Making 'packages.html' ...\n",
      " done\n",
      "\n"
     ]
    }
   ],
   "source": [
    "#install.packages(\"themis\")"
   ]
  },
  {
   "cell_type": "markdown",
   "id": "7cc808ea-ccdb-4e6a-9821-a86ea9d09a4e",
   "metadata": {},
   "source": [
    "The 'themis' package was used to further organize unbalanced data as our dataset mainly contained 'non-lengendary pokemon', the clustering would have a lower accuracy. This is due to most of the pokemon being automatically classified as non-legendary even if it's supposed to be legendary.\n",
    "\n",
    "Please remove the hashtag when running this line, then add the hashtag back before restarting and running the kernel. "
   ]
  },
  {
   "cell_type": "code",
   "execution_count": 1,
   "id": "c2827bcc",
   "metadata": {},
   "outputs": [
    {
     "name": "stderr",
     "output_type": "stream",
     "text": [
      "── \u001b[1mAttaching packages\u001b[22m ────────────────────────────────────── tidymodels 1.0.0 ──\n",
      "\n",
      "\u001b[32m✔\u001b[39m \u001b[34mbroom       \u001b[39m 1.0.0     \u001b[32m✔\u001b[39m \u001b[34mrecipes     \u001b[39m 1.0.6\n",
      "\u001b[32m✔\u001b[39m \u001b[34mdials       \u001b[39m 1.0.0     \u001b[32m✔\u001b[39m \u001b[34mrsample     \u001b[39m 1.0.0\n",
      "\u001b[32m✔\u001b[39m \u001b[34mdplyr       \u001b[39m 1.1.2     \u001b[32m✔\u001b[39m \u001b[34mtibble      \u001b[39m 3.2.1\n",
      "\u001b[32m✔\u001b[39m \u001b[34mggplot2     \u001b[39m 3.3.6     \u001b[32m✔\u001b[39m \u001b[34mtidyr       \u001b[39m 1.2.0\n",
      "\u001b[32m✔\u001b[39m \u001b[34minfer       \u001b[39m 1.0.2     \u001b[32m✔\u001b[39m \u001b[34mtune        \u001b[39m 1.0.0\n",
      "\u001b[32m✔\u001b[39m \u001b[34mmodeldata   \u001b[39m 1.0.0     \u001b[32m✔\u001b[39m \u001b[34mworkflows   \u001b[39m 1.0.0\n",
      "\u001b[32m✔\u001b[39m \u001b[34mparsnip     \u001b[39m 1.0.0     \u001b[32m✔\u001b[39m \u001b[34mworkflowsets\u001b[39m 1.0.0\n",
      "\u001b[32m✔\u001b[39m \u001b[34mpurrr       \u001b[39m 1.0.1     \u001b[32m✔\u001b[39m \u001b[34myardstick   \u001b[39m 1.0.0\n",
      "\n",
      "── \u001b[1mConflicts\u001b[22m ───────────────────────────────────────── tidymodels_conflicts() ──\n",
      "\u001b[31m✖\u001b[39m \u001b[34mpurrr\u001b[39m::\u001b[32mdiscard()\u001b[39m masks \u001b[34mscales\u001b[39m::discard()\n",
      "\u001b[31m✖\u001b[39m \u001b[34mdplyr\u001b[39m::\u001b[32mfilter()\u001b[39m  masks \u001b[34mstats\u001b[39m::filter()\n",
      "\u001b[31m✖\u001b[39m \u001b[34mdplyr\u001b[39m::\u001b[32mlag()\u001b[39m     masks \u001b[34mstats\u001b[39m::lag()\n",
      "\u001b[31m✖\u001b[39m \u001b[34mrecipes\u001b[39m::\u001b[32mstep()\u001b[39m  masks \u001b[34mstats\u001b[39m::step()\n",
      "\u001b[34m•\u001b[39m Use suppressPackageStartupMessages() to eliminate package startup messages\n",
      "\n",
      "── \u001b[1mAttaching packages\u001b[22m ─────────────────────────────────────── tidyverse 1.3.1 ──\n",
      "\n",
      "\u001b[32m✔\u001b[39m \u001b[34mreadr  \u001b[39m 2.1.2     \u001b[32m✔\u001b[39m \u001b[34mforcats\u001b[39m 0.5.1\n",
      "\u001b[32m✔\u001b[39m \u001b[34mstringr\u001b[39m 1.4.0     \n",
      "\n",
      "── \u001b[1mConflicts\u001b[22m ────────────────────────────────────────── tidyverse_conflicts() ──\n",
      "\u001b[31m✖\u001b[39m \u001b[34mreadr\u001b[39m::\u001b[32mcol_factor()\u001b[39m     masks \u001b[34mscales\u001b[39m::col_factor()\n",
      "\u001b[31m✖\u001b[39m \u001b[34mpurrr\u001b[39m::\u001b[32mdiscard()\u001b[39m        masks \u001b[34mscales\u001b[39m::discard()\n",
      "\u001b[31m✖\u001b[39m \u001b[34mdplyr\u001b[39m::\u001b[32mfilter()\u001b[39m         masks \u001b[34mstats\u001b[39m::filter()\n",
      "\u001b[31m✖\u001b[39m \u001b[34mstringr\u001b[39m::\u001b[32mfixed()\u001b[39m        masks \u001b[34mrecipes\u001b[39m::fixed()\n",
      "\u001b[31m✖\u001b[39m \u001b[34mreadr\u001b[39m::\u001b[32mguess_encoding()\u001b[39m masks \u001b[34mrvest\u001b[39m::guess_encoding()\n",
      "\u001b[31m✖\u001b[39m \u001b[34mdplyr\u001b[39m::\u001b[32mlag()\u001b[39m            masks \u001b[34mstats\u001b[39m::lag()\n",
      "\u001b[31m✖\u001b[39m \u001b[34mreadr\u001b[39m::\u001b[32mspec()\u001b[39m           masks \u001b[34myardstick\u001b[39m::spec()\n",
      "\n"
     ]
    }
   ],
   "source": [
    "#loading required libraries for the analysis. Install the packages if they are not previously installed.\n",
    "library(rvest)\n",
    "library(tidymodels)\n",
    "library(themis)\n",
    "library(tidyverse)\n",
    "set.seed(100)"
   ]
  },
  {
   "cell_type": "code",
   "execution_count": 2,
   "id": "37d295b8",
   "metadata": {},
   "outputs": [
    {
     "name": "stderr",
     "output_type": "stream",
     "text": [
      "\u001b[1mRows: \u001b[22m\u001b[34m800\u001b[39m \u001b[1mColumns: \u001b[22m\u001b[34m13\u001b[39m\n",
      "\u001b[36m──\u001b[39m \u001b[1mColumn specification\u001b[22m \u001b[36m────────────────────────────────────────────────────────\u001b[39m\n",
      "\u001b[1mDelimiter:\u001b[22m \",\"\n",
      "\u001b[31mchr\u001b[39m (3): Name, Type 1, Type 2\n",
      "\u001b[32mdbl\u001b[39m (9): #, Total, HP, Attack, Defense, Sp. Atk, Sp. Def, Speed, Generation\n",
      "\u001b[33mlgl\u001b[39m (1): Legendary\n",
      "\n",
      "\u001b[36mℹ\u001b[39m Use `spec()` to retrieve the full column specification for this data.\n",
      "\u001b[36mℹ\u001b[39m Specify the column types or set `show_col_types = FALSE` to quiet this message.\n"
     ]
    },
    {
     "data": {
      "text/html": [
       "<table class=\"dataframe\">\n",
       "<caption>A tibble: 6 × 13</caption>\n",
       "<thead>\n",
       "\t<tr><th scope=col>X.</th><th scope=col>Name</th><th scope=col>Type.1</th><th scope=col>Type.2</th><th scope=col>Total</th><th scope=col>HP</th><th scope=col>Attack</th><th scope=col>Defense</th><th scope=col>Sp..Atk</th><th scope=col>Sp..Def</th><th scope=col>Speed</th><th scope=col>Generation</th><th scope=col>Legendary</th></tr>\n",
       "\t<tr><th scope=col>&lt;dbl&gt;</th><th scope=col>&lt;chr&gt;</th><th scope=col>&lt;chr&gt;</th><th scope=col>&lt;chr&gt;</th><th scope=col>&lt;dbl&gt;</th><th scope=col>&lt;dbl&gt;</th><th scope=col>&lt;dbl&gt;</th><th scope=col>&lt;dbl&gt;</th><th scope=col>&lt;dbl&gt;</th><th scope=col>&lt;dbl&gt;</th><th scope=col>&lt;dbl&gt;</th><th scope=col>&lt;dbl&gt;</th><th scope=col>&lt;lgl&gt;</th></tr>\n",
       "</thead>\n",
       "<tbody>\n",
       "\t<tr><td>1</td><td>Bulbasaur            </td><td>Grass</td><td>Poison</td><td>318</td><td>45</td><td> 49</td><td> 49</td><td> 65</td><td> 65</td><td>45</td><td>1</td><td>FALSE</td></tr>\n",
       "\t<tr><td>2</td><td>Ivysaur              </td><td>Grass</td><td>Poison</td><td>405</td><td>60</td><td> 62</td><td> 63</td><td> 80</td><td> 80</td><td>60</td><td>1</td><td>FALSE</td></tr>\n",
       "\t<tr><td>3</td><td>Venusaur             </td><td>Grass</td><td>Poison</td><td>525</td><td>80</td><td> 82</td><td> 83</td><td>100</td><td>100</td><td>80</td><td>1</td><td>FALSE</td></tr>\n",
       "\t<tr><td>3</td><td>VenusaurMega Venusaur</td><td>Grass</td><td>Poison</td><td>625</td><td>80</td><td>100</td><td>123</td><td>122</td><td>120</td><td>80</td><td>1</td><td>FALSE</td></tr>\n",
       "\t<tr><td>4</td><td>Charmander           </td><td>Fire </td><td>NA    </td><td>309</td><td>39</td><td> 52</td><td> 43</td><td> 60</td><td> 50</td><td>65</td><td>1</td><td>FALSE</td></tr>\n",
       "\t<tr><td>5</td><td>Charmeleon           </td><td>Fire </td><td>NA    </td><td>405</td><td>58</td><td> 64</td><td> 58</td><td> 80</td><td> 65</td><td>80</td><td>1</td><td>FALSE</td></tr>\n",
       "</tbody>\n",
       "</table>\n"
      ],
      "text/latex": [
       "A tibble: 6 × 13\n",
       "\\begin{tabular}{lllllllllllll}\n",
       " X. & Name & Type.1 & Type.2 & Total & HP & Attack & Defense & Sp..Atk & Sp..Def & Speed & Generation & Legendary\\\\\n",
       " <dbl> & <chr> & <chr> & <chr> & <dbl> & <dbl> & <dbl> & <dbl> & <dbl> & <dbl> & <dbl> & <dbl> & <lgl>\\\\\n",
       "\\hline\n",
       "\t 1 & Bulbasaur             & Grass & Poison & 318 & 45 &  49 &  49 &  65 &  65 & 45 & 1 & FALSE\\\\\n",
       "\t 2 & Ivysaur               & Grass & Poison & 405 & 60 &  62 &  63 &  80 &  80 & 60 & 1 & FALSE\\\\\n",
       "\t 3 & Venusaur              & Grass & Poison & 525 & 80 &  82 &  83 & 100 & 100 & 80 & 1 & FALSE\\\\\n",
       "\t 3 & VenusaurMega Venusaur & Grass & Poison & 625 & 80 & 100 & 123 & 122 & 120 & 80 & 1 & FALSE\\\\\n",
       "\t 4 & Charmander            & Fire  & NA     & 309 & 39 &  52 &  43 &  60 &  50 & 65 & 1 & FALSE\\\\\n",
       "\t 5 & Charmeleon            & Fire  & NA     & 405 & 58 &  64 &  58 &  80 &  65 & 80 & 1 & FALSE\\\\\n",
       "\\end{tabular}\n"
      ],
      "text/markdown": [
       "\n",
       "A tibble: 6 × 13\n",
       "\n",
       "| X. &lt;dbl&gt; | Name &lt;chr&gt; | Type.1 &lt;chr&gt; | Type.2 &lt;chr&gt; | Total &lt;dbl&gt; | HP &lt;dbl&gt; | Attack &lt;dbl&gt; | Defense &lt;dbl&gt; | Sp..Atk &lt;dbl&gt; | Sp..Def &lt;dbl&gt; | Speed &lt;dbl&gt; | Generation &lt;dbl&gt; | Legendary &lt;lgl&gt; |\n",
       "|---|---|---|---|---|---|---|---|---|---|---|---|---|\n",
       "| 1 | Bulbasaur             | Grass | Poison | 318 | 45 |  49 |  49 |  65 |  65 | 45 | 1 | FALSE |\n",
       "| 2 | Ivysaur               | Grass | Poison | 405 | 60 |  62 |  63 |  80 |  80 | 60 | 1 | FALSE |\n",
       "| 3 | Venusaur              | Grass | Poison | 525 | 80 |  82 |  83 | 100 | 100 | 80 | 1 | FALSE |\n",
       "| 3 | VenusaurMega Venusaur | Grass | Poison | 625 | 80 | 100 | 123 | 122 | 120 | 80 | 1 | FALSE |\n",
       "| 4 | Charmander            | Fire  | NA     | 309 | 39 |  52 |  43 |  60 |  50 | 65 | 1 | FALSE |\n",
       "| 5 | Charmeleon            | Fire  | NA     | 405 | 58 |  64 |  58 |  80 |  65 | 80 | 1 | FALSE |\n",
       "\n"
      ],
      "text/plain": [
       "  X. Name                  Type.1 Type.2 Total HP Attack Defense Sp..Atk\n",
       "1 1  Bulbasaur             Grass  Poison 318   45  49     49      65    \n",
       "2 2  Ivysaur               Grass  Poison 405   60  62     63      80    \n",
       "3 3  Venusaur              Grass  Poison 525   80  82     83     100    \n",
       "4 3  VenusaurMega Venusaur Grass  Poison 625   80 100    123     122    \n",
       "5 4  Charmander            Fire   NA     309   39  52     43      60    \n",
       "6 5  Charmeleon            Fire   NA     405   58  64     58      80    \n",
       "  Sp..Def Speed Generation Legendary\n",
       "1  65     45    1          FALSE    \n",
       "2  80     60    1          FALSE    \n",
       "3 100     80    1          FALSE    \n",
       "4 120     80    1          FALSE    \n",
       "5  50     65    1          FALSE    \n",
       "6  65     80    1          FALSE    "
      ]
     },
     "metadata": {},
     "output_type": "display_data"
    }
   ],
   "source": [
    "#Reading web data using GitHub generated URL link\n",
    "\n",
    "url <- \"https://raw.githubusercontent.com/dlee03/DSCI_group_project/main/Pokemon.csv\" \n",
    "\n",
    "pokemon2 <- read_csv(url)\n",
    "colnames(pokemon2) <- make.names(colnames(pokemon2)) \n",
    "head(pokemon2)"
   ]
  },
  {
   "cell_type": "markdown",
   "id": "2b75bf88-bee1-4555-966e-02a1c27ab2b5",
   "metadata": {},
   "source": [
    "Table 1. Pokemon Dataset\n",
    "\n",
    "This data set is called 'Pokemon with Stats' from Kaggle, by using GitHub, we are able to generate a unique URl which can be read directly into R. This data was created by the user Alberto Barradas, containing the names of pokemon and all of their associated statistics, and a classification of either legendary or not legendary as variables (Pokemon, 2015). As this dataset contains all the Pokemon up to the sixth generation and their associated statistics, we will be able to create our desired model. \n"
   ]
  },
  {
   "cell_type": "code",
   "execution_count": 3,
   "id": "c36f5627",
   "metadata": {},
   "outputs": [
    {
     "data": {
      "text/html": [
       "<table class=\"dataframe\">\n",
       "<caption>A tibble: 6 × 8</caption>\n",
       "<thead>\n",
       "\t<tr><th scope=col>Name</th><th scope=col>HP</th><th scope=col>Attack</th><th scope=col>Defense</th><th scope=col>Sp..Atk</th><th scope=col>Sp..Def</th><th scope=col>Speed</th><th scope=col>Legendary</th></tr>\n",
       "\t<tr><th scope=col>&lt;chr&gt;</th><th scope=col>&lt;dbl&gt;</th><th scope=col>&lt;dbl&gt;</th><th scope=col>&lt;dbl&gt;</th><th scope=col>&lt;dbl&gt;</th><th scope=col>&lt;dbl&gt;</th><th scope=col>&lt;dbl&gt;</th><th scope=col>&lt;lgl&gt;</th></tr>\n",
       "</thead>\n",
       "<tbody>\n",
       "\t<tr><td>Bulbasaur            </td><td>45</td><td> 49</td><td> 49</td><td> 65</td><td> 65</td><td>45</td><td>FALSE</td></tr>\n",
       "\t<tr><td>Ivysaur              </td><td>60</td><td> 62</td><td> 63</td><td> 80</td><td> 80</td><td>60</td><td>FALSE</td></tr>\n",
       "\t<tr><td>Venusaur             </td><td>80</td><td> 82</td><td> 83</td><td>100</td><td>100</td><td>80</td><td>FALSE</td></tr>\n",
       "\t<tr><td>VenusaurMega Venusaur</td><td>80</td><td>100</td><td>123</td><td>122</td><td>120</td><td>80</td><td>FALSE</td></tr>\n",
       "\t<tr><td>Charmander           </td><td>39</td><td> 52</td><td> 43</td><td> 60</td><td> 50</td><td>65</td><td>FALSE</td></tr>\n",
       "\t<tr><td>Charmeleon           </td><td>58</td><td> 64</td><td> 58</td><td> 80</td><td> 65</td><td>80</td><td>FALSE</td></tr>\n",
       "</tbody>\n",
       "</table>\n"
      ],
      "text/latex": [
       "A tibble: 6 × 8\n",
       "\\begin{tabular}{llllllll}\n",
       " Name & HP & Attack & Defense & Sp..Atk & Sp..Def & Speed & Legendary\\\\\n",
       " <chr> & <dbl> & <dbl> & <dbl> & <dbl> & <dbl> & <dbl> & <lgl>\\\\\n",
       "\\hline\n",
       "\t Bulbasaur             & 45 &  49 &  49 &  65 &  65 & 45 & FALSE\\\\\n",
       "\t Ivysaur               & 60 &  62 &  63 &  80 &  80 & 60 & FALSE\\\\\n",
       "\t Venusaur              & 80 &  82 &  83 & 100 & 100 & 80 & FALSE\\\\\n",
       "\t VenusaurMega Venusaur & 80 & 100 & 123 & 122 & 120 & 80 & FALSE\\\\\n",
       "\t Charmander            & 39 &  52 &  43 &  60 &  50 & 65 & FALSE\\\\\n",
       "\t Charmeleon            & 58 &  64 &  58 &  80 &  65 & 80 & FALSE\\\\\n",
       "\\end{tabular}\n"
      ],
      "text/markdown": [
       "\n",
       "A tibble: 6 × 8\n",
       "\n",
       "| Name &lt;chr&gt; | HP &lt;dbl&gt; | Attack &lt;dbl&gt; | Defense &lt;dbl&gt; | Sp..Atk &lt;dbl&gt; | Sp..Def &lt;dbl&gt; | Speed &lt;dbl&gt; | Legendary &lt;lgl&gt; |\n",
       "|---|---|---|---|---|---|---|---|\n",
       "| Bulbasaur             | 45 |  49 |  49 |  65 |  65 | 45 | FALSE |\n",
       "| Ivysaur               | 60 |  62 |  63 |  80 |  80 | 60 | FALSE |\n",
       "| Venusaur              | 80 |  82 |  83 | 100 | 100 | 80 | FALSE |\n",
       "| VenusaurMega Venusaur | 80 | 100 | 123 | 122 | 120 | 80 | FALSE |\n",
       "| Charmander            | 39 |  52 |  43 |  60 |  50 | 65 | FALSE |\n",
       "| Charmeleon            | 58 |  64 |  58 |  80 |  65 | 80 | FALSE |\n",
       "\n"
      ],
      "text/plain": [
       "  Name                  HP Attack Defense Sp..Atk Sp..Def Speed Legendary\n",
       "1 Bulbasaur             45  49     49      65      65     45    FALSE    \n",
       "2 Ivysaur               60  62     63      80      80     60    FALSE    \n",
       "3 Venusaur              80  82     83     100     100     80    FALSE    \n",
       "4 VenusaurMega Venusaur 80 100    123     122     120     80    FALSE    \n",
       "5 Charmander            39  52     43      60      50     65    FALSE    \n",
       "6 Charmeleon            58  64     58      80      65     80    FALSE    "
      ]
     },
     "metadata": {},
     "output_type": "display_data"
    }
   ],
   "source": [
    "#summarize data that reports number of entries per column \n",
    "\n",
    "pokemon_selected <- pokemon2 |>\n",
    "    select(Name, HP, Attack, Defense, Sp..Atk, Sp..Def, Speed, Legendary)\n",
    "head(pokemon_selected)"
   ]
  },
  {
   "cell_type": "markdown",
   "id": "b4665965-58a3-4bd1-a82d-f8dd132ddb6a",
   "metadata": {},
   "source": [
    "Table 2. Selected Name, Attack, Defense, Attack Speed, Defense Speed, Speed, and Legendary columns.\n",
    "\n",
    "We will analyse different statistics of all the Pokemon up to the sixth generation, the Pokemon X and Y games, to determine what constitutes a legendary. Using our findings we will be able to create a model where we can create a new Pokemon and determine whether it would be considered a legendary or not. The statistics we will be analysing are as follows: Attack (atk) and Special (sp.atk), the amount of damage a Pokemon does with physical and special attack respectively. Defence (def) and special defence (sp. def) which are the amount of damage that the Pokemon can negate from physical and special attacks. Speed (spd), which determines which Pokemon attacks first during battle. Lastly, we are also looking at health points (hp), the amount of damage a Pokemon can take before fainting in battle (Serebii.net, 2023)."
   ]
  },
  {
   "cell_type": "code",
   "execution_count": 4,
   "id": "a440f4d1",
   "metadata": {},
   "outputs": [
    {
     "data": {
      "text/html": [
       "<table class=\"dataframe\">\n",
       "<caption>A tibble: 1 × 1</caption>\n",
       "<thead>\n",
       "\t<tr><th scope=col>counts</th></tr>\n",
       "\t<tr><th scope=col>&lt;int&gt;</th></tr>\n",
       "</thead>\n",
       "<tbody>\n",
       "\t<tr><td>800</td></tr>\n",
       "</tbody>\n",
       "</table>\n"
      ],
      "text/latex": [
       "A tibble: 1 × 1\n",
       "\\begin{tabular}{l}\n",
       " counts\\\\\n",
       " <int>\\\\\n",
       "\\hline\n",
       "\t 800\\\\\n",
       "\\end{tabular}\n"
      ],
      "text/markdown": [
       "\n",
       "A tibble: 1 × 1\n",
       "\n",
       "| counts &lt;int&gt; |\n",
       "|---|\n",
       "| 800 |\n",
       "\n"
      ],
      "text/plain": [
       "  counts\n",
       "1 800   "
      ]
     },
     "metadata": {},
     "output_type": "display_data"
    },
    {
     "data": {
      "text/html": [
       "0"
      ],
      "text/latex": [
       "0"
      ],
      "text/markdown": [
       "0"
      ],
      "text/plain": [
       "[1] 0"
      ]
     },
     "metadata": {},
     "output_type": "display_data"
    }
   ],
   "source": [
    "#find counts in each\n",
    "pokemon_counts <- pokemon_selected |> \n",
    "    group_by() |>\n",
    "    summarize(counts = n())\n",
    "head(pokemon_counts)\n",
    "\n",
    "sum(is.na(pokemon_counts)) #check if there is any missing data in the dataframe"
   ]
  },
  {
   "cell_type": "markdown",
   "id": "c7ca8ec5-d09f-4e59-81a4-20a3e5abd77e",
   "metadata": {},
   "source": [
    "By using summarize counts, we use pokemon_counts to represent the number of rows/observations present in the data frame. We also checked for missing data as the final indicator to whether or not we need to continue cleaning the data before training the model. "
   ]
  },
  {
   "cell_type": "code",
   "execution_count": 5,
   "id": "2029ce63",
   "metadata": {},
   "outputs": [],
   "source": [
    "#convert the character variable to the factor datatype\n",
    "pokemon_data <- pokemon_selected |>\n",
    "    mutate(Legendary = as_factor(Legendary)) "
   ]
  },
  {
   "cell_type": "markdown",
   "id": "7584628c-73b1-4223-b35f-145dea876f35",
   "metadata": {},
   "source": [
    "The final step we used to clean and wrangle the data was to convert the Legendary column into a factor, which allows statistical functions to be made on these values. "
   ]
  },
  {
   "cell_type": "code",
   "execution_count": 25,
   "id": "fcc49875-5e3b-4c4b-81a9-71c1ad8b1287",
   "metadata": {},
   "outputs": [
    {
     "data": {
      "text/html": [
       "<table class=\"dataframe\">\n",
       "<caption>A tibble: 12 × 3</caption>\n",
       "<thead>\n",
       "\t<tr><th scope=col>Legendary</th><th scope=col>pokemon_category</th><th scope=col>mean_value</th></tr>\n",
       "\t<tr><th scope=col>&lt;fct&gt;</th><th scope=col>&lt;chr&gt;</th><th scope=col>&lt;dbl&gt;</th></tr>\n",
       "</thead>\n",
       "<tbody>\n",
       "\t<tr><td>FALSE</td><td>HP     </td><td> 67.18231</td></tr>\n",
       "\t<tr><td>FALSE</td><td>Attack </td><td> 75.66939</td></tr>\n",
       "\t<tr><td>FALSE</td><td>Defense</td><td> 71.55918</td></tr>\n",
       "\t<tr><td>FALSE</td><td>Sp..Atk</td><td> 68.45442</td></tr>\n",
       "\t<tr><td>FALSE</td><td>Sp..Def</td><td> 68.89252</td></tr>\n",
       "\t<tr><td>FALSE</td><td>Speed  </td><td> 65.45578</td></tr>\n",
       "\t<tr><td>TRUE </td><td>HP     </td><td> 92.73846</td></tr>\n",
       "\t<tr><td>TRUE </td><td>Attack </td><td>116.67692</td></tr>\n",
       "\t<tr><td>TRUE </td><td>Defense</td><td> 99.66154</td></tr>\n",
       "\t<tr><td>TRUE </td><td>Sp..Atk</td><td>122.18462</td></tr>\n",
       "\t<tr><td>TRUE </td><td>Sp..Def</td><td>105.93846</td></tr>\n",
       "\t<tr><td>TRUE </td><td>Speed  </td><td>100.18462</td></tr>\n",
       "</tbody>\n",
       "</table>\n"
      ],
      "text/latex": [
       "A tibble: 12 × 3\n",
       "\\begin{tabular}{lll}\n",
       " Legendary & pokemon\\_category & mean\\_value\\\\\n",
       " <fct> & <chr> & <dbl>\\\\\n",
       "\\hline\n",
       "\t FALSE & HP      &  67.18231\\\\\n",
       "\t FALSE & Attack  &  75.66939\\\\\n",
       "\t FALSE & Defense &  71.55918\\\\\n",
       "\t FALSE & Sp..Atk &  68.45442\\\\\n",
       "\t FALSE & Sp..Def &  68.89252\\\\\n",
       "\t FALSE & Speed   &  65.45578\\\\\n",
       "\t TRUE  & HP      &  92.73846\\\\\n",
       "\t TRUE  & Attack  & 116.67692\\\\\n",
       "\t TRUE  & Defense &  99.66154\\\\\n",
       "\t TRUE  & Sp..Atk & 122.18462\\\\\n",
       "\t TRUE  & Sp..Def & 105.93846\\\\\n",
       "\t TRUE  & Speed   & 100.18462\\\\\n",
       "\\end{tabular}\n"
      ],
      "text/markdown": [
       "\n",
       "A tibble: 12 × 3\n",
       "\n",
       "| Legendary &lt;fct&gt; | pokemon_category &lt;chr&gt; | mean_value &lt;dbl&gt; |\n",
       "|---|---|---|\n",
       "| FALSE | HP      |  67.18231 |\n",
       "| FALSE | Attack  |  75.66939 |\n",
       "| FALSE | Defense |  71.55918 |\n",
       "| FALSE | Sp..Atk |  68.45442 |\n",
       "| FALSE | Sp..Def |  68.89252 |\n",
       "| FALSE | Speed   |  65.45578 |\n",
       "| TRUE  | HP      |  92.73846 |\n",
       "| TRUE  | Attack  | 116.67692 |\n",
       "| TRUE  | Defense |  99.66154 |\n",
       "| TRUE  | Sp..Atk | 122.18462 |\n",
       "| TRUE  | Sp..Def | 105.93846 |\n",
       "| TRUE  | Speed   | 100.18462 |\n",
       "\n"
      ],
      "text/plain": [
       "   Legendary pokemon_category mean_value\n",
       "1  FALSE     HP                67.18231 \n",
       "2  FALSE     Attack            75.66939 \n",
       "3  FALSE     Defense           71.55918 \n",
       "4  FALSE     Sp..Atk           68.45442 \n",
       "5  FALSE     Sp..Def           68.89252 \n",
       "6  FALSE     Speed             65.45578 \n",
       "7  TRUE      HP                92.73846 \n",
       "8  TRUE      Attack           116.67692 \n",
       "9  TRUE      Defense           99.66154 \n",
       "10 TRUE      Sp..Atk          122.18462 \n",
       "11 TRUE      Sp..Def          105.93846 \n",
       "12 TRUE      Speed            100.18462 "
      ]
     },
     "metadata": {},
     "output_type": "display_data"
    }
   ],
   "source": [
    "#visualization of the dataset that is relevant for exploratory data analysis related to the planned analysis \n",
    "\n",
    "p_stat_avg <- pokemon_data |> \n",
    "    select(HP:Legendary) |> \n",
    "    group_by(Legendary) |>\n",
    "    summarize(across(HP:Speed, mean)) |>\n",
    "    pivot_longer(cols = HP:Speed, \n",
    "                 names_to = \"pokemon_category\", \n",
    "                 values_to = \"mean_value\")\n",
    "p_stat_avg"
   ]
  },
  {
   "cell_type": "code",
   "execution_count": 28,
   "id": "f57fda8d-d6fd-4e14-9b9a-859244604715",
   "metadata": {},
   "outputs": [
    {
     "data": {
      "image/png": "[encoded data removed]",
      "text/plain": [
       "plot without title"
      ]
     },
     "metadata": {
      "image/png": {
       "height": 840,
       "width": 1080
      }
     },
     "output_type": "display_data"
    }
   ],
   "source": [
    "options(repr.plot.height = 14, repr.plot.width = 18)\n",
    "pokemon_bar <- ggplot(p_stat_avg, aes(x = pokemon_category, y = mean_value, fill = Legendary)) +  \n",
    "    geom_bar(stat = \"identity\", position = \"dodge\") + \n",
    "    xlab(\"Pokemon Statistic\") +\n",
    "    ylab(\"Points\") +\n",
    "    labs(fill = \"Legendary Pokemon\") +\n",
    "    theme(text = element_text(size = 20))\n",
    "pokemon_bar"
   ]
  },
  {
   "cell_type": "markdown",
   "id": "f631778e-19a6-40e6-9e22-6ae17df8aca6",
   "metadata": {},
   "source": [
    "Figure 1. Mean Pokemon Averages per Statistic Category. \n",
    "\n",
    "This is the initial visualization of the average stats between legendary and nonlegendary pokemon. From this bar graph, we can clearly see legendary pokemon tend to have higher values for all stats."
   ]
  },
  {
   "cell_type": "code",
   "execution_count": 7,
   "id": "23fa7d4c-5ee5-4729-9f02-0aff46daa106",
   "metadata": {},
   "outputs": [],
   "source": [
    "stats <- pokemon_data |>\n",
    "    select(HP:Speed)\n",
    "pokemon_data <- pokemon_data |>\n",
    "    mutate(total_stats = rowSums(stats))"
   ]
  },
  {
   "cell_type": "code",
   "execution_count": 8,
   "id": "47c9c7b3",
   "metadata": {},
   "outputs": [],
   "source": [
    "#make training data set\n",
    "pokemon_split <- initial_split(pokemon_data, prop = 0.75, strata = Legendary)\n",
    "pokemon_train <- training(pokemon_split)\n",
    "pokemon_test <- testing(pokemon_split)"
   ]
  },
  {
   "cell_type": "markdown",
   "id": "746d8c00-f459-4f2b-8c81-8185acd93e42",
   "metadata": {},
   "source": [
    "A training and testing dataset is made, we will be using the training data set to build the model and the testing set to check it's accuracy. "
   ]
  },
  {
   "cell_type": "code",
   "execution_count": null,
   "id": "2e8d3251",
   "metadata": {},
   "outputs": [],
   "source": [
    "#table of the mean stats of the training set pokemon, and the number of pokemon used in the training set.\n",
    "nrow(pokemon_train)\n",
    "mean_stats_table <- pokemon_train |> \n",
    "    summarize(across(HP:total_stats, mean)) |>\n",
    "    add_column(n_training_pokemon = 600)\n",
    "mean_stats_table"
   ]
  },
  {
   "cell_type": "markdown",
   "id": "4677c2e1-451e-47e1-9823-ed409e8dc90f",
   "metadata": {},
   "source": [
    "Table 3. Summary of statistics of training set Pokemon.\n",
    "\n",
    "Using these statistics we can train the model to predict legendary status based on previously clustered values. "
   ]
  },
  {
   "cell_type": "code",
   "execution_count": null,
   "id": "586afaba-c1df-42d1-bde6-c05e65078269",
   "metadata": {},
   "outputs": [],
   "source": [
    "#create a recipe and model for the analysis\n",
    "\n",
    "pokemon_recipe <- recipe(Legendary ~ total_stats, data = pokemon_train) |>\n",
    "                    step_upsample(Legendary, over_ratio = 1, skip = TRUE)\n",
    "                \n",
    "\n",
    "pokemon_spec <- nearest_neighbor(weight_func = \"rectangular\", neighbors = tune()) |>\n",
    "                set_engine(\"kknn\") |>\n",
    "                set_mode(\"classification\")"
   ]
  },
  {
   "cell_type": "markdown",
   "id": "651f50f6-8789-45a4-9ee4-a1ea6dba2ac6",
   "metadata": {},
   "source": [
    "Recipe, workflow and fit will be used to train the classifier."
   ]
  },
  {
   "cell_type": "code",
   "execution_count": null,
   "id": "13447fec-32f5-4465-8130-5ede410f0bbe",
   "metadata": {},
   "outputs": [],
   "source": [
    "#cross-validate and tune the model using a 10-fold cross-validation\n",
    "pokemon_vfold <- vfold_cv(pokemon_train, v = 10, strata = Legendary)\n",
    "\n",
    "kvals <- tibble(neighbors = seq(from = 1, to = 50, by = 1))\n",
    "\n",
    "pokemon_k_test <- workflow() |>\n",
    "    add_recipe(pokemon_recipe) |>\n",
    "    add_model(pokemon_spec) |>\n",
    "    tune_grid(resamples = pokemon_vfold, grid = kvals) |>\n",
    "    collect_metrics()\n",
    "\n",
    "accuracies <- pokemon_k_test |>\n",
    "    filter(.metric == \"accuracy\")\n",
    "head(accuracies, 25)\n",
    "\n",
    "k_val_plot <-  ggplot(accuracies, aes(x = neighbors, y = mean))+\n",
    "       geom_point() +\n",
    "       geom_line() +\n",
    "       labs(x = \"Neighbors\", y = \"Accuracy Estimate\") +\n",
    "       ggtitle (\"Accuracies vs. K\")+\n",
    "       theme(text = element_text(size =20))+ \n",
    "       scale_x_continuous(breaks = seq(0, 14, by = 1)) +  \n",
    "       scale_y_continuous(limits = c(0.4, 1.0)) \n",
    "k_val_plot"
   ]
  },
  {
   "cell_type": "markdown",
   "id": "3e6cc90c-bf7e-4b41-9266-8f2425f1c214",
   "metadata": {},
   "source": [
    "Table 4. Accuracies of training set data.\n",
    "\n",
    "Figure 2. Accuracy Estimate vs. K-Nearest Neighbours. \n",
    "\n",
    "Here we are using K=9 because we can see an increase in accuracy between 8 and 9, and later stabilizes as you increase the number of clusters. Therefore 9 clusters offers the least number of neighbors for the highest accuracy. "
   ]
  },
  {
   "cell_type": "code",
   "execution_count": null,
   "id": "6dd52d00-7fe2-49e0-874c-27cf9810ac9a",
   "metadata": {},
   "outputs": [],
   "source": [
    "#create a new model with k = 9\n",
    "pokemon_best_spec <- nearest_neighbor(weight_func = \"rectangular\", neighbors = 9) |>\n",
    "                set_engine(\"kknn\") |>\n",
    "                set_mode(\"classification\")\n",
    "\n",
    "pokemon_fit <- workflow() |>\n",
    "    add_recipe(pokemon_recipe) |>\n",
    "    add_model(pokemon_best_spec) |>\n",
    "    fit(data = pokemon_train)\n",
    "pokemon_fit"
   ]
  },
  {
   "cell_type": "markdown",
   "id": "92e03c11-fb7b-45f9-a4c5-1f38be62edd4",
   "metadata": {},
   "source": [
    "Recipe, workflow and fit will be used again to train the classifier using the training dataset."
   ]
  },
  {
   "cell_type": "code",
   "execution_count": 10,
   "id": "8f1deecd-cccf-4ce4-838d-d0b498dbe006",
   "metadata": {},
   "outputs": [
    {
     "ename": "ERROR",
     "evalue": "Error in bind_cols(predict(pokemon_fit, pokemon_test), pokemon_test): could not find function \"bind_cols\"\n",
     "output_type": "error",
     "traceback": [
      "Error in bind_cols(predict(pokemon_fit, pokemon_test), pokemon_test): could not find function \"bind_cols\"\nTraceback:\n"
     ]
    }
   ],
   "source": [
    "pokemon_predictions <- predict(pokemon_fit, pokemon_test) |>\n",
    "                     bind_cols(pokemon_test) \n",
    "head(pokemon_predictions, 20)    \n",
    "\n",
    "pokemon_metrics <- pokemon_predictions |>\n",
    "                 metrics(truth = Legendary, estimate = .pred_class) |>\n",
    "                 filter(.metric == \"accuracy\")\n",
    "pokemon_metrics\n",
    "\n",
    "pokemon_conf_mat <- pokemon_predictions |>\n",
    "                  conf_mat(truth = Legendary, estimate = .pred_class)\n",
    "pokemon_conf_mat"
   ]
  },
  {
   "cell_type": "markdown",
   "id": "b7172187-ef5d-4c7d-bfa1-a4a60fec45dc",
   "metadata": {},
   "source": [
    "Table 5. Prediction of pokemon class (legendary vs. non legendary). \n",
    "\n",
    "Table 6. Matrix for predictions using testing data. \n",
    "\n",
    "Accuracy is tested using the testing dataset by comparing it to the model made by the training dataset. Here 193 (183+10) pokemon were predicted correctly and 7 (2+5) predicted incorrectly. This gives us an accuracy of 96.5% for our model. "
   ]
  },
  {
   "cell_type": "code",
   "execution_count": 9,
   "id": "9ea2e2f9-4313-478b-b1e7-7838a8f77739",
   "metadata": {},
   "outputs": [
    {
     "ename": "ERROR",
     "evalue": "Error in ggplot(pokemon_predictions, aes(x = Legendary, y = total_stats, : could not find function \"ggplot\"\n",
     "output_type": "error",
     "traceback": [
      "Error in ggplot(pokemon_predictions, aes(x = Legendary, y = total_stats, : could not find function \"ggplot\"\nTraceback:\n"
     ]
    }
   ],
   "source": [
    "pokemon_true_box_plot <- pokemon_predictions |>\n",
    "    ggplot(aes(x = Legendary, y = total_stats, fill = Legendary)) +\n",
    "    geom_boxplot() +\n",
    "    ggtitle(\"True Legendary Classification\") +\n",
    "    theme(text = element_text(size =20))\n",
    "pokemon_true_box_plot\n",
    "\n",
    "pokemon_pred_box_plot <- pokemon_predictions |>\n",
    "    ggplot(aes(x = .pred_class, y = total_stats, fill = .pred_class)) +\n",
    "    geom_boxplot() +\n",
    "    ggtitle(\"Predictive Legendary Classification\") +\n",
    "    theme(text = element_text(size =20))\n",
    "pokemon_pred_box_plot"
   ]
  },
  {
   "cell_type": "markdown",
   "id": "e6c8ea5f-e423-4fe2-a534-155ceb2c8ec4",
   "metadata": {},
   "source": [
    "Figure 3A. True Pokemon Stats Plot (first plot) \n",
    "\n",
    "Figure 3B. Predicted Pokemon Stats Plot (second plot) \n",
    "\n",
    "By using both of these plots, the classification of legendary with their statistics can be compared. We can see that the model (Fig 3B) generally performed well, with higher 'total stats' values being classified as legendary (similiar shape and distribution as Fig 3A) with minimal error. For example, the mean is represented by the horizontal line in the box, and we can see the predictive class often put higher values as legendary, therefore having a higher avg stat. This observation can also be seen in the whiskers of the plot with the predictive class having shorter/lower maximum value due to the classifyer clustering them as legendary. "
   ]
  },
  {
   "cell_type": "code",
   "execution_count": null,
   "id": "d6eec3a4-4324-4956-a61b-1941cd568047",
   "metadata": {},
   "outputs": [],
   "source": [
    "new_pokemon <- tibble(total_stats = 523, Name = \"Dsci Beast\") \n",
    "\n",
    "predict(pokemon_fit, new_pokemon)"
   ]
  },
  {
   "cell_type": "markdown",
   "id": "57f3b765-614b-45b4-8d53-9325aadaef5e",
   "metadata": {},
   "source": [
    "Here we tested our model by inputting a hypothetical pokemon with total_stats of 523 and produced FALSE. This is expected as on our 'pokemon prediction box plot' (Figure 3) this Pokemon would lie within the range of the non-legendary Pokemon, classifying it as non-legendary. This indicates our analysis agreed with what we expected to see, and our predictive model was able to successively predict our Pokemon. "
   ]
  },
  {
   "cell_type": "markdown",
   "id": "0cd10474-c356-45cd-91ec-28134968b2e8",
   "metadata": {},
   "source": [
    "Discussion: \n",
    "\n",
    "This analysis was expected to demonstrate that our Pokemon is classified as legendary if its attack, defense, special defense, hp, and speed variables lie within the range of other legendary Pokemon, and a non-legendary Pokemon if they lie below it. After analyzing our data, we determined that our predictive model works as we expected. First, we made a 75% training model using all the chosen variables of the Pokemon and then used a 25% testing data set to determine our models accuracy. Using this, we noticed that the a k-nearest neighbor value of 9 provided the best accuracy of 97%. This accuracy demonstrated the data was sufficient to use in predicting our Pokemon. We converted “Legendary” into a factor in order to use statistical functions of the column. We visualized our findings in a box plot, noticing that significant differences in variable values between legendary (blue) and non-legendary (red) Pokemon exist, with values significantly larger for legendary Pokemon compared to non-legendary Pokemon. By creating this plot, in theory, we could plot any Pokemon to determine whether it is legendary or not. \n",
    "\n",
    "Though our predictive model was able to predict the legendary status of our Pokemon in theory, these results may demonstrate no impact as legendary Pokemon can only be deemed legendary by the game developers themselves and there is no perfect way to determine them otherwise. However, our findings can be used by these game developers in using the general statistics found to create legendary and non-legendary Pokemon, as well as used by game players to analyze the strength and value of their own Pokemon based on its own statistics. In the development of new Pokemon, this analysis leads to the future question of what the threshold of the different attack, special attack, defense, special defense, HP, and speed variables game developers can set for a legendary Pokemon in order to ensure fairness of play between others in the future.\n",
    "\n"
   ]
  },
  {
   "cell_type": "markdown",
   "id": "2ade0932-256f-41eb-b312-1ba97aff75c5",
   "metadata": {},
   "source": [
    "Citations:\n",
    "\n",
    "    Barradas, A. (2016, August 29). Pokemon with stats. Kaggle. https://www.kaggle.com/datasets/abcsds/pokemon \n",
    "\n",
    "    Pokemon. (2015). In Encyclopædia Britannica. Retrieved from http://www.britannica.com/EBchecked/topic/1474435/Pokemon\n",
    "\n",
    "    Padilla, R. (2003, March 17). Pok¿Mon Ruby/Sapphire. GameSpy. https://web.archive.org/web/20131002205143/http://uk.gba.gamespy.com/gameboy-advance/pokemon-ruby-version/498107p1.html\n",
    "\n",
    "    Serebii.net. (2023). Serebii.net games - statistics. Serebii.net Header. https://www.serebii.net/games/stats.shtml \n"
   ]
  },
  {
   "cell_type": "code",
   "execution_count": null,
   "id": "0306b322-8eb1-4c9b-b561-cc9a2a5652b7",
   "metadata": {},
   "outputs": [],
   "source": []
  }
 ],
 "metadata": {
  "kernelspec": {
   "display_name": "R",
   "language": "R",
   "name": "ir"
  },
  "language_info": {
   "codemirror_mode": "r",
   "file_extension": ".r",
   "mimetype": "text/x-r-source",
   "name": "R",
   "pygments_lexer": "r",
   "version": "4.1.3"
  }
 },
 "nbformat": 4,
 "nbformat_minor": 5
}
