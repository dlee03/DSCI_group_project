{
 "cells": [
  {
   "cell_type": "markdown",
   "id": "18ec4afc",
   "metadata": {},
   "source": [
    "DSCI100/002 Group 5\n",
    "\n",
    "Decoding Legendary Pokemon "
   ]
  },
  {
   "cell_type": "markdown",
   "id": "94c1905c",
   "metadata": {},
   "source": [
    "Introduction:\n",
    "Pokemon is an entertainment franchise that surrounds a make-believe world where people catch, train and battle animals known as Pokemon. They are created with various statistics, appearances and personalities. In these games we as the player create teams and travel across various regions to battle other trainers and wild Pokemon. All Pokemon have set statistics determining how powerful they are, with the highly desirable “Legendary Pokemon” having much higher statistics than most of the non-legendaries. \n",
    "Our predictive question is to determine whether a hypothetical Pokemon we create with random statistics should be considered legendary. We will analyze different selected variables of all the Pokemon up to the sixth generation to determine what constitutes a legendary and put our findings against our new Pokemon to determine if it is legendary or not. For our data, we are using the ‘Pokemon with Stats' dataset from Kaggle, containing the names of pokemon and all of their statistics, and a classification of either legendary or not legendary as variables. (source: https://www.kaggle.com/datasets/abcsds/pokemon)"
   ]
  },
  {
   "cell_type": "markdown",
   "id": "0693b7be",
   "metadata": {},
   "source": [
    "Methods:\n",
    "A classification model will be built, using the variables of attack, special attack, defense, special defense, and speed. These variables were chosen because they are the 5 traits that determine the overall strength/quality of a pokemon and there is typically a large difference in these values between legendary-tier pokemon and normal pokemon, so the predictor can be accurate using a nearest k-neighbors classifier. \n",
    "One way the results will be visualized is on a box plot, where the y axis is a total sum of all 5 predictor variables together, representing the overall strength of the pokemon. There will be four boxes, one box represents legendary pokemon, one represents non-legendary pokemon. Unknown classes will have 2 different boxes, one for legendary and one for non-legendary based on the prediction of the model. This will allow the reader to see the average stats of the different classes of pokemon, and whether the averages of the predictions match the averages of the known classifications."
   ]
  },
  {
   "cell_type": "code",
   "execution_count": 1,
   "id": "b3f704b8-a341-4448-89d2-212efb5afc1d",
   "metadata": {},
   "outputs": [],
   "source": [
    "#install.packages(\"themis\")"
   ]
  },
  {
   "cell_type": "code",
   "execution_count": 2,
   "id": "c2827bcc",
   "metadata": {},
   "outputs": [
    {
     "name": "stderr",
     "output_type": "stream",
     "text": [
      "── \u001b[1mAttaching packages\u001b[22m ────────────────────────────────────── tidymodels 1.0.0 ──\n",
      "\n",
      "\u001b[32m✔\u001b[39m \u001b[34mbroom       \u001b[39m 1.0.0     \u001b[32m✔\u001b[39m \u001b[34mrecipes     \u001b[39m 1.0.6\n",
      "\u001b[32m✔\u001b[39m \u001b[34mdials       \u001b[39m 1.0.0     \u001b[32m✔\u001b[39m \u001b[34mrsample     \u001b[39m 1.0.0\n",
      "\u001b[32m✔\u001b[39m \u001b[34mdplyr       \u001b[39m 1.1.2     \u001b[32m✔\u001b[39m \u001b[34mtibble      \u001b[39m 3.2.1\n",
      "\u001b[32m✔\u001b[39m \u001b[34mggplot2     \u001b[39m 3.3.6     \u001b[32m✔\u001b[39m \u001b[34mtidyr       \u001b[39m 1.2.0\n",
      "\u001b[32m✔\u001b[39m \u001b[34minfer       \u001b[39m 1.0.2     \u001b[32m✔\u001b[39m \u001b[34mtune        \u001b[39m 1.0.0\n",
      "\u001b[32m✔\u001b[39m \u001b[34mmodeldata   \u001b[39m 1.0.0     \u001b[32m✔\u001b[39m \u001b[34mworkflows   \u001b[39m 1.0.0\n",
      "\u001b[32m✔\u001b[39m \u001b[34mparsnip     \u001b[39m 1.0.0     \u001b[32m✔\u001b[39m \u001b[34mworkflowsets\u001b[39m 1.0.0\n",
      "\u001b[32m✔\u001b[39m \u001b[34mpurrr       \u001b[39m 1.0.1     \u001b[32m✔\u001b[39m \u001b[34myardstick   \u001b[39m 1.0.0\n",
      "\n",
      "── \u001b[1mConflicts\u001b[22m ───────────────────────────────────────── tidymodels_conflicts() ──\n",
      "\u001b[31m✖\u001b[39m \u001b[34mpurrr\u001b[39m::\u001b[32mdiscard()\u001b[39m masks \u001b[34mscales\u001b[39m::discard()\n",
      "\u001b[31m✖\u001b[39m \u001b[34mdplyr\u001b[39m::\u001b[32mfilter()\u001b[39m  masks \u001b[34mstats\u001b[39m::filter()\n",
      "\u001b[31m✖\u001b[39m \u001b[34mdplyr\u001b[39m::\u001b[32mlag()\u001b[39m     masks \u001b[34mstats\u001b[39m::lag()\n",
      "\u001b[31m✖\u001b[39m \u001b[34mrecipes\u001b[39m::\u001b[32mstep()\u001b[39m  masks \u001b[34mstats\u001b[39m::step()\n",
      "\u001b[34m•\u001b[39m Use \u001b[32mtidymodels_prefer()\u001b[39m to resolve common conflicts.\n",
      "\n",
      "── \u001b[1mAttaching packages\u001b[22m ─────────────────────────────────────── tidyverse 1.3.1 ──\n",
      "\n",
      "\u001b[32m✔\u001b[39m \u001b[34mreadr  \u001b[39m 2.1.2     \u001b[32m✔\u001b[39m \u001b[34mforcats\u001b[39m 0.5.1\n",
      "\u001b[32m✔\u001b[39m \u001b[34mstringr\u001b[39m 1.4.0     \n",
      "\n",
      "── \u001b[1mConflicts\u001b[22m ────────────────────────────────────────── tidyverse_conflicts() ──\n",
      "\u001b[31m✖\u001b[39m \u001b[34mreadr\u001b[39m::\u001b[32mcol_factor()\u001b[39m     masks \u001b[34mscales\u001b[39m::col_factor()\n",
      "\u001b[31m✖\u001b[39m \u001b[34mpurrr\u001b[39m::\u001b[32mdiscard()\u001b[39m        masks \u001b[34mscales\u001b[39m::discard()\n",
      "\u001b[31m✖\u001b[39m \u001b[34mdplyr\u001b[39m::\u001b[32mfilter()\u001b[39m         masks \u001b[34mstats\u001b[39m::filter()\n",
      "\u001b[31m✖\u001b[39m \u001b[34mstringr\u001b[39m::\u001b[32mfixed()\u001b[39m        masks \u001b[34mrecipes\u001b[39m::fixed()\n",
      "\u001b[31m✖\u001b[39m \u001b[34mreadr\u001b[39m::\u001b[32mguess_encoding()\u001b[39m masks \u001b[34mrvest\u001b[39m::guess_encoding()\n",
      "\u001b[31m✖\u001b[39m \u001b[34mdplyr\u001b[39m::\u001b[32mlag()\u001b[39m            masks \u001b[34mstats\u001b[39m::lag()\n",
      "\u001b[31m✖\u001b[39m \u001b[34mreadr\u001b[39m::\u001b[32mspec()\u001b[39m           masks \u001b[34myardstick\u001b[39m::spec()\n",
      "\n"
     ]
    }
   ],
   "source": [
    "#loading required libraries for the analysis. Install the packages if they are not previously installed.\n",
    "library(rvest)\n",
    "library(tidymodels)\n",
    "library(themis)\n",
    "library(tidyverse)\n",
    "set.seed(100)"
   ]
  },
  {
   "cell_type": "code",
   "execution_count": 3,
   "id": "37d295b8",
   "metadata": {},
   "outputs": [
    {
     "name": "stderr",
     "output_type": "stream",
     "text": [
      "\u001b[1mRows: \u001b[22m\u001b[34m800\u001b[39m \u001b[1mColumns: \u001b[22m\u001b[34m13\u001b[39m\n",
      "\u001b[36m──\u001b[39m \u001b[1mColumn specification\u001b[22m \u001b[36m────────────────────────────────────────────────────────\u001b[39m\n",
      "\u001b[1mDelimiter:\u001b[22m \",\"\n",
      "\u001b[31mchr\u001b[39m (3): Name, Type 1, Type 2\n",
      "\u001b[32mdbl\u001b[39m (9): #, Total, HP, Attack, Defense, Sp. Atk, Sp. Def, Speed, Generation\n",
      "\u001b[33mlgl\u001b[39m (1): Legendary\n",
      "\n",
      "\u001b[36mℹ\u001b[39m Use `spec()` to retrieve the full column specification for this data.\n",
      "\u001b[36mℹ\u001b[39m Specify the column types or set `show_col_types = FALSE` to quiet this message.\n"
     ]
    },
    {
     "data": {
      "text/html": [
       "<table class=\"dataframe\">\n",
       "<caption>A tibble: 6 × 13</caption>\n",
       "<thead>\n",
       "\t<tr><th scope=col>#</th><th scope=col>Name</th><th scope=col>Type 1</th><th scope=col>Type 2</th><th scope=col>Total</th><th scope=col>HP</th><th scope=col>Attack</th><th scope=col>Defense</th><th scope=col>Sp. Atk</th><th scope=col>Sp. Def</th><th scope=col>Speed</th><th scope=col>Generation</th><th scope=col>Legendary</th></tr>\n",
       "\t<tr><th scope=col>&lt;dbl&gt;</th><th scope=col>&lt;chr&gt;</th><th scope=col>&lt;chr&gt;</th><th scope=col>&lt;chr&gt;</th><th scope=col>&lt;dbl&gt;</th><th scope=col>&lt;dbl&gt;</th><th scope=col>&lt;dbl&gt;</th><th scope=col>&lt;dbl&gt;</th><th scope=col>&lt;dbl&gt;</th><th scope=col>&lt;dbl&gt;</th><th scope=col>&lt;dbl&gt;</th><th scope=col>&lt;dbl&gt;</th><th scope=col>&lt;lgl&gt;</th></tr>\n",
       "</thead>\n",
       "<tbody>\n",
       "\t<tr><td>1</td><td>Bulbasaur            </td><td>Grass</td><td>Poison</td><td>318</td><td>45</td><td> 49</td><td> 49</td><td> 65</td><td> 65</td><td>45</td><td>1</td><td>FALSE</td></tr>\n",
       "\t<tr><td>2</td><td>Ivysaur              </td><td>Grass</td><td>Poison</td><td>405</td><td>60</td><td> 62</td><td> 63</td><td> 80</td><td> 80</td><td>60</td><td>1</td><td>FALSE</td></tr>\n",
       "\t<tr><td>3</td><td>Venusaur             </td><td>Grass</td><td>Poison</td><td>525</td><td>80</td><td> 82</td><td> 83</td><td>100</td><td>100</td><td>80</td><td>1</td><td>FALSE</td></tr>\n",
       "\t<tr><td>3</td><td>VenusaurMega Venusaur</td><td>Grass</td><td>Poison</td><td>625</td><td>80</td><td>100</td><td>123</td><td>122</td><td>120</td><td>80</td><td>1</td><td>FALSE</td></tr>\n",
       "\t<tr><td>4</td><td>Charmander           </td><td>Fire </td><td>NA    </td><td>309</td><td>39</td><td> 52</td><td> 43</td><td> 60</td><td> 50</td><td>65</td><td>1</td><td>FALSE</td></tr>\n",
       "\t<tr><td>5</td><td>Charmeleon           </td><td>Fire </td><td>NA    </td><td>405</td><td>58</td><td> 64</td><td> 58</td><td> 80</td><td> 65</td><td>80</td><td>1</td><td>FALSE</td></tr>\n",
       "</tbody>\n",
       "</table>\n"
      ],
      "text/latex": [
       "A tibble: 6 × 13\n",
       "\\begin{tabular}{lllllllllllll}\n",
       " \\# & Name & Type 1 & Type 2 & Total & HP & Attack & Defense & Sp. Atk & Sp. Def & Speed & Generation & Legendary\\\\\n",
       " <dbl> & <chr> & <chr> & <chr> & <dbl> & <dbl> & <dbl> & <dbl> & <dbl> & <dbl> & <dbl> & <dbl> & <lgl>\\\\\n",
       "\\hline\n",
       "\t 1 & Bulbasaur             & Grass & Poison & 318 & 45 &  49 &  49 &  65 &  65 & 45 & 1 & FALSE\\\\\n",
       "\t 2 & Ivysaur               & Grass & Poison & 405 & 60 &  62 &  63 &  80 &  80 & 60 & 1 & FALSE\\\\\n",
       "\t 3 & Venusaur              & Grass & Poison & 525 & 80 &  82 &  83 & 100 & 100 & 80 & 1 & FALSE\\\\\n",
       "\t 3 & VenusaurMega Venusaur & Grass & Poison & 625 & 80 & 100 & 123 & 122 & 120 & 80 & 1 & FALSE\\\\\n",
       "\t 4 & Charmander            & Fire  & NA     & 309 & 39 &  52 &  43 &  60 &  50 & 65 & 1 & FALSE\\\\\n",
       "\t 5 & Charmeleon            & Fire  & NA     & 405 & 58 &  64 &  58 &  80 &  65 & 80 & 1 & FALSE\\\\\n",
       "\\end{tabular}\n"
      ],
      "text/markdown": [
       "\n",
       "A tibble: 6 × 13\n",
       "\n",
       "| # &lt;dbl&gt; | Name &lt;chr&gt; | Type 1 &lt;chr&gt; | Type 2 &lt;chr&gt; | Total &lt;dbl&gt; | HP &lt;dbl&gt; | Attack &lt;dbl&gt; | Defense &lt;dbl&gt; | Sp. Atk &lt;dbl&gt; | Sp. Def &lt;dbl&gt; | Speed &lt;dbl&gt; | Generation &lt;dbl&gt; | Legendary &lt;lgl&gt; |\n",
       "|---|---|---|---|---|---|---|---|---|---|---|---|---|\n",
       "| 1 | Bulbasaur             | Grass | Poison | 318 | 45 |  49 |  49 |  65 |  65 | 45 | 1 | FALSE |\n",
       "| 2 | Ivysaur               | Grass | Poison | 405 | 60 |  62 |  63 |  80 |  80 | 60 | 1 | FALSE |\n",
       "| 3 | Venusaur              | Grass | Poison | 525 | 80 |  82 |  83 | 100 | 100 | 80 | 1 | FALSE |\n",
       "| 3 | VenusaurMega Venusaur | Grass | Poison | 625 | 80 | 100 | 123 | 122 | 120 | 80 | 1 | FALSE |\n",
       "| 4 | Charmander            | Fire  | NA     | 309 | 39 |  52 |  43 |  60 |  50 | 65 | 1 | FALSE |\n",
       "| 5 | Charmeleon            | Fire  | NA     | 405 | 58 |  64 |  58 |  80 |  65 | 80 | 1 | FALSE |\n",
       "\n"
      ],
      "text/plain": [
       "  # Name                  Type 1 Type 2 Total HP Attack Defense Sp. Atk Sp. Def\n",
       "1 1 Bulbasaur             Grass  Poison 318   45  49     49      65      65    \n",
       "2 2 Ivysaur               Grass  Poison 405   60  62     63      80      80    \n",
       "3 3 Venusaur              Grass  Poison 525   80  82     83     100     100    \n",
       "4 3 VenusaurMega Venusaur Grass  Poison 625   80 100    123     122     120    \n",
       "5 4 Charmander            Fire   NA     309   39  52     43      60      50    \n",
       "6 5 Charmeleon            Fire   NA     405   58  64     58      80      65    \n",
       "  Speed Generation Legendary\n",
       "1 45    1          FALSE    \n",
       "2 60    1          FALSE    \n",
       "3 80    1          FALSE    \n",
       "4 80    1          FALSE    \n",
       "5 65    1          FALSE    \n",
       "6 80    1          FALSE    "
      ]
     },
     "metadata": {},
     "output_type": "display_data"
    }
   ],
   "source": [
    "#Reading web data using GitHub generated URL link\n",
    "\n",
    "url <- \"https://raw.githubusercontent.com/dlee03/DSCI_group_project/main/Pokemon.csv\" \n",
    "pokemon2 <- read_csv(url)\n",
    "head(pokemon2)"
   ]
  },
  {
   "cell_type": "code",
   "execution_count": 4,
   "id": "1e48d193",
   "metadata": {},
   "outputs": [
    {
     "data": {
      "text/html": [
       "<table class=\"dataframe\">\n",
       "<caption>A tibble: 6 × 13</caption>\n",
       "<thead>\n",
       "\t<tr><th scope=col>X.</th><th scope=col>Name</th><th scope=col>Type.1</th><th scope=col>Type.2</th><th scope=col>Total</th><th scope=col>HP</th><th scope=col>Attack</th><th scope=col>Defense</th><th scope=col>Sp..Atk</th><th scope=col>Sp..Def</th><th scope=col>Speed</th><th scope=col>Generation</th><th scope=col>Legendary</th></tr>\n",
       "\t<tr><th scope=col>&lt;dbl&gt;</th><th scope=col>&lt;chr&gt;</th><th scope=col>&lt;chr&gt;</th><th scope=col>&lt;chr&gt;</th><th scope=col>&lt;dbl&gt;</th><th scope=col>&lt;dbl&gt;</th><th scope=col>&lt;dbl&gt;</th><th scope=col>&lt;dbl&gt;</th><th scope=col>&lt;dbl&gt;</th><th scope=col>&lt;dbl&gt;</th><th scope=col>&lt;dbl&gt;</th><th scope=col>&lt;dbl&gt;</th><th scope=col>&lt;lgl&gt;</th></tr>\n",
       "</thead>\n",
       "<tbody>\n",
       "\t<tr><td>1</td><td>Bulbasaur            </td><td>Grass</td><td>Poison</td><td>318</td><td>45</td><td> 49</td><td> 49</td><td> 65</td><td> 65</td><td>45</td><td>1</td><td>FALSE</td></tr>\n",
       "\t<tr><td>2</td><td>Ivysaur              </td><td>Grass</td><td>Poison</td><td>405</td><td>60</td><td> 62</td><td> 63</td><td> 80</td><td> 80</td><td>60</td><td>1</td><td>FALSE</td></tr>\n",
       "\t<tr><td>3</td><td>Venusaur             </td><td>Grass</td><td>Poison</td><td>525</td><td>80</td><td> 82</td><td> 83</td><td>100</td><td>100</td><td>80</td><td>1</td><td>FALSE</td></tr>\n",
       "\t<tr><td>3</td><td>VenusaurMega Venusaur</td><td>Grass</td><td>Poison</td><td>625</td><td>80</td><td>100</td><td>123</td><td>122</td><td>120</td><td>80</td><td>1</td><td>FALSE</td></tr>\n",
       "\t<tr><td>4</td><td>Charmander           </td><td>Fire </td><td>NA    </td><td>309</td><td>39</td><td> 52</td><td> 43</td><td> 60</td><td> 50</td><td>65</td><td>1</td><td>FALSE</td></tr>\n",
       "\t<tr><td>5</td><td>Charmeleon           </td><td>Fire </td><td>NA    </td><td>405</td><td>58</td><td> 64</td><td> 58</td><td> 80</td><td> 65</td><td>80</td><td>1</td><td>FALSE</td></tr>\n",
       "</tbody>\n",
       "</table>\n"
      ],
      "text/latex": [
       "A tibble: 6 × 13\n",
       "\\begin{tabular}{lllllllllllll}\n",
       " X. & Name & Type.1 & Type.2 & Total & HP & Attack & Defense & Sp..Atk & Sp..Def & Speed & Generation & Legendary\\\\\n",
       " <dbl> & <chr> & <chr> & <chr> & <dbl> & <dbl> & <dbl> & <dbl> & <dbl> & <dbl> & <dbl> & <dbl> & <lgl>\\\\\n",
       "\\hline\n",
       "\t 1 & Bulbasaur             & Grass & Poison & 318 & 45 &  49 &  49 &  65 &  65 & 45 & 1 & FALSE\\\\\n",
       "\t 2 & Ivysaur               & Grass & Poison & 405 & 60 &  62 &  63 &  80 &  80 & 60 & 1 & FALSE\\\\\n",
       "\t 3 & Venusaur              & Grass & Poison & 525 & 80 &  82 &  83 & 100 & 100 & 80 & 1 & FALSE\\\\\n",
       "\t 3 & VenusaurMega Venusaur & Grass & Poison & 625 & 80 & 100 & 123 & 122 & 120 & 80 & 1 & FALSE\\\\\n",
       "\t 4 & Charmander            & Fire  & NA     & 309 & 39 &  52 &  43 &  60 &  50 & 65 & 1 & FALSE\\\\\n",
       "\t 5 & Charmeleon            & Fire  & NA     & 405 & 58 &  64 &  58 &  80 &  65 & 80 & 1 & FALSE\\\\\n",
       "\\end{tabular}\n"
      ],
      "text/markdown": [
       "\n",
       "A tibble: 6 × 13\n",
       "\n",
       "| X. &lt;dbl&gt; | Name &lt;chr&gt; | Type.1 &lt;chr&gt; | Type.2 &lt;chr&gt; | Total &lt;dbl&gt; | HP &lt;dbl&gt; | Attack &lt;dbl&gt; | Defense &lt;dbl&gt; | Sp..Atk &lt;dbl&gt; | Sp..Def &lt;dbl&gt; | Speed &lt;dbl&gt; | Generation &lt;dbl&gt; | Legendary &lt;lgl&gt; |\n",
       "|---|---|---|---|---|---|---|---|---|---|---|---|---|\n",
       "| 1 | Bulbasaur             | Grass | Poison | 318 | 45 |  49 |  49 |  65 |  65 | 45 | 1 | FALSE |\n",
       "| 2 | Ivysaur               | Grass | Poison | 405 | 60 |  62 |  63 |  80 |  80 | 60 | 1 | FALSE |\n",
       "| 3 | Venusaur              | Grass | Poison | 525 | 80 |  82 |  83 | 100 | 100 | 80 | 1 | FALSE |\n",
       "| 3 | VenusaurMega Venusaur | Grass | Poison | 625 | 80 | 100 | 123 | 122 | 120 | 80 | 1 | FALSE |\n",
       "| 4 | Charmander            | Fire  | NA     | 309 | 39 |  52 |  43 |  60 |  50 | 65 | 1 | FALSE |\n",
       "| 5 | Charmeleon            | Fire  | NA     | 405 | 58 |  64 |  58 |  80 |  65 | 80 | 1 | FALSE |\n",
       "\n"
      ],
      "text/plain": [
       "  X. Name                  Type.1 Type.2 Total HP Attack Defense Sp..Atk\n",
       "1 1  Bulbasaur             Grass  Poison 318   45  49     49      65    \n",
       "2 2  Ivysaur               Grass  Poison 405   60  62     63      80    \n",
       "3 3  Venusaur              Grass  Poison 525   80  82     83     100    \n",
       "4 3  VenusaurMega Venusaur Grass  Poison 625   80 100    123     122    \n",
       "5 4  Charmander            Fire   NA     309   39  52     43      60    \n",
       "6 5  Charmeleon            Fire   NA     405   58  64     58      80    \n",
       "  Sp..Def Speed Generation Legendary\n",
       "1  65     45    1          FALSE    \n",
       "2  80     60    1          FALSE    \n",
       "3 100     80    1          FALSE    \n",
       "4 120     80    1          FALSE    \n",
       "5  50     65    1          FALSE    \n",
       "6  65     80    1          FALSE    "
      ]
     },
     "metadata": {},
     "output_type": "display_data"
    }
   ],
   "source": [
    "#remove spaces in names and replace with '.'\n",
    "\n",
    "colnames(pokemon2) <- make.names(colnames(pokemon2)) \n",
    "head(pokemon2)"
   ]
  },
  {
   "cell_type": "code",
   "execution_count": 5,
   "id": "c36f5627",
   "metadata": {},
   "outputs": [
    {
     "data": {
      "text/html": [
       "<table class=\"dataframe\">\n",
       "<caption>A tibble: 6 × 7</caption>\n",
       "<thead>\n",
       "\t<tr><th scope=col>Name</th><th scope=col>Attack</th><th scope=col>Defense</th><th scope=col>Sp..Atk</th><th scope=col>Sp..Def</th><th scope=col>Speed</th><th scope=col>Legendary</th></tr>\n",
       "\t<tr><th scope=col>&lt;chr&gt;</th><th scope=col>&lt;dbl&gt;</th><th scope=col>&lt;dbl&gt;</th><th scope=col>&lt;dbl&gt;</th><th scope=col>&lt;dbl&gt;</th><th scope=col>&lt;dbl&gt;</th><th scope=col>&lt;lgl&gt;</th></tr>\n",
       "</thead>\n",
       "<tbody>\n",
       "\t<tr><td>Bulbasaur            </td><td> 49</td><td> 49</td><td> 65</td><td> 65</td><td>45</td><td>FALSE</td></tr>\n",
       "\t<tr><td>Ivysaur              </td><td> 62</td><td> 63</td><td> 80</td><td> 80</td><td>60</td><td>FALSE</td></tr>\n",
       "\t<tr><td>Venusaur             </td><td> 82</td><td> 83</td><td>100</td><td>100</td><td>80</td><td>FALSE</td></tr>\n",
       "\t<tr><td>VenusaurMega Venusaur</td><td>100</td><td>123</td><td>122</td><td>120</td><td>80</td><td>FALSE</td></tr>\n",
       "\t<tr><td>Charmander           </td><td> 52</td><td> 43</td><td> 60</td><td> 50</td><td>65</td><td>FALSE</td></tr>\n",
       "\t<tr><td>Charmeleon           </td><td> 64</td><td> 58</td><td> 80</td><td> 65</td><td>80</td><td>FALSE</td></tr>\n",
       "</tbody>\n",
       "</table>\n"
      ],
      "text/latex": [
       "A tibble: 6 × 7\n",
       "\\begin{tabular}{lllllll}\n",
       " Name & Attack & Defense & Sp..Atk & Sp..Def & Speed & Legendary\\\\\n",
       " <chr> & <dbl> & <dbl> & <dbl> & <dbl> & <dbl> & <lgl>\\\\\n",
       "\\hline\n",
       "\t Bulbasaur             &  49 &  49 &  65 &  65 & 45 & FALSE\\\\\n",
       "\t Ivysaur               &  62 &  63 &  80 &  80 & 60 & FALSE\\\\\n",
       "\t Venusaur              &  82 &  83 & 100 & 100 & 80 & FALSE\\\\\n",
       "\t VenusaurMega Venusaur & 100 & 123 & 122 & 120 & 80 & FALSE\\\\\n",
       "\t Charmander            &  52 &  43 &  60 &  50 & 65 & FALSE\\\\\n",
       "\t Charmeleon            &  64 &  58 &  80 &  65 & 80 & FALSE\\\\\n",
       "\\end{tabular}\n"
      ],
      "text/markdown": [
       "\n",
       "A tibble: 6 × 7\n",
       "\n",
       "| Name &lt;chr&gt; | Attack &lt;dbl&gt; | Defense &lt;dbl&gt; | Sp..Atk &lt;dbl&gt; | Sp..Def &lt;dbl&gt; | Speed &lt;dbl&gt; | Legendary &lt;lgl&gt; |\n",
       "|---|---|---|---|---|---|---|\n",
       "| Bulbasaur             |  49 |  49 |  65 |  65 | 45 | FALSE |\n",
       "| Ivysaur               |  62 |  63 |  80 |  80 | 60 | FALSE |\n",
       "| Venusaur              |  82 |  83 | 100 | 100 | 80 | FALSE |\n",
       "| VenusaurMega Venusaur | 100 | 123 | 122 | 120 | 80 | FALSE |\n",
       "| Charmander            |  52 |  43 |  60 |  50 | 65 | FALSE |\n",
       "| Charmeleon            |  64 |  58 |  80 |  65 | 80 | FALSE |\n",
       "\n"
      ],
      "text/plain": [
       "  Name                  Attack Defense Sp..Atk Sp..Def Speed Legendary\n",
       "1 Bulbasaur              49     49      65      65     45    FALSE    \n",
       "2 Ivysaur                62     63      80      80     60    FALSE    \n",
       "3 Venusaur               82     83     100     100     80    FALSE    \n",
       "4 VenusaurMega Venusaur 100    123     122     120     80    FALSE    \n",
       "5 Charmander             52     43      60      50     65    FALSE    \n",
       "6 Charmeleon             64     58      80      65     80    FALSE    "
      ]
     },
     "metadata": {},
     "output_type": "display_data"
    }
   ],
   "source": [
    "#summarize data that reports number of entries per column \n",
    "\n",
    "pokemon_selected <- pokemon2 |>\n",
    "    select(Name, Attack, Defense, Sp..Atk, Sp..Def, Speed, Legendary)\n",
    "head(pokemon_selected)"
   ]
  },
  {
   "cell_type": "code",
   "execution_count": 6,
   "id": "a440f4d1",
   "metadata": {},
   "outputs": [
    {
     "data": {
      "text/html": [
       "<table class=\"dataframe\">\n",
       "<caption>A tibble: 1 × 1</caption>\n",
       "<thead>\n",
       "\t<tr><th scope=col>counts</th></tr>\n",
       "\t<tr><th scope=col>&lt;int&gt;</th></tr>\n",
       "</thead>\n",
       "<tbody>\n",
       "\t<tr><td>800</td></tr>\n",
       "</tbody>\n",
       "</table>\n"
      ],
      "text/latex": [
       "A tibble: 1 × 1\n",
       "\\begin{tabular}{l}\n",
       " counts\\\\\n",
       " <int>\\\\\n",
       "\\hline\n",
       "\t 800\\\\\n",
       "\\end{tabular}\n"
      ],
      "text/markdown": [
       "\n",
       "A tibble: 1 × 1\n",
       "\n",
       "| counts &lt;int&gt; |\n",
       "|---|\n",
       "| 800 |\n",
       "\n"
      ],
      "text/plain": [
       "  counts\n",
       "1 800   "
      ]
     },
     "metadata": {},
     "output_type": "display_data"
    }
   ],
   "source": [
    "#find counts in each\n",
    "pokemon_counts <- pokemon_selected |> \n",
    "    group_by() |>\n",
    "    summarize(counts = n())\n",
    "head(pokemon_counts)"
   ]
  },
  {
   "cell_type": "code",
   "execution_count": 7,
   "id": "e4c27eea",
   "metadata": {},
   "outputs": [
    {
     "data": {
      "text/html": [
       "0"
      ],
      "text/latex": [
       "0"
      ],
      "text/markdown": [
       "0"
      ],
      "text/plain": [
       "[1] 0"
      ]
     },
     "metadata": {},
     "output_type": "display_data"
    }
   ],
   "source": [
    "sum(is.na(pokemon_counts)) #check if there is any missing data in the dataframe"
   ]
  },
  {
   "cell_type": "code",
   "execution_count": 8,
   "id": "2029ce63",
   "metadata": {},
   "outputs": [],
   "source": [
    "#convert the character variable to the factor datatype\n",
    "pokemon_data <- pokemon_selected |>\n",
    "    mutate(Legendary = as_factor(Legendary)) "
   ]
  },
  {
   "cell_type": "code",
   "execution_count": 9,
   "id": "47c9c7b3",
   "metadata": {},
   "outputs": [],
   "source": [
    "#make training data set\n",
    "pokemon_split <- initial_split(pokemon_selected, prop = 0.75, strata = Legendary)\n",
    "pokemon_train <- training(pokemon_split)\n",
    "pokemon_test <- testing(pokemon_split)\n",
    "#convert Legendary column into factor instead of boolean for both training and testing data\n",
    "pokemon_train <- pokemon_train |>\n",
    "    mutate(Legendary = as_factor(Legendary)) \n",
    "pokemon_test <- pokemon_test |>\n",
    "    mutate(Legendary = as_factor(Legendary)) "
   ]
  },
  {
   "cell_type": "code",
   "execution_count": 10,
   "id": "2e8d3251",
   "metadata": {},
   "outputs": [
    {
     "data": {
      "text/html": [
       "600"
      ],
      "text/latex": [
       "600"
      ],
      "text/markdown": [
       "600"
      ],
      "text/plain": [
       "[1] 600"
      ]
     },
     "metadata": {},
     "output_type": "display_data"
    },
    {
     "data": {
      "text/html": [
       "<table class=\"dataframe\">\n",
       "<caption>A tibble: 1 × 6</caption>\n",
       "<thead>\n",
       "\t<tr><th scope=col>Attack</th><th scope=col>Defense</th><th scope=col>Sp..Atk</th><th scope=col>Sp..Def</th><th scope=col>Speed</th><th scope=col>n_training_pokemon</th></tr>\n",
       "\t<tr><th scope=col>&lt;dbl&gt;</th><th scope=col>&lt;dbl&gt;</th><th scope=col>&lt;dbl&gt;</th><th scope=col>&lt;dbl&gt;</th><th scope=col>&lt;dbl&gt;</th><th scope=col>&lt;dbl&gt;</th></tr>\n",
       "</thead>\n",
       "<tbody>\n",
       "\t<tr><td>79.845</td><td>74.08167</td><td>72.98833</td><td>70.38167</td><td>68.60833</td><td>600</td></tr>\n",
       "</tbody>\n",
       "</table>\n"
      ],
      "text/latex": [
       "A tibble: 1 × 6\n",
       "\\begin{tabular}{llllll}\n",
       " Attack & Defense & Sp..Atk & Sp..Def & Speed & n\\_training\\_pokemon\\\\\n",
       " <dbl> & <dbl> & <dbl> & <dbl> & <dbl> & <dbl>\\\\\n",
       "\\hline\n",
       "\t 79.845 & 74.08167 & 72.98833 & 70.38167 & 68.60833 & 600\\\\\n",
       "\\end{tabular}\n"
      ],
      "text/markdown": [
       "\n",
       "A tibble: 1 × 6\n",
       "\n",
       "| Attack &lt;dbl&gt; | Defense &lt;dbl&gt; | Sp..Atk &lt;dbl&gt; | Sp..Def &lt;dbl&gt; | Speed &lt;dbl&gt; | n_training_pokemon &lt;dbl&gt; |\n",
       "|---|---|---|---|---|---|\n",
       "| 79.845 | 74.08167 | 72.98833 | 70.38167 | 68.60833 | 600 |\n",
       "\n"
      ],
      "text/plain": [
       "  Attack Defense  Sp..Atk  Sp..Def  Speed    n_training_pokemon\n",
       "1 79.845 74.08167 72.98833 70.38167 68.60833 600               "
      ]
     },
     "metadata": {},
     "output_type": "display_data"
    }
   ],
   "source": [
    "#table of the mean stats of the training set pokemon, and the number of pokemon used in the training set.\n",
    "nrow(pokemon_train)\n",
    "mean_stats_table <- pokemon_train |> \n",
    "    summarize(across(Attack:Speed, mean)) |>\n",
    "    add_column(n_training_pokemon = 600)\n",
    "mean_stats_table"
   ]
  },
  {
   "cell_type": "code",
   "execution_count": 11,
   "id": "586afaba-c1df-42d1-bde6-c05e65078269",
   "metadata": {},
   "outputs": [],
   "source": [
    "#create a recipe and model for the analysis\n",
    "\n",
    "pokemon_recipe <- recipe(Legendary ~ Attack +  Defense + Speed + Sp..Atk + Sp..Def, data = pokemon_train) |>\n",
    "                    step_scale(all_predictors()) |>\n",
    "                    step_center(all_predictors()) |>\n",
    "                    step_upsample(Legendary, over_ratio = 1, skip = TRUE)\n",
    "\n",
    "pokemon_spec <- nearest_neighbor(weight_func = \"rectangular\", neighbors = tune()) |>\n",
    "                set_engine(\"kknn\") |>\n",
    "                set_mode(\"classification\")"
   ]
  },
  {
   "cell_type": "code",
   "execution_count": 12,
   "id": "13447fec-32f5-4465-8130-5ede410f0bbe",
   "metadata": {},
   "outputs": [
    {
     "data": {
      "text/html": [
       "<table class=\"dataframe\">\n",
       "<caption>A tibble: 6 × 7</caption>\n",
       "<thead>\n",
       "\t<tr><th scope=col>neighbors</th><th scope=col>.metric</th><th scope=col>.estimator</th><th scope=col>mean</th><th scope=col>n</th><th scope=col>std_err</th><th scope=col>.config</th></tr>\n",
       "\t<tr><th scope=col>&lt;dbl&gt;</th><th scope=col>&lt;chr&gt;</th><th scope=col>&lt;chr&gt;</th><th scope=col>&lt;dbl&gt;</th><th scope=col>&lt;int&gt;</th><th scope=col>&lt;dbl&gt;</th><th scope=col>&lt;chr&gt;</th></tr>\n",
       "</thead>\n",
       "<tbody>\n",
       "\t<tr><td>1</td><td>accuracy</td><td>binary</td><td>0.930</td><td>10</td><td>0.008534606</td><td>Preprocessor1_Model01</td></tr>\n",
       "\t<tr><td>2</td><td>accuracy</td><td>binary</td><td>0.930</td><td>10</td><td>0.008534606</td><td>Preprocessor1_Model02</td></tr>\n",
       "\t<tr><td>3</td><td>accuracy</td><td>binary</td><td>0.915</td><td>10</td><td>0.008407081</td><td>Preprocessor1_Model03</td></tr>\n",
       "\t<tr><td>4</td><td>accuracy</td><td>binary</td><td>0.915</td><td>10</td><td>0.008407081</td><td>Preprocessor1_Model04</td></tr>\n",
       "\t<tr><td>5</td><td>accuracy</td><td>binary</td><td>0.910</td><td>10</td><td>0.011166528</td><td>Preprocessor1_Model05</td></tr>\n",
       "\t<tr><td>6</td><td>accuracy</td><td>binary</td><td>0.910</td><td>10</td><td>0.011166528</td><td>Preprocessor1_Model06</td></tr>\n",
       "</tbody>\n",
       "</table>\n"
      ],
      "text/latex": [
       "A tibble: 6 × 7\n",
       "\\begin{tabular}{lllllll}\n",
       " neighbors & .metric & .estimator & mean & n & std\\_err & .config\\\\\n",
       " <dbl> & <chr> & <chr> & <dbl> & <int> & <dbl> & <chr>\\\\\n",
       "\\hline\n",
       "\t 1 & accuracy & binary & 0.930 & 10 & 0.008534606 & Preprocessor1\\_Model01\\\\\n",
       "\t 2 & accuracy & binary & 0.930 & 10 & 0.008534606 & Preprocessor1\\_Model02\\\\\n",
       "\t 3 & accuracy & binary & 0.915 & 10 & 0.008407081 & Preprocessor1\\_Model03\\\\\n",
       "\t 4 & accuracy & binary & 0.915 & 10 & 0.008407081 & Preprocessor1\\_Model04\\\\\n",
       "\t 5 & accuracy & binary & 0.910 & 10 & 0.011166528 & Preprocessor1\\_Model05\\\\\n",
       "\t 6 & accuracy & binary & 0.910 & 10 & 0.011166528 & Preprocessor1\\_Model06\\\\\n",
       "\\end{tabular}\n"
      ],
      "text/markdown": [
       "\n",
       "A tibble: 6 × 7\n",
       "\n",
       "| neighbors &lt;dbl&gt; | .metric &lt;chr&gt; | .estimator &lt;chr&gt; | mean &lt;dbl&gt; | n &lt;int&gt; | std_err &lt;dbl&gt; | .config &lt;chr&gt; |\n",
       "|---|---|---|---|---|---|---|\n",
       "| 1 | accuracy | binary | 0.930 | 10 | 0.008534606 | Preprocessor1_Model01 |\n",
       "| 2 | accuracy | binary | 0.930 | 10 | 0.008534606 | Preprocessor1_Model02 |\n",
       "| 3 | accuracy | binary | 0.915 | 10 | 0.008407081 | Preprocessor1_Model03 |\n",
       "| 4 | accuracy | binary | 0.915 | 10 | 0.008407081 | Preprocessor1_Model04 |\n",
       "| 5 | accuracy | binary | 0.910 | 10 | 0.011166528 | Preprocessor1_Model05 |\n",
       "| 6 | accuracy | binary | 0.910 | 10 | 0.011166528 | Preprocessor1_Model06 |\n",
       "\n"
      ],
      "text/plain": [
       "  neighbors .metric  .estimator mean  n  std_err     .config              \n",
       "1 1         accuracy binary     0.930 10 0.008534606 Preprocessor1_Model01\n",
       "2 2         accuracy binary     0.930 10 0.008534606 Preprocessor1_Model02\n",
       "3 3         accuracy binary     0.915 10 0.008407081 Preprocessor1_Model03\n",
       "4 4         accuracy binary     0.915 10 0.008407081 Preprocessor1_Model04\n",
       "5 5         accuracy binary     0.910 10 0.011166528 Preprocessor1_Model05\n",
       "6 6         accuracy binary     0.910 10 0.011166528 Preprocessor1_Model06"
      ]
     },
     "metadata": {},
     "output_type": "display_data"
    },
    {
     "data": {
      "image/png": "[encoded data removed]",
      "text/plain": [
       "plot without title"
      ]
     },
     "metadata": {
      "image/png": {
       "height": 420,
       "width": 420
      }
     },
     "output_type": "display_data"
    }
   ],
   "source": [
    "#cross-validate and tune the model using a 10-fold cross-validation\n",
    "pokemon_vfold <- vfold_cv(pokemon_train, v = 10, strata = Legendary)\n",
    "\n",
    "kvals <- tibble(neighbors = seq(from = 1, to = 50, by = 1))\n",
    "\n",
    "pokemon_k_test <- workflow() |>\n",
    "    add_recipe(pokemon_recipe) |>\n",
    "    add_model(pokemon_spec) |>\n",
    "    tune_grid(resamples = pokemon_vfold, grid = kvals) |>\n",
    "    collect_metrics()\n",
    "\n",
    "accuracies <- pokemon_k_test |>\n",
    "    filter(.metric == \"accuracy\")\n",
    "head(accuracies)\n",
    "\n",
    "k_val_plot <-  ggplot(accuracies, aes(x = neighbors, y = mean))+\n",
    "       geom_point() +\n",
    "       geom_line() +\n",
    "       labs(x = \"Neighbors\", y = \"Accuracy Estimate\") +\n",
    "       scale_x_continuous(breaks = seq(0, 14, by = 1)) +  \n",
    "       scale_y_continuous(limits = c(0.4, 1.0)) \n",
    "k_val_plot\n",
    "\n"
   ]
  },
  {
   "cell_type": "code",
   "execution_count": 13,
   "id": "6dd52d00-7fe2-49e0-874c-27cf9810ac9a",
   "metadata": {},
   "outputs": [
    {
     "name": "stderr",
     "output_type": "stream",
     "text": [
      "Warning message:\n",
      "“tune samples were requested but there were 1100 rows in the data. 1095 will be used.”\n",
      "\n",
      "\n",
      "\u001b[36m──\u001b[39m \u001b[1mRecipe\u001b[22m \u001b[36m──────────────────────────────────────────────────────────────────────\u001b[39m\n",
      "\n",
      "\n",
      "\n",
      "── Inputs \n",
      "\n",
      "Number of variables by role\n",
      "\n",
      "outcome:   1\n",
      "predictor: 5\n",
      "\n",
      "\n",
      "\n",
      "── Operations \n",
      "\n",
      "\u001b[36m•\u001b[39m Scaling for: \u001b[34mall_predictors()\u001b[39m\n",
      "\n",
      "\u001b[36m•\u001b[39m Centering for: \u001b[34mall_predictors()\u001b[39m\n",
      "\n",
      "\u001b[36m•\u001b[39m Up-sampling based on: \u001b[34mLegendary\u001b[39m\n",
      "\n"
     ]
    },
    {
     "data": {
      "text/plain": [
       "$pre\n",
       "$actions\n",
       "$actions$recipe\n",
       "$recipe\n",
       "\n",
       "$blueprint\n",
       "Recipe blueprint: \n",
       " \n",
       "# Predictors: 0 \n",
       "  # Outcomes: 0 \n",
       "   Intercept: FALSE \n",
       "Novel Levels: FALSE \n",
       " Composition: tibble \n",
       "\n",
       "attr(,\"class\")\n",
       "[1] \"action_recipe\" \"action_pre\"    \"action\"       \n",
       "\n",
       "\n",
       "$mold\n",
       "$mold$predictors\n",
       "\u001b[90m# A tibble: 1,100 × 5\u001b[39m\n",
       "    Attack Defense  Speed Sp..Atk Sp..Def\n",
       "     \u001b[3m\u001b[90m<dbl>\u001b[39m\u001b[23m   \u001b[3m\u001b[90m<dbl>\u001b[39m\u001b[23m  \u001b[3m\u001b[90m<dbl>\u001b[39m\u001b[23m   \u001b[3m\u001b[90m<dbl>\u001b[39m\u001b[23m   \u001b[3m\u001b[90m<dbl>\u001b[39m\u001b[23m\n",
       "\u001b[90m 1\u001b[39m -\u001b[31m0\u001b[39m\u001b[31m.\u001b[39m\u001b[31m953\u001b[39m   -\u001b[31m0\u001b[39m\u001b[31m.\u001b[39m\u001b[31m790\u001b[39m -\u001b[31m0\u001b[39m\u001b[31m.\u001b[39m\u001b[31m815\u001b[39m  -\u001b[31m0\u001b[39m\u001b[31m.\u001b[39m\u001b[31m241\u001b[39m  -\u001b[31m0\u001b[39m\u001b[31m.\u001b[39m\u001b[31m205\u001b[39m\n",
       "\u001b[90m 2\u001b[39m -\u001b[31m0\u001b[39m\u001b[31m.\u001b[39m\u001b[31m551\u001b[39m   -\u001b[31m0\u001b[39m\u001b[31m.\u001b[39m\u001b[31m349\u001b[39m -\u001b[31m0\u001b[39m\u001b[31m.\u001b[39m\u001b[31m297\u001b[39m   0.211   0.367\n",
       "\u001b[90m 3\u001b[39m  0.622    1.54   0.393   1.48    1.89 \n",
       "\u001b[90m 4\u001b[39m -\u001b[31m0\u001b[39m\u001b[31m.\u001b[39m\u001b[31m489\u001b[39m   -\u001b[31m0\u001b[39m\u001b[31m.\u001b[39m\u001b[31m507\u001b[39m  0.393   0.211  -\u001b[31m0\u001b[39m\u001b[31m.\u001b[39m\u001b[31m205\u001b[39m\n",
       "\u001b[90m 5\u001b[39m  0.128    0.123  1.08    1.08    0.557\n",
       "\u001b[90m 6\u001b[39m  0.746    0.123  1.08    2.59    1.70 \n",
       "\u001b[90m 7\u001b[39m -\u001b[31m0\u001b[39m\u001b[31m.\u001b[39m\u001b[31m984\u001b[39m   -\u001b[31m0\u001b[39m\u001b[31m.\u001b[39m\u001b[31m286\u001b[39m -\u001b[31m0\u001b[39m\u001b[31m.\u001b[39m\u001b[31m884\u001b[39m  -\u001b[31m0\u001b[39m\u001b[31m.\u001b[39m\u001b[31m693\u001b[39m  -\u001b[31m0\u001b[39m\u001b[31m.\u001b[39m\u001b[31m243\u001b[39m\n",
       "\u001b[90m 8\u001b[39m -\u001b[31m0\u001b[39m\u001b[31m.\u001b[39m\u001b[31m520\u001b[39m    0.186 -\u001b[31m0\u001b[39m\u001b[31m.\u001b[39m\u001b[31m366\u001b[39m  -\u001b[31m0\u001b[39m\u001b[31m.\u001b[39m\u001b[31m241\u001b[39m   0.367\n",
       "\u001b[90m 9\u001b[39m  0.097\u001b[4m4\u001b[24m   0.817  0.324   0.362   1.32 \n",
       "\u001b[90m10\u001b[39m  0.715    1.45   0.324   1.87    1.70 \n",
       "\u001b[90m# ℹ 1,090 more rows\u001b[39m\n",
       "\n",
       "$mold$outcomes\n",
       "\u001b[90m# A tibble: 1,100 × 1\u001b[39m\n",
       "   Legendary\n",
       "   \u001b[3m\u001b[90m<fct>\u001b[39m\u001b[23m    \n",
       "\u001b[90m 1\u001b[39m FALSE    \n",
       "\u001b[90m 2\u001b[39m FALSE    \n",
       "\u001b[90m 3\u001b[39m FALSE    \n",
       "\u001b[90m 4\u001b[39m FALSE    \n",
       "\u001b[90m 5\u001b[39m FALSE    \n",
       "\u001b[90m 6\u001b[39m FALSE    \n",
       "\u001b[90m 7\u001b[39m FALSE    \n",
       "\u001b[90m 8\u001b[39m FALSE    \n",
       "\u001b[90m 9\u001b[39m FALSE    \n",
       "\u001b[90m10\u001b[39m FALSE    \n",
       "\u001b[90m# ℹ 1,090 more rows\u001b[39m\n",
       "\n",
       "$mold$blueprint\n",
       "Recipe blueprint: \n",
       " \n",
       "# Predictors: 5 \n",
       "  # Outcomes: 1 \n",
       "   Intercept: FALSE \n",
       "Novel Levels: FALSE \n",
       " Composition: tibble \n",
       "\n",
       "$mold$extras\n",
       "$mold$extras$roles\n",
       "NULL\n",
       "\n",
       "\n",
       "\n",
       "$case_weights\n",
       "NULL\n",
       "\n",
       "attr(,\"class\")\n",
       "[1] \"stage_pre\" \"stage\"    \n",
       "\n",
       "$fit\n",
       "$actions\n",
       "$actions$model\n",
       "$spec\n",
       "K-Nearest Neighbor Model Specification (classification)\n",
       "\n",
       "Main Arguments:\n",
       "  neighbors = tune()\n",
       "  weight_func = rectangular\n",
       "\n",
       "Computational engine: kknn \n",
       "\n",
       "\n",
       "$formula\n",
       "NULL\n",
       "\n",
       "attr(,\"class\")\n",
       "[1] \"action_model\" \"action_fit\"   \"action\"      \n",
       "\n",
       "\n",
       "$fit\n",
       "parsnip model object\n",
       "\n",
       "\n",
       "Call:\n",
       "kknn::train.kknn(formula = ..y ~ ., data = data, ks = min_rows(tune(),     data, 5), kernel = ~\"rectangular\")\n",
       "\n",
       "Type of response variable: nominal\n",
       "Minimal misclassification: 0.38\n",
       "Best kernel: rectangular\n",
       "Best k: 1095\n",
       "\n",
       "attr(,\"class\")\n",
       "[1] \"stage_fit\" \"stage\"    \n",
       "\n",
       "$post\n",
       "$actions\n",
       "named list()\n",
       "\n",
       "attr(,\"class\")\n",
       "[1] \"stage_post\" \"stage\"     \n",
       "\n",
       "$trained\n",
       "[1] TRUE\n"
      ]
     },
     "metadata": {},
     "output_type": "display_data"
    }
   ],
   "source": [
    "#create a new model with k = 5\n",
    "pokemon_best_spec <- nearest_neighbor(weight_func = \"rectangular\", neighbors = 5) |>\n",
    "                set_engine(\"kknn\") |>\n",
    "                set_mode(\"classification\")\n",
    "\n",
    "pokemon_fit <- workflow() |>\n",
    "    add_recipe(pokemon_recipe) |>\n",
    "    add_model(pokemon_spec) |>\n",
    "    fit(data = pokemon_train)\n",
    "head(pokemon_fit)\n"
   ]
  },
  {
   "cell_type": "markdown",
   "id": "b7172187-ef5d-4c7d-bfa1-a4a60fec45dc",
   "metadata": {},
   "source": []
  },
  {
   "cell_type": "code",
   "execution_count": 15,
   "id": "8f1deecd-cccf-4ce4-838d-d0b498dbe006",
   "metadata": {},
   "outputs": [
    {
     "data": {
      "text/html": [
       "<table class=\"dataframe\">\n",
       "<caption>A tibble: 6 × 8</caption>\n",
       "<thead>\n",
       "\t<tr><th scope=col>.pred_class</th><th scope=col>Name</th><th scope=col>Attack</th><th scope=col>Defense</th><th scope=col>Sp..Atk</th><th scope=col>Sp..Def</th><th scope=col>Speed</th><th scope=col>Legendary</th></tr>\n",
       "\t<tr><th scope=col>&lt;fct&gt;</th><th scope=col>&lt;chr&gt;</th><th scope=col>&lt;dbl&gt;</th><th scope=col>&lt;dbl&gt;</th><th scope=col>&lt;dbl&gt;</th><th scope=col>&lt;dbl&gt;</th><th scope=col>&lt;dbl&gt;</th><th scope=col>&lt;fct&gt;</th></tr>\n",
       "</thead>\n",
       "<tbody>\n",
       "\t<tr><td>FALSE</td><td>Bulbasaur                </td><td> 49</td><td> 49</td><td> 65</td><td> 65</td><td> 45</td><td>FALSE</td></tr>\n",
       "\t<tr><td>FALSE</td><td>Ivysaur                  </td><td> 62</td><td> 63</td><td> 80</td><td> 80</td><td> 60</td><td>FALSE</td></tr>\n",
       "\t<tr><td>FALSE</td><td>VenusaurMega Venusaur    </td><td>100</td><td>123</td><td>122</td><td>120</td><td> 80</td><td>FALSE</td></tr>\n",
       "\t<tr><td>FALSE</td><td>Charmeleon               </td><td> 64</td><td> 58</td><td> 80</td><td> 65</td><td> 80</td><td>FALSE</td></tr>\n",
       "\t<tr><td>TRUE </td><td>Charizard                </td><td> 84</td><td> 78</td><td>109</td><td> 85</td><td>100</td><td>FALSE</td></tr>\n",
       "\t<tr><td>TRUE </td><td>CharizardMega Charizard Y</td><td>104</td><td> 78</td><td>159</td><td>115</td><td>100</td><td>FALSE</td></tr>\n",
       "</tbody>\n",
       "</table>\n"
      ],
      "text/latex": [
       "A tibble: 6 × 8\n",
       "\\begin{tabular}{llllllll}\n",
       " .pred\\_class & Name & Attack & Defense & Sp..Atk & Sp..Def & Speed & Legendary\\\\\n",
       " <fct> & <chr> & <dbl> & <dbl> & <dbl> & <dbl> & <dbl> & <fct>\\\\\n",
       "\\hline\n",
       "\t FALSE & Bulbasaur                 &  49 &  49 &  65 &  65 &  45 & FALSE\\\\\n",
       "\t FALSE & Ivysaur                   &  62 &  63 &  80 &  80 &  60 & FALSE\\\\\n",
       "\t FALSE & VenusaurMega Venusaur     & 100 & 123 & 122 & 120 &  80 & FALSE\\\\\n",
       "\t FALSE & Charmeleon                &  64 &  58 &  80 &  65 &  80 & FALSE\\\\\n",
       "\t TRUE  & Charizard                 &  84 &  78 & 109 &  85 & 100 & FALSE\\\\\n",
       "\t TRUE  & CharizardMega Charizard Y & 104 &  78 & 159 & 115 & 100 & FALSE\\\\\n",
       "\\end{tabular}\n"
      ],
      "text/markdown": [
       "\n",
       "A tibble: 6 × 8\n",
       "\n",
       "| .pred_class &lt;fct&gt; | Name &lt;chr&gt; | Attack &lt;dbl&gt; | Defense &lt;dbl&gt; | Sp..Atk &lt;dbl&gt; | Sp..Def &lt;dbl&gt; | Speed &lt;dbl&gt; | Legendary &lt;fct&gt; |\n",
       "|---|---|---|---|---|---|---|---|\n",
       "| FALSE | Bulbasaur                 |  49 |  49 |  65 |  65 |  45 | FALSE |\n",
       "| FALSE | Ivysaur                   |  62 |  63 |  80 |  80 |  60 | FALSE |\n",
       "| FALSE | VenusaurMega Venusaur     | 100 | 123 | 122 | 120 |  80 | FALSE |\n",
       "| FALSE | Charmeleon                |  64 |  58 |  80 |  65 |  80 | FALSE |\n",
       "| TRUE  | Charizard                 |  84 |  78 | 109 |  85 | 100 | FALSE |\n",
       "| TRUE  | CharizardMega Charizard Y | 104 |  78 | 159 | 115 | 100 | FALSE |\n",
       "\n"
      ],
      "text/plain": [
       "  .pred_class Name                      Attack Defense Sp..Atk Sp..Def Speed\n",
       "1 FALSE       Bulbasaur                  49     49      65      65      45  \n",
       "2 FALSE       Ivysaur                    62     63      80      80      60  \n",
       "3 FALSE       VenusaurMega Venusaur     100    123     122     120      80  \n",
       "4 FALSE       Charmeleon                 64     58      80      65      80  \n",
       "5 TRUE        Charizard                  84     78     109      85     100  \n",
       "6 TRUE        CharizardMega Charizard Y 104     78     159     115     100  \n",
       "  Legendary\n",
       "1 FALSE    \n",
       "2 FALSE    \n",
       "3 FALSE    \n",
       "4 FALSE    \n",
       "5 FALSE    \n",
       "6 FALSE    "
      ]
     },
     "metadata": {},
     "output_type": "display_data"
    },
    {
     "data": {
      "text/html": [
       "<table class=\"dataframe\">\n",
       "<caption>A tibble: 1 × 3</caption>\n",
       "<thead>\n",
       "\t<tr><th scope=col>.metric</th><th scope=col>.estimator</th><th scope=col>.estimate</th></tr>\n",
       "\t<tr><th scope=col>&lt;chr&gt;</th><th scope=col>&lt;chr&gt;</th><th scope=col>&lt;dbl&gt;</th></tr>\n",
       "</thead>\n",
       "<tbody>\n",
       "\t<tr><td>accuracy</td><td>binary</td><td>0.8066667</td></tr>\n",
       "</tbody>\n",
       "</table>\n"
      ],
      "text/latex": [
       "A tibble: 1 × 3\n",
       "\\begin{tabular}{lll}\n",
       " .metric & .estimator & .estimate\\\\\n",
       " <chr> & <chr> & <dbl>\\\\\n",
       "\\hline\n",
       "\t accuracy & binary & 0.8066667\\\\\n",
       "\\end{tabular}\n"
      ],
      "text/markdown": [
       "\n",
       "A tibble: 1 × 3\n",
       "\n",
       "| .metric &lt;chr&gt; | .estimator &lt;chr&gt; | .estimate &lt;dbl&gt; |\n",
       "|---|---|---|\n",
       "| accuracy | binary | 0.8066667 |\n",
       "\n"
      ],
      "text/plain": [
       "  .metric  .estimator .estimate\n",
       "1 accuracy binary     0.8066667"
      ]
     },
     "metadata": {},
     "output_type": "display_data"
    },
    {
     "data": {
      "text/plain": [
       "          Truth\n",
       "Prediction FALSE TRUE\n",
       "     FALSE   447   13\n",
       "     TRUE    103   37"
      ]
     },
     "metadata": {},
     "output_type": "display_data"
    }
   ],
   "source": [
    "pokemon_predictions <- predict(pokemon_fit, pokemon_train) |>\n",
    "                     bind_cols(pokemon_train) \n",
    "head(pokemon_predictions)    \n",
    "\n",
    "pokemon_metrics <- pokemon_predictions |>\n",
    "                 metrics(truth = Legendary, estimate = .pred_class) |>\n",
    "                 filter(.metric == \"accuracy\")\n",
    "pokemon_metrics\n",
    "\n",
    "pokemon_conf_mat <- pokemon_predictions |>\n",
    "                  conf_mat(truth = Legendary, estimate = .pred_class)\n",
    "\n",
    "pokemon_conf_mat"
   ]
  },
  {
   "cell_type": "markdown",
   "id": "0cd10474-c356-45cd-91ec-28134968b2e8",
   "metadata": {},
   "source": [
    "Discussion: \n"
   ]
  },
  {
   "cell_type": "code",
   "execution_count": null,
   "id": "eddf4623-4554-4a73-9c08-8d076c2f0e5e",
   "metadata": {},
   "outputs": [],
   "source": [
    "Citations:\n"
   ]
  }
 ],
 "metadata": {
  "kernelspec": {
   "display_name": "R",
   "language": "R",
   "name": "ir"
  },
  "language_info": {
   "codemirror_mode": "r",
   "file_extension": ".r",
   "mimetype": "text/x-r-source",
   "name": "R",
   "pygments_lexer": "r",
   "version": "4.1.3"
  }
 },
 "nbformat": 4,
 "nbformat_minor": 5
}
